{
  "nbformat": 4,
  "nbformat_minor": 0,
  "metadata": {
    "colab": {
      "name": "1840114_Program9.ipynb",
      "provenance": [],
      "collapsed_sections": [],
      "toc_visible": true,
      "include_colab_link": true
    },
    "kernelspec": {
      "name": "python3",
      "display_name": "Python 3"
    }
  },
  "cells": [
    {
      "cell_type": "markdown",
      "metadata": {
        "id": "view-in-github",
        "colab_type": "text"
      },
      "source": [
        "<a href=\"https://colab.research.google.com/github/ronnyboi/Data_Analytics/blob/main/Program%209%3A%20Auto%20Regression/Ron_Program9.ipynb\" target=\"_parent\"><img src=\"https://colab.research.google.com/assets/colab-badge.svg\" alt=\"Open In Colab\"/></a>"
      ]
    },
    {
      "cell_type": "markdown",
      "metadata": {
        "id": "ycLidnMtUmqj"
      },
      "source": [
        "# Auto Regression"
      ]
    },
    {
      "cell_type": "markdown",
      "metadata": {
        "id": "phUg-HZAfYYm"
      },
      "source": [
        "Use a dataset and implement Autoregression.\n",
        "Predict and visualize the results.\n",
        "Print the MSE/RMSE/SSE."
      ]
    },
    {
      "cell_type": "markdown",
      "metadata": {
        "id": "G-u-TjHZf5Xb"
      },
      "source": [
        "This datset is taken from https://www.kaggle.com/dgawlik/nyse?select=prices.csv"
      ]
    },
    {
      "cell_type": "markdown",
      "metadata": {
        "id": "7Bs4_yRXzDwq"
      },
      "source": [
        "**New York Stock Prices**"
      ]
    },
    {
      "cell_type": "code",
      "metadata": {
        "id": "vCz2vvxPUXqc"
      },
      "source": [
        "import pandas as pd\n",
        "from matplotlib import pyplot as plt\n",
        "from statsmodels.tsa.ar_model import AR\n",
        "from sklearn.metrics import mean_squared_error\n",
        "from math import sqrt\n",
        "import pandas as pd"
      ],
      "execution_count": null,
      "outputs": []
    },
    {
      "cell_type": "code",
      "metadata": {
        "id": "kqHHUzWQVYFZ",
        "colab": {
          "base_uri": "https://localhost:8080/",
          "height": 197
        },
        "outputId": "88aa7bc4-3766-43e2-a499-521bd00198fc"
      },
      "source": [
        "import pandas as pd\n",
        "pd.set_option('max_columns', None)\n",
        "import numpy as np\n",
        "df = pd.read_csv(\"prices.csv\", parse_dates=['date'])\n",
        "df.head()"
      ],
      "execution_count": null,
      "outputs": [
        {
          "output_type": "execute_result",
          "data": {
            "text/html": [
              "<div>\n",
              "<style scoped>\n",
              "    .dataframe tbody tr th:only-of-type {\n",
              "        vertical-align: middle;\n",
              "    }\n",
              "\n",
              "    .dataframe tbody tr th {\n",
              "        vertical-align: top;\n",
              "    }\n",
              "\n",
              "    .dataframe thead th {\n",
              "        text-align: right;\n",
              "    }\n",
              "</style>\n",
              "<table border=\"1\" class=\"dataframe\">\n",
              "  <thead>\n",
              "    <tr style=\"text-align: right;\">\n",
              "      <th></th>\n",
              "      <th>date</th>\n",
              "      <th>symbol</th>\n",
              "      <th>open</th>\n",
              "      <th>close</th>\n",
              "      <th>low</th>\n",
              "      <th>high</th>\n",
              "      <th>volume</th>\n",
              "    </tr>\n",
              "  </thead>\n",
              "  <tbody>\n",
              "    <tr>\n",
              "      <th>0</th>\n",
              "      <td>2016-01-05</td>\n",
              "      <td>WLTW</td>\n",
              "      <td>123.430000</td>\n",
              "      <td>125.839996</td>\n",
              "      <td>122.309998</td>\n",
              "      <td>126.250000</td>\n",
              "      <td>2163600.0</td>\n",
              "    </tr>\n",
              "    <tr>\n",
              "      <th>1</th>\n",
              "      <td>2016-01-06</td>\n",
              "      <td>WLTW</td>\n",
              "      <td>125.239998</td>\n",
              "      <td>119.980003</td>\n",
              "      <td>119.940002</td>\n",
              "      <td>125.540001</td>\n",
              "      <td>2386400.0</td>\n",
              "    </tr>\n",
              "    <tr>\n",
              "      <th>2</th>\n",
              "      <td>2016-01-07</td>\n",
              "      <td>WLTW</td>\n",
              "      <td>116.379997</td>\n",
              "      <td>114.949997</td>\n",
              "      <td>114.930000</td>\n",
              "      <td>119.739998</td>\n",
              "      <td>2489500.0</td>\n",
              "    </tr>\n",
              "    <tr>\n",
              "      <th>3</th>\n",
              "      <td>2016-01-08</td>\n",
              "      <td>WLTW</td>\n",
              "      <td>115.480003</td>\n",
              "      <td>116.620003</td>\n",
              "      <td>113.500000</td>\n",
              "      <td>117.440002</td>\n",
              "      <td>2006300.0</td>\n",
              "    </tr>\n",
              "    <tr>\n",
              "      <th>4</th>\n",
              "      <td>2016-01-11</td>\n",
              "      <td>WLTW</td>\n",
              "      <td>117.010002</td>\n",
              "      <td>114.970001</td>\n",
              "      <td>114.089996</td>\n",
              "      <td>117.330002</td>\n",
              "      <td>1408600.0</td>\n",
              "    </tr>\n",
              "  </tbody>\n",
              "</table>\n",
              "</div>"
            ],
            "text/plain": [
              "        date symbol        open       close         low        high     volume\n",
              "0 2016-01-05   WLTW  123.430000  125.839996  122.309998  126.250000  2163600.0\n",
              "1 2016-01-06   WLTW  125.239998  119.980003  119.940002  125.540001  2386400.0\n",
              "2 2016-01-07   WLTW  116.379997  114.949997  114.930000  119.739998  2489500.0\n",
              "3 2016-01-08   WLTW  115.480003  116.620003  113.500000  117.440002  2006300.0\n",
              "4 2016-01-11   WLTW  117.010002  114.970001  114.089996  117.330002  1408600.0"
            ]
          },
          "metadata": {
            "tags": []
          },
          "execution_count": 26
        }
      ]
    },
    {
      "cell_type": "code",
      "metadata": {
        "id": "zd8eeEQ92mzi",
        "colab": {
          "base_uri": "https://localhost:8080/"
        },
        "outputId": "8c43c502-ac82-4897-d0f1-a77807993ebf"
      },
      "source": [
        "df.columns"
      ],
      "execution_count": null,
      "outputs": [
        {
          "output_type": "execute_result",
          "data": {
            "text/plain": [
              "Index(['date', 'symbol', 'open', 'close', 'low', 'high', 'volume'], dtype='object')"
            ]
          },
          "metadata": {
            "tags": []
          },
          "execution_count": 27
        }
      ]
    },
    {
      "cell_type": "code",
      "metadata": {
        "id": "ShWE8NW2zhJW",
        "colab": {
          "base_uri": "https://localhost:8080/",
          "height": 290
        },
        "outputId": "11537110-1972-4387-ea10-ed948819c5c0"
      },
      "source": [
        "plt.ylabel('open')\n",
        "plt.xlabel('date')\n",
        "plt.plot(df['date'],df['volume'])\n",
        "plt.show()"
      ],
      "execution_count": null,
      "outputs": [
        {
          "output_type": "display_data",
          "data": {
            "image/png": "[encoded data removed]",
            "text/plain": [
              "<Figure size 432x288 with 1 Axes>"
            ]
          },
          "metadata": {
            "tags": [],
            "needs_background": "light"
          }
        }
      ]
    },
    {
      "cell_type": "code",
      "metadata": {
        "id": "l_6iPUQp11fj",
        "colab": {
          "base_uri": "https://localhost:8080/"
        },
        "outputId": "5d32f03c-b87e-49ab-cb17-f4180bcc4a74"
      },
      "source": [
        "X = df['volume'].values\n",
        "train, test = X[1:len(X)-7], X[len(X)-7:]\n",
        "\n",
        "# train autoregression\n",
        "model = AR(train)\n",
        "model_fit = model.fit()\n",
        "print('Coefficients: %s' % model_fit.params)"
      ],
      "execution_count": null,
      "outputs": [
        {
          "output_type": "stream",
          "text": [
            "Coefficients: [ 2.07511069e+06 -1.76350502e-02  2.62905466e-02 -1.42652574e-02\n",
            "  3.03399184e-02 -1.02249569e-02 -2.41574624e-02 -2.39206614e-02\n",
            " -3.54378031e-03 -2.03585763e-02  6.35546517e-03  2.05307614e-03\n",
            " -9.76603773e-03  4.44024118e-02  2.92243793e-02 -1.58936029e-02\n",
            " -7.54747429e-03  6.41158782e-02 -1.59137160e-02  8.97195538e-03\n",
            " -7.67535671e-03  3.32212595e-02 -1.51257425e-02  1.38664266e-04\n",
            "  4.29281396e-02  1.47933466e-02  1.51240727e-02  2.88738069e-02\n",
            " -2.18499854e-04 -2.40402239e-04 -7.73110920e-03 -1.82071473e-02\n",
            "  2.45459093e-02 -1.05105074e-02 -2.93249726e-02 -1.67710971e-02\n",
            " -8.25905714e-03 -1.31149540e-02  4.20686160e-05  2.77382388e-02\n",
            " -2.84198382e-02  1.07556438e-02  1.48991273e-03  5.80753909e-03\n",
            " -1.39079147e-02 -5.22097451e-03 -9.83131184e-03  9.77890471e-04\n",
            "  1.58852573e-01  2.66794526e-02  2.05918848e-02  1.36804301e-02\n",
            " -2.30332376e-02 -1.47108045e-02  7.47781220e-03  6.77248922e-02\n",
            "  4.84650809e-02  3.95288693e-02  3.48062638e-03  2.30102767e-02\n",
            "  6.18600901e-03  1.31513225e-03  1.53205773e-02  2.94239501e-03\n",
            " -7.04287496e-03  4.00018143e-02  1.62653795e-02  7.52522116e-04\n",
            "  5.71106769e-03 -1.38919565e-02 -1.92999133e-03 -5.40133544e-03\n",
            " -1.80532647e-02  5.12972216e-02  2.23891732e-04 -1.34100100e-02\n",
            "  2.04258148e-03  1.54968441e-03  2.68047881e-02 -1.53484874e-03\n",
            " -1.44475665e-02  8.01662433e-03 -3.22943313e-03  4.04424683e-04\n",
            " -7.23673760e-03  3.42773598e-03 -1.27618619e-02  1.24880850e-02\n",
            "  1.86273734e-02  4.85399453e-03 -3.18587517e-04 -4.40490613e-03\n",
            " -7.65402269e-03 -3.91264114e-04  1.34997502e-03  1.21693749e-02\n",
            " -2.90486119e-02  7.98207295e-03 -2.99750735e-02 -7.54510681e-03\n",
            " -2.58581520e-03  9.85712928e-03  4.14119916e-03  6.48680951e-03\n",
            "  5.61913123e-03 -2.00770215e-02 -3.20326785e-03  4.42312025e-03\n",
            "  6.05564763e-03  1.71163802e-02 -2.27592971e-03 -8.30574406e-03\n",
            "  9.43169129e-02 -4.15707548e-03  7.88192312e-03 -2.04825037e-03]\n"
          ],
          "name": "stdout"
        }
      ]
    },
    {
      "cell_type": "code",
      "metadata": {
        "id": "oFV58nXr3Zd6",
        "colab": {
          "base_uri": "https://localhost:8080/"
        },
        "outputId": "a895b96d-2af0-4619-ffe9-a775cbd72054"
      },
      "source": [
        "# make predictions\n",
        "predictions = model_fit.predict(start=len(train), end=len(train)+len(test)-1, dynamic=False)\n",
        "for i in range(len(predictions)):\n",
        "\tprint('predicted=%f, expected=%f' % (predictions[i], test[i]))\n",
        "rmse = sqrt(mean_squared_error(test, predictions))\n",
        "print('Test RMSE: %.3f' % rmse)\n"
      ],
      "execution_count": null,
      "outputs": [
        {
          "output_type": "stream",
          "text": [
            "predicted=4270945.369598, expected=6431600.000000\n",
            "predicted=2349572.059991, expected=1887100.000000\n",
            "predicted=3839894.240776, expected=973800.000000\n",
            "predicted=4281979.215832, expected=1938100.000000\n",
            "predicted=3375770.973848, expected=1701200.000000\n",
            "predicted=3843995.820347, expected=1380900.000000\n",
            "predicted=3597235.251320, expected=705100.000000\n",
            "Test RMSE: 2262301.296\n"
          ],
          "name": "stdout"
        }
      ]
    },
    {
      "cell_type": "code",
      "metadata": {
        "id": "VlfCt6xV3807",
        "colab": {
          "base_uri": "https://localhost:8080/",
          "height": 275
        },
        "outputId": "3337551c-d1a1-4d23-99c3-706a18a80271"
      },
      "source": [
        "# plot results\n",
        "pyplot.plot(test)\n",
        "pyplot.plot(predictions, color='red')\n",
        "pyplot.show()"
      ],
      "execution_count": null,
      "outputs": [
        {
          "output_type": "display_data",
          "data": {
            "image/png": "[encoded data removed]",
            "text/plain": [
              "<Figure size 432x288 with 1 Axes>"
            ]
          },
          "metadata": {
            "tags": [],
            "needs_background": "light"
          }
        }
      ]
    }
  ]
}