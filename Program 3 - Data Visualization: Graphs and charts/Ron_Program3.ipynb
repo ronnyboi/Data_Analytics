{
  "nbformat": 4,
  "nbformat_minor": 0,
  "metadata": {
    "colab": {
      "name": "Ron_P3_Data Visualization",
      "provenance": [],
      "collapsed_sections": [],
      "include_colab_link": true
    },
    "kernelspec": {
      "name": "python3",
      "display_name": "Python 3"
    }
  },
  "cells": [
    {
      "cell_type": "markdown",
      "metadata": {
        "id": "view-in-github",
        "colab_type": "text"
      },
      "source": [
        "<a href=\"https://colab.research.google.com/github/ronnyboi/Data_Analytics/blob/main/Program%203%20-%20Data%20Visualization%3A%20Graphs%20and%20charts/Ron_Program3.ipynb\" target=\"_parent\"><img src=\"https://colab.research.google.com/assets/colab-badge.svg\" alt=\"Open In Colab\"/></a>"
      ]
    },
    {
      "cell_type": "markdown",
      "metadata": {
        "id": "dfinMxx46XR9"
      },
      "source": [
        "## **Data Visualization: Graphs and charts**\n"
      ]
    },
    {
      "cell_type": "markdown",
      "metadata": {
        "id": "sNvlAsHMWLh5"
      },
      "source": [
        "Select a dataset of your choice and visualize the attributes with at least 4 graphs/charts and write your analysis"
      ]
    },
    {
      "cell_type": "markdown",
      "metadata": {
        "id": "GoiEJLGRWO_U"
      },
      "source": [
        "The dataset is taken from https://www.kaggle.com/nyjoey/youtube-stats?select=CAvideos.csv"
      ]
    },
    {
      "cell_type": "markdown",
      "metadata": {
        "id": "mqGQ81yrqf5v"
      },
      "source": [
        "# Trending YouTube Video Statistics"
      ]
    },
    {
      "cell_type": "code",
      "metadata": {
        "id": "L_-ZOf8sbh_f",
        "colab": {
          "base_uri": "https://localhost:8080/",
          "height": 1000
        },
        "outputId": "e9b97e95-95e1-43a8-ef18-2a0d557c0e4f"
      },
      "source": [
        "import pandas as pd \n",
        "yt_df = pd.read_csv('CAvideos.csv',  encoding='utf-8')\n",
        "yt_df.head(10)"
      ],
      "execution_count": null,
      "outputs": [
        {
          "output_type": "execute_result",
          "data": {
            "text/html": [
              "<div>\n",
              "<style scoped>\n",
              "    .dataframe tbody tr th:only-of-type {\n",
              "        vertical-align: middle;\n",
              "    }\n",
              "\n",
              "    .dataframe tbody tr th {\n",
              "        vertical-align: top;\n",
              "    }\n",
              "\n",
              "    .dataframe thead th {\n",
              "        text-align: right;\n",
              "    }\n",
              "</style>\n",
              "<table border=\"1\" class=\"dataframe\">\n",
              "  <thead>\n",
              "    <tr style=\"text-align: right;\">\n",
              "      <th></th>\n",
              "      <th>video_id</th>\n",
              "      <th>trending_date</th>\n",
              "      <th>title</th>\n",
              "      <th>channel_title</th>\n",
              "      <th>category_id</th>\n",
              "      <th>publish_time</th>\n",
              "      <th>tags</th>\n",
              "      <th>views</th>\n",
              "      <th>likes</th>\n",
              "      <th>dislikes</th>\n",
              "      <th>comment_count</th>\n",
              "      <th>thumbnail_link</th>\n",
              "      <th>comments_disabled</th>\n",
              "      <th>ratings_disabled</th>\n",
              "      <th>video_error_or_removed</th>\n",
              "      <th>description</th>\n",
              "    </tr>\n",
              "  </thead>\n",
              "  <tbody>\n",
              "    <tr>\n",
              "      <th>0</th>\n",
              "      <td>n1WpP7iowLc</td>\n",
              "      <td>17.14.11</td>\n",
              "      <td>Eminem - Walk On Water (Audio) ft. Beyoncé</td>\n",
              "      <td>EminemVEVO</td>\n",
              "      <td>10.0</td>\n",
              "      <td>2017-11-10T17:00:03.000Z</td>\n",
              "      <td>Eminem|\"Walk\"|\"On\"|\"Water\"|\"Aftermath/Shady/In...</td>\n",
              "      <td>17158579.0</td>\n",
              "      <td>787425.0</td>\n",
              "      <td>43420.0</td>\n",
              "      <td>125882.0</td>\n",
              "      <td>https://i.ytimg.com/vi/n1WpP7iowLc/default.jpg</td>\n",
              "      <td>False</td>\n",
              "      <td>False</td>\n",
              "      <td>False</td>\n",
              "      <td>Eminem's new track Walk on Water ft. Beyoncé i...</td>\n",
              "    </tr>\n",
              "    <tr>\n",
              "      <th>1</th>\n",
              "      <td>0dBIkQ4Mz1M</td>\n",
              "      <td>17.14.11</td>\n",
              "      <td>PLUSH - Bad Unboxing Fan Mail</td>\n",
              "      <td>iDubbbzTV</td>\n",
              "      <td>23.0</td>\n",
              "      <td>2017-11-13T17:00:00.000Z</td>\n",
              "      <td>plush|\"bad unboxing\"|\"unboxing\"|\"fan mail\"|\"id...</td>\n",
              "      <td>1014651.0</td>\n",
              "      <td>127794.0</td>\n",
              "      <td>1688.0</td>\n",
              "      <td>13030.0</td>\n",
              "      <td>https://i.ytimg.com/vi/0dBIkQ4Mz1M/default.jpg</td>\n",
              "      <td>False</td>\n",
              "      <td>False</td>\n",
              "      <td>False</td>\n",
              "      <td>STill got a lot of packages. Probably will las...</td>\n",
              "    </tr>\n",
              "    <tr>\n",
              "      <th>2</th>\n",
              "      <td>5qpjK5DgCt4</td>\n",
              "      <td>17.14.11</td>\n",
              "      <td>Racist Superman | Rudy Mancuso, King Bach &amp; Le...</td>\n",
              "      <td>Rudy Mancuso</td>\n",
              "      <td>23.0</td>\n",
              "      <td>2017-11-12T19:05:24.000Z</td>\n",
              "      <td>racist superman|\"rudy\"|\"mancuso\"|\"king\"|\"bach\"...</td>\n",
              "      <td>3191434.0</td>\n",
              "      <td>146035.0</td>\n",
              "      <td>5339.0</td>\n",
              "      <td>8181.0</td>\n",
              "      <td>https://i.ytimg.com/vi/5qpjK5DgCt4/default.jpg</td>\n",
              "      <td>False</td>\n",
              "      <td>False</td>\n",
              "      <td>False</td>\n",
              "      <td>WATCH MY PREVIOUS VIDEO ▶ \\n\\nSUBSCRIBE ► http...</td>\n",
              "    </tr>\n",
              "    <tr>\n",
              "      <th>3</th>\n",
              "      <td>d380meD0W0M</td>\n",
              "      <td>17.14.11</td>\n",
              "      <td>I Dare You: GOING BALD!?</td>\n",
              "      <td>nigahiga</td>\n",
              "      <td>24.0</td>\n",
              "      <td>2017-11-12T18:01:41.000Z</td>\n",
              "      <td>ryan|\"higa\"|\"higatv\"|\"nigahiga\"|\"i dare you\"|\"...</td>\n",
              "      <td>2095828.0</td>\n",
              "      <td>132239.0</td>\n",
              "      <td>1989.0</td>\n",
              "      <td>17518.0</td>\n",
              "      <td>https://i.ytimg.com/vi/d380meD0W0M/default.jpg</td>\n",
              "      <td>False</td>\n",
              "      <td>False</td>\n",
              "      <td>False</td>\n",
              "      <td>I know it's been a while since we did this sho...</td>\n",
              "    </tr>\n",
              "    <tr>\n",
              "      <th>4</th>\n",
              "      <td>2Vv-BfVoq4g</td>\n",
              "      <td>17.14.11</td>\n",
              "      <td>Ed Sheeran - Perfect (Official Music Video)</td>\n",
              "      <td>Ed Sheeran</td>\n",
              "      <td>10.0</td>\n",
              "      <td>2017-11-09T11:04:14.000Z</td>\n",
              "      <td>edsheeran|\"ed sheeran\"|\"acoustic\"|\"live\"|\"cove...</td>\n",
              "      <td>33523622.0</td>\n",
              "      <td>1634130.0</td>\n",
              "      <td>21082.0</td>\n",
              "      <td>85067.0</td>\n",
              "      <td>https://i.ytimg.com/vi/2Vv-BfVoq4g/default.jpg</td>\n",
              "      <td>False</td>\n",
              "      <td>False</td>\n",
              "      <td>False</td>\n",
              "      <td>🎧: https://ad.gt/yt-perfect\\n💰: https://atlant...</td>\n",
              "    </tr>\n",
              "    <tr>\n",
              "      <th>5</th>\n",
              "      <td>0yIWz1XEeyc</td>\n",
              "      <td>17.14.11</td>\n",
              "      <td>Jake Paul Says Alissa Violet CHEATED with LOGA...</td>\n",
              "      <td>DramaAlert</td>\n",
              "      <td>25.0</td>\n",
              "      <td>2017-11-13T07:37:51.000Z</td>\n",
              "      <td>#DramaAlert|\"Drama\"|\"Alert\"|\"DramaAlert\"|\"keem...</td>\n",
              "      <td>1309699.0</td>\n",
              "      <td>103755.0</td>\n",
              "      <td>4613.0</td>\n",
              "      <td>12143.0</td>\n",
              "      <td>https://i.ytimg.com/vi/0yIWz1XEeyc/default.jpg</td>\n",
              "      <td>False</td>\n",
              "      <td>False</td>\n",
              "      <td>False</td>\n",
              "      <td>► Follow for News! - https://twitter.com/KEEMS...</td>\n",
              "    </tr>\n",
              "    <tr>\n",
              "      <th>6</th>\n",
              "      <td>_uM5kFfkhB8</td>\n",
              "      <td>17.14.11</td>\n",
              "      <td>Vanoss Superhero School - New Students</td>\n",
              "      <td>VanossGaming</td>\n",
              "      <td>23.0</td>\n",
              "      <td>2017-11-12T23:52:13.000Z</td>\n",
              "      <td>Funny Moments|\"Montage video games\"|\"gaming\"|\"...</td>\n",
              "      <td>2987945.0</td>\n",
              "      <td>187464.0</td>\n",
              "      <td>9850.0</td>\n",
              "      <td>26629.0</td>\n",
              "      <td>https://i.ytimg.com/vi/_uM5kFfkhB8/default.jpg</td>\n",
              "      <td>False</td>\n",
              "      <td>False</td>\n",
              "      <td>False</td>\n",
              "      <td>Vanoss Merch Shop: https://vanoss.3blackdot.co...</td>\n",
              "    </tr>\n",
              "    <tr>\n",
              "      <th>7</th>\n",
              "      <td>2kyS6SvSYSE</td>\n",
              "      <td>17.14.11</td>\n",
              "      <td>WE WANT TO TALK ABOUT OUR MARRIAGE</td>\n",
              "      <td>CaseyNeistat</td>\n",
              "      <td>22.0</td>\n",
              "      <td>2017-11-13T17:13:01.000Z</td>\n",
              "      <td>SHANtell martin</td>\n",
              "      <td>748374.0</td>\n",
              "      <td>57534.0</td>\n",
              "      <td>2967.0</td>\n",
              "      <td>15959.0</td>\n",
              "      <td>https://i.ytimg.com/vi/2kyS6SvSYSE/default.jpg</td>\n",
              "      <td>False</td>\n",
              "      <td>False</td>\n",
              "      <td>False</td>\n",
              "      <td>SHANTELL'S CHANNEL - https://www.youtube.com/s...</td>\n",
              "    </tr>\n",
              "    <tr>\n",
              "      <th>8</th>\n",
              "      <td>JzCsM1vtn78</td>\n",
              "      <td>17.14.11</td>\n",
              "      <td>THE LOGANG MADE HISTORY. LOL. AGAIN.</td>\n",
              "      <td>Logan Paul Vlogs</td>\n",
              "      <td>24.0</td>\n",
              "      <td>2017-11-12T20:19:24.000Z</td>\n",
              "      <td>logan paul vlog|\"logan paul\"|\"logan\"|\"paul\"|\"o...</td>\n",
              "      <td>4477587.0</td>\n",
              "      <td>292837.0</td>\n",
              "      <td>4123.0</td>\n",
              "      <td>36391.0</td>\n",
              "      <td>https://i.ytimg.com/vi/JzCsM1vtn78/default.jpg</td>\n",
              "      <td>False</td>\n",
              "      <td>False</td>\n",
              "      <td>False</td>\n",
              "      <td>Join the movement. Be a Maverick ► https://Sho...</td>\n",
              "    </tr>\n",
              "    <tr>\n",
              "      <th>9</th>\n",
              "      <td>43sm-QwLcx4</td>\n",
              "      <td>17.14.11</td>\n",
              "      <td>Finally Sheldon is winning an argument about t...</td>\n",
              "      <td>Sheikh Musa</td>\n",
              "      <td>22.0</td>\n",
              "      <td>2017-11-10T14:10:46.000Z</td>\n",
              "      <td>God|\"Sheldon Cooper\"|\"Young Sheldon\"</td>\n",
              "      <td>505161.0</td>\n",
              "      <td>4135.0</td>\n",
              "      <td>976.0</td>\n",
              "      <td>1484.0</td>\n",
              "      <td>https://i.ytimg.com/vi/43sm-QwLcx4/default.jpg</td>\n",
              "      <td>False</td>\n",
              "      <td>False</td>\n",
              "      <td>False</td>\n",
              "      <td>Sheldon is roasting pastor of the church\\nyoun...</td>\n",
              "    </tr>\n",
              "  </tbody>\n",
              "</table>\n",
              "</div>"
            ],
            "text/plain": [
              "      video_id  ...                                        description\n",
              "0  n1WpP7iowLc  ...  Eminem's new track Walk on Water ft. Beyoncé i...\n",
              "1  0dBIkQ4Mz1M  ...  STill got a lot of packages. Probably will las...\n",
              "2  5qpjK5DgCt4  ...  WATCH MY PREVIOUS VIDEO ▶ \\n\\nSUBSCRIBE ► http...\n",
              "3  d380meD0W0M  ...  I know it's been a while since we did this sho...\n",
              "4  2Vv-BfVoq4g  ...  🎧: https://ad.gt/yt-perfect\\n💰: https://atlant...\n",
              "5  0yIWz1XEeyc  ...  ► Follow for News! - https://twitter.com/KEEMS...\n",
              "6  _uM5kFfkhB8  ...  Vanoss Merch Shop: https://vanoss.3blackdot.co...\n",
              "7  2kyS6SvSYSE  ...  SHANTELL'S CHANNEL - https://www.youtube.com/s...\n",
              "8  JzCsM1vtn78  ...  Join the movement. Be a Maverick ► https://Sho...\n",
              "9  43sm-QwLcx4  ...  Sheldon is roasting pastor of the church\\nyoun...\n",
              "\n",
              "[10 rows x 16 columns]"
            ]
          },
          "metadata": {
            "tags": []
          },
          "execution_count": 1
        }
      ]
    },
    {
      "cell_type": "markdown",
      "metadata": {
        "id": "Iu-C-cl7uGe1"
      },
      "source": [
        "The given graph visualizes the number of views with respect to their drending date"
      ]
    },
    {
      "cell_type": "code",
      "metadata": {
        "id": "c7ie10dsEypf",
        "colab": {
          "base_uri": "https://localhost:8080/",
          "height": 290
        },
        "outputId": "327209f8-2f81-4c5d-8447-af0fbe2b7b5a"
      },
      "source": [
        "plt.ylabel('number of views')\n",
        "plt.xlabel('trending date')\n",
        "plt.plot(yt_df['trending_date'],yt_df['views'])\n",
        "plt.show()"
      ],
      "execution_count": null,
      "outputs": [
        {
          "output_type": "display_data",
          "data": {
            "image/png": "[encoded data removed]",
            "text/plain": [
              "<Figure size 432x288 with 1 Axes>"
            ]
          },
          "metadata": {
            "tags": [],
            "needs_background": "light"
          }
        }
      ]
    },
    {
      "cell_type": "markdown",
      "metadata": {
        "id": "HeyidgO96y0O"
      },
      "source": [
        "To visualise the correlation between likes and views. \n",
        "\n",
        "---\n",
        "\n",
        "\n",
        "It is evident from the graph, as the number of views increases there is a significant increase in the number of likes"
      ]
    },
    {
      "cell_type": "code",
      "metadata": {
        "id": "S1iUGBNUllJK",
        "colab": {
          "base_uri": "https://localhost:8080/",
          "height": 290
        },
        "outputId": "3eb84cf0-7842-4403-f9a7-6dbac32e811e"
      },
      "source": [
        "from matplotlib import pyplot as plt\n",
        "plt.ylabel('likes')\n",
        "plt.xlabel('views')\n",
        "plt.scatter(yt_df['views'],yt_df['likes'])\n",
        "plt.show()"
      ],
      "execution_count": null,
      "outputs": [
        {
          "output_type": "display_data",
          "data": {
            "image/png": "[encoded data removed]",
            "text/plain": [
              "<Figure size 432x288 with 1 Axes>"
            ]
          },
          "metadata": {
            "tags": [],
            "needs_background": "light"
          }
        }
      ]
    },
    {
      "cell_type": "markdown",
      "metadata": {
        "id": "GEHEX1n28Gzu"
      },
      "source": [
        "To visualise the correlation between Dislikes and Comment count\n",
        "\n",
        "---\n",
        "As the number of likes increases, the number of comments is seen to have a significant rise.\n"
      ]
    },
    {
      "cell_type": "code",
      "metadata": {
        "id": "RODOnOmFn81g",
        "colab": {
          "base_uri": "https://localhost:8080/",
          "height": 280
        },
        "outputId": "f8f1afc3-2e5a-4a93-fa8c-3bcb056facf1"
      },
      "source": [
        "from matplotlib import pyplot as plt\n",
        "plt.ylabel('likes')\n",
        "plt.xlabel('comment_count')\n",
        "plt.scatter(yt_df['likes'],yt_df['comment_count'])\n",
        "plt.show()"
      ],
      "execution_count": null,
      "outputs": [
        {
          "output_type": "display_data",
          "data": {
            "image/png": "[encoded data removed]",
            "text/plain": [
              "<Figure size 432x288 with 1 Axes>"
            ]
          },
          "metadata": {
            "tags": [],
            "needs_background": "light"
          }
        }
      ]
    },
    {
      "cell_type": "markdown",
      "metadata": {
        "id": "REDyWay9CSVH"
      },
      "source": [
        "Histogram to visualise the number of views"
      ]
    },
    {
      "cell_type": "code",
      "metadata": {
        "id": "x0hYPTbRrn3U",
        "colab": {
          "base_uri": "https://localhost:8080/",
          "height": 279
        },
        "outputId": "103fcd7f-b2c3-44dc-cf2e-4067760d5a50"
      },
      "source": [
        "plt.xlabel('views')\n",
        "yt_df['views'].hist()\n",
        "plt.show()"
      ],
      "execution_count": null,
      "outputs": [
        {
          "output_type": "display_data",
          "data": {
            "image/png": "[encoded data removed]",
            "text/plain": [
              "<Figure size 432x288 with 1 Axes>"
            ]
          },
          "metadata": {
            "tags": [],
            "needs_background": "light"
          }
        }
      ]
    },
    {
      "cell_type": "code",
      "metadata": {
        "id": "97iSIl4t2opc",
        "colab": {
          "base_uri": "https://localhost:8080/",
          "height": 277
        },
        "outputId": "9162d9e2-c0bf-421d-855c-d56ac99644bf"
      },
      "source": [
        "yt_df.plot.box()\n",
        "plt.show()"
      ],
      "execution_count": null,
      "outputs": [
        {
          "output_type": "display_data",
          "data": {
            "image/png": "[encoded data removed]",
            "text/plain": [
              "<Figure size 432x288 with 1 Axes>"
            ]
          },
          "metadata": {
            "tags": [],
            "needs_background": "light"
          }
        }
      ]
    },
    {
      "cell_type": "markdown",
      "metadata": {
        "id": "IUeiY1g-CdhO"
      },
      "source": [
        "Box plot to visualise the range of the category id"
      ]
    },
    {
      "cell_type": "code",
      "metadata": {
        "id": "triyMWY72znk",
        "colab": {
          "base_uri": "https://localhost:8080/",
          "height": 401
        },
        "outputId": "41be6a48-1e83-42f7-ce84-19b0b20314d6"
      },
      "source": [
        "plt.boxplot(yt_df['category_id'])\n",
        "plt.show()"
      ],
      "execution_count": null,
      "outputs": [
        {
          "output_type": "stream",
          "text": [
            "/usr/local/lib/python3.6/dist-packages/matplotlib/cbook/__init__.py:1239: RuntimeWarning: invalid value encountered in less_equal\n",
            "  wiskhi = x[x <= hival]\n",
            "/usr/local/lib/python3.6/dist-packages/matplotlib/cbook/__init__.py:1246: RuntimeWarning: invalid value encountered in greater_equal\n",
            "  wisklo = x[x >= loval]\n",
            "/usr/local/lib/python3.6/dist-packages/matplotlib/cbook/__init__.py:1254: RuntimeWarning: invalid value encountered in less\n",
            "  x[x < stats['whislo']],\n",
            "/usr/local/lib/python3.6/dist-packages/matplotlib/cbook/__init__.py:1255: RuntimeWarning: invalid value encountered in greater\n",
            "  x[x > stats['whishi']],\n"
          ],
          "name": "stderr"
        },
        {
          "output_type": "display_data",
          "data": {
            "image/png": "[encoded data removed]",
            "text/plain": [
              "<Figure size 432x288 with 1 Axes>"
            ]
          },
          "metadata": {
            "tags": [],
            "needs_background": "light"
          }
        }
      ]
    },
    {
      "cell_type": "markdown",
      "metadata": {
        "id": "PSC4KK_LClBO"
      },
      "source": [
        "The code give below was taken from \"https://www.kaggle.com/skalskip/youtube-data-exploration-and-plotly-visualization\"\n",
        "to convert  the publish time into date time hour format"
      ]
    },
    {
      "cell_type": "code",
      "metadata": {
        "id": "g17WG7If_7JS"
      },
      "source": [
        "# Transforming Trending date column to datetime format\n",
        "yt_df['trending_date'] = pd.to_datetime(yt_df['trending_date'], format='%y.%d.%m').dt.date\n",
        "\n",
        "# Transforming Trending date column to datetime format and splitting into two separate ones\n",
        "publish_time = pd.to_datetime(yt_df['publish_time'], format='%Y-%m-%dT%H:%M:%S.%fZ')\n",
        "yt_df['publish_date'] = publish_time.dt.date\n",
        "yt_df['publish_time'] = publish_time.dt.time\n",
        "yt_df['publish_hour'] = publish_time.dt.hour"
      ],
      "execution_count": null,
      "outputs": []
    },
    {
      "cell_type": "code",
      "metadata": {
        "id": "I9-5Rbw_AJou",
        "colab": {
          "base_uri": "https://localhost:8080/",
          "height": 564
        },
        "outputId": "c9c02d14-e0f3-4b33-dfec-96bc288dfe31"
      },
      "source": [
        "yt_df.head()"
      ],
      "execution_count": null,
      "outputs": [
        {
          "output_type": "execute_result",
          "data": {
            "text/html": [
              "<div>\n",
              "<style scoped>\n",
              "    .dataframe tbody tr th:only-of-type {\n",
              "        vertical-align: middle;\n",
              "    }\n",
              "\n",
              "    .dataframe tbody tr th {\n",
              "        vertical-align: top;\n",
              "    }\n",
              "\n",
              "    .dataframe thead th {\n",
              "        text-align: right;\n",
              "    }\n",
              "</style>\n",
              "<table border=\"1\" class=\"dataframe\">\n",
              "  <thead>\n",
              "    <tr style=\"text-align: right;\">\n",
              "      <th></th>\n",
              "      <th>video_id</th>\n",
              "      <th>trending_date</th>\n",
              "      <th>title</th>\n",
              "      <th>channel_title</th>\n",
              "      <th>category_id</th>\n",
              "      <th>publish_time</th>\n",
              "      <th>tags</th>\n",
              "      <th>views</th>\n",
              "      <th>likes</th>\n",
              "      <th>dislikes</th>\n",
              "      <th>comment_count</th>\n",
              "      <th>thumbnail_link</th>\n",
              "      <th>comments_disabled</th>\n",
              "      <th>ratings_disabled</th>\n",
              "      <th>video_error_or_removed</th>\n",
              "      <th>description</th>\n",
              "      <th>publish_date</th>\n",
              "      <th>publish_hour</th>\n",
              "    </tr>\n",
              "  </thead>\n",
              "  <tbody>\n",
              "    <tr>\n",
              "      <th>0</th>\n",
              "      <td>n1WpP7iowLc</td>\n",
              "      <td>2017-11-14</td>\n",
              "      <td>Eminem - Walk On Water (Audio) ft. Beyoncé</td>\n",
              "      <td>EminemVEVO</td>\n",
              "      <td>10.0</td>\n",
              "      <td>17:00:03</td>\n",
              "      <td>Eminem|\"Walk\"|\"On\"|\"Water\"|\"Aftermath/Shady/In...</td>\n",
              "      <td>17158579.0</td>\n",
              "      <td>787425.0</td>\n",
              "      <td>43420.0</td>\n",
              "      <td>125882.0</td>\n",
              "      <td>https://i.ytimg.com/vi/n1WpP7iowLc/default.jpg</td>\n",
              "      <td>False</td>\n",
              "      <td>False</td>\n",
              "      <td>False</td>\n",
              "      <td>Eminem's new track Walk on Water ft. Beyoncé i...</td>\n",
              "      <td>2017-11-10</td>\n",
              "      <td>17.0</td>\n",
              "    </tr>\n",
              "    <tr>\n",
              "      <th>1</th>\n",
              "      <td>0dBIkQ4Mz1M</td>\n",
              "      <td>2017-11-14</td>\n",
              "      <td>PLUSH - Bad Unboxing Fan Mail</td>\n",
              "      <td>iDubbbzTV</td>\n",
              "      <td>23.0</td>\n",
              "      <td>17:00:00</td>\n",
              "      <td>plush|\"bad unboxing\"|\"unboxing\"|\"fan mail\"|\"id...</td>\n",
              "      <td>1014651.0</td>\n",
              "      <td>127794.0</td>\n",
              "      <td>1688.0</td>\n",
              "      <td>13030.0</td>\n",
              "      <td>https://i.ytimg.com/vi/0dBIkQ4Mz1M/default.jpg</td>\n",
              "      <td>False</td>\n",
              "      <td>False</td>\n",
              "      <td>False</td>\n",
              "      <td>STill got a lot of packages. Probably will las...</td>\n",
              "      <td>2017-11-13</td>\n",
              "      <td>17.0</td>\n",
              "    </tr>\n",
              "    <tr>\n",
              "      <th>2</th>\n",
              "      <td>5qpjK5DgCt4</td>\n",
              "      <td>2017-11-14</td>\n",
              "      <td>Racist Superman | Rudy Mancuso, King Bach &amp; Le...</td>\n",
              "      <td>Rudy Mancuso</td>\n",
              "      <td>23.0</td>\n",
              "      <td>19:05:24</td>\n",
              "      <td>racist superman|\"rudy\"|\"mancuso\"|\"king\"|\"bach\"...</td>\n",
              "      <td>3191434.0</td>\n",
              "      <td>146035.0</td>\n",
              "      <td>5339.0</td>\n",
              "      <td>8181.0</td>\n",
              "      <td>https://i.ytimg.com/vi/5qpjK5DgCt4/default.jpg</td>\n",
              "      <td>False</td>\n",
              "      <td>False</td>\n",
              "      <td>False</td>\n",
              "      <td>WATCH MY PREVIOUS VIDEO ▶ \\n\\nSUBSCRIBE ► http...</td>\n",
              "      <td>2017-11-12</td>\n",
              "      <td>19.0</td>\n",
              "    </tr>\n",
              "    <tr>\n",
              "      <th>3</th>\n",
              "      <td>d380meD0W0M</td>\n",
              "      <td>2017-11-14</td>\n",
              "      <td>I Dare You: GOING BALD!?</td>\n",
              "      <td>nigahiga</td>\n",
              "      <td>24.0</td>\n",
              "      <td>18:01:41</td>\n",
              "      <td>ryan|\"higa\"|\"higatv\"|\"nigahiga\"|\"i dare you\"|\"...</td>\n",
              "      <td>2095828.0</td>\n",
              "      <td>132239.0</td>\n",
              "      <td>1989.0</td>\n",
              "      <td>17518.0</td>\n",
              "      <td>https://i.ytimg.com/vi/d380meD0W0M/default.jpg</td>\n",
              "      <td>False</td>\n",
              "      <td>False</td>\n",
              "      <td>False</td>\n",
              "      <td>I know it's been a while since we did this sho...</td>\n",
              "      <td>2017-11-12</td>\n",
              "      <td>18.0</td>\n",
              "    </tr>\n",
              "    <tr>\n",
              "      <th>4</th>\n",
              "      <td>2Vv-BfVoq4g</td>\n",
              "      <td>2017-11-14</td>\n",
              "      <td>Ed Sheeran - Perfect (Official Music Video)</td>\n",
              "      <td>Ed Sheeran</td>\n",
              "      <td>10.0</td>\n",
              "      <td>11:04:14</td>\n",
              "      <td>edsheeran|\"ed sheeran\"|\"acoustic\"|\"live\"|\"cove...</td>\n",
              "      <td>33523622.0</td>\n",
              "      <td>1634130.0</td>\n",
              "      <td>21082.0</td>\n",
              "      <td>85067.0</td>\n",
              "      <td>https://i.ytimg.com/vi/2Vv-BfVoq4g/default.jpg</td>\n",
              "      <td>False</td>\n",
              "      <td>False</td>\n",
              "      <td>False</td>\n",
              "      <td>🎧: https://ad.gt/yt-perfect\\n💰: https://atlant...</td>\n",
              "      <td>2017-11-09</td>\n",
              "      <td>11.0</td>\n",
              "    </tr>\n",
              "  </tbody>\n",
              "</table>\n",
              "</div>"
            ],
            "text/plain": [
              "      video_id trending_date  ... publish_date publish_hour\n",
              "0  n1WpP7iowLc    2017-11-14  ...   2017-11-10         17.0\n",
              "1  0dBIkQ4Mz1M    2017-11-14  ...   2017-11-13         17.0\n",
              "2  5qpjK5DgCt4    2017-11-14  ...   2017-11-12         19.0\n",
              "3  d380meD0W0M    2017-11-14  ...   2017-11-12         18.0\n",
              "4  2Vv-BfVoq4g    2017-11-14  ...   2017-11-09         11.0\n",
              "\n",
              "[5 rows x 18 columns]"
            ]
          },
          "metadata": {
            "tags": []
          },
          "execution_count": 11
        }
      ]
    },
    {
      "cell_type": "markdown",
      "metadata": {
        "id": "evuE1zO-DBdm"
      },
      "source": [
        "The range of the publish hours of trending videos"
      ]
    },
    {
      "cell_type": "code",
      "metadata": {
        "id": "JOsqHirqB7Jf",
        "colab": {
          "base_uri": "https://localhost:8080/",
          "height": 401
        },
        "outputId": "e31d93e3-2e70-4144-b3c2-a3f32ec5fda2"
      },
      "source": [
        "plt.boxplot(yt_df['publish_hour'])\n",
        "plt.show()"
      ],
      "execution_count": null,
      "outputs": [
        {
          "output_type": "stream",
          "text": [
            "/usr/local/lib/python3.6/dist-packages/matplotlib/cbook/__init__.py:1239: RuntimeWarning: invalid value encountered in less_equal\n",
            "  wiskhi = x[x <= hival]\n",
            "/usr/local/lib/python3.6/dist-packages/matplotlib/cbook/__init__.py:1246: RuntimeWarning: invalid value encountered in greater_equal\n",
            "  wisklo = x[x >= loval]\n",
            "/usr/local/lib/python3.6/dist-packages/matplotlib/cbook/__init__.py:1254: RuntimeWarning: invalid value encountered in less\n",
            "  x[x < stats['whislo']],\n",
            "/usr/local/lib/python3.6/dist-packages/matplotlib/cbook/__init__.py:1255: RuntimeWarning: invalid value encountered in greater\n",
            "  x[x > stats['whishi']],\n"
          ],
          "name": "stderr"
        },
        {
          "output_type": "display_data",
          "data": {
            "image/png": "[encoded data removed]",
            "text/plain": [
              "<Figure size 432x288 with 1 Axes>"
            ]
          },
          "metadata": {
            "tags": [],
            "needs_background": "light"
          }
        }
      ]
    },
    {
      "cell_type": "markdown",
      "metadata": {
        "id": "HoAO6pwrEAZw"
      },
      "source": [
        "The below given graph visualizes the time of the day that the engagement rate on the video is high"
      ]
    },
    {
      "cell_type": "code",
      "metadata": {
        "id": "ZrLheXZoCKUv",
        "colab": {
          "base_uri": "https://localhost:8080/",
          "height": 290
        },
        "outputId": "3e5707ba-4d8c-45fd-c7cb-8ff5caa9337e"
      },
      "source": [
        "from matplotlib import pyplot as plt\n",
        "plt.ylabel('views')\n",
        "plt.xlabel('time of the day(hrs)')\n",
        "plt.scatter(yt_df['publish_hour'],yt_df['views'])\n",
        "plt.show()"
      ],
      "execution_count": null,
      "outputs": [
        {
          "output_type": "display_data",
          "data": {
            "image/png": "[encoded data removed]",
            "text/plain": [
              "<Figure size 432x288 with 1 Axes>"
            ]
          },
          "metadata": {
            "tags": [],
            "needs_background": "light"
          }
        }
      ]
    },
    {
      "cell_type": "markdown",
      "metadata": {
        "id": "NYdnrCj2ETdP"
      },
      "source": [
        "From the above graph we can conclude that the highest engagement rate in the video is betwen 15:00 to 20:00 hrs"
      ]
    },
    {
      "cell_type": "code",
      "metadata": {
        "id": "NgQEG7CGDqU0"
      },
      "source": [
        ""
      ],
      "execution_count": null,
      "outputs": []
    }
  ]
}