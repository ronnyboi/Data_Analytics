{
  "nbformat": 4,
  "nbformat_minor": 0,
  "metadata": {
    "colab": {
      "name": "Ron_Program2.ipynb",
      "provenance": [],
      "include_colab_link": true
    },
    "kernelspec": {
      "name": "python3",
      "display_name": "Python 3"
    }
  },
  "cells": [
    {
      "cell_type": "markdown",
      "metadata": {
        "id": "view-in-github",
        "colab_type": "text"
      },
      "source": [
        "<a href=\"https://colab.research.google.com/github/ronnyboi/Data_Analytics/blob/main/Program%202%3A%20Data%20Preprocessing/Ron_Program2.ipynb\" target=\"_parent\"><img src=\"https://colab.research.google.com/assets/colab-badge.svg\" alt=\"Open In Colab\"/></a>"
      ]
    },
    {
      "cell_type": "markdown",
      "metadata": {
        "id": "OoIc7GYJVGHE"
      },
      "source": [
        "# Program 2: Data Preprocessing"
      ]
    },
    {
      "cell_type": "markdown",
      "metadata": {
        "id": "yt9GSzFeValV"
      },
      "source": [
        "Apply different filters (Symmetric & Asymmetric, Median & Mean and Exponential filters). Apply Data transformation (Minmax and MuSigma) on the filtered data. Select numeric dataset of your choice. Application of filtering can be ignored on the categorical columns."
      ]
    },
    {
      "cell_type": "markdown",
      "metadata": {
        "id": "NxYeUCuvVgDN"
      },
      "source": [
        "The dataset is taken from https://www.kaggle.com/gregorut/videogamesales?select=vgsales.csv"
      ]
    },
    {
      "cell_type": "markdown",
      "metadata": {
        "id": "9p4PXpj5LYTq"
      },
      "source": [
        "Importing the csv file"
      ]
    },
    {
      "cell_type": "code",
      "metadata": {
        "id": "bGRxDgtxLa8X",
        "colab": {
          "base_uri": "https://localhost:8080/",
          "height": 221
        },
        "outputId": "72fc4da6-ab4b-41fb-a392-e9f5a1f4e65e"
      },
      "source": [
        "import pandas as pd\n",
        "df = pd.read_csv('vgsales.csv')\n",
        "df.head()"
      ],
      "execution_count": null,
      "outputs": [
        {
          "output_type": "execute_result",
          "data": {
            "text/html": [
              "<div>\n",
              "<style scoped>\n",
              "    .dataframe tbody tr th:only-of-type {\n",
              "        vertical-align: middle;\n",
              "    }\n",
              "\n",
              "    .dataframe tbody tr th {\n",
              "        vertical-align: top;\n",
              "    }\n",
              "\n",
              "    .dataframe thead th {\n",
              "        text-align: right;\n",
              "    }\n",
              "</style>\n",
              "<table border=\"1\" class=\"dataframe\">\n",
              "  <thead>\n",
              "    <tr style=\"text-align: right;\">\n",
              "      <th></th>\n",
              "      <th>Rank</th>\n",
              "      <th>Name</th>\n",
              "      <th>Platform</th>\n",
              "      <th>Year</th>\n",
              "      <th>Genre</th>\n",
              "      <th>Publisher</th>\n",
              "      <th>NA_Sales</th>\n",
              "      <th>EU_Sales</th>\n",
              "      <th>JP_Sales</th>\n",
              "      <th>Other_Sales</th>\n",
              "      <th>Global_Sales</th>\n",
              "    </tr>\n",
              "  </thead>\n",
              "  <tbody>\n",
              "    <tr>\n",
              "      <th>0</th>\n",
              "      <td>1</td>\n",
              "      <td>Wii Sports</td>\n",
              "      <td>Wii</td>\n",
              "      <td>2006.0</td>\n",
              "      <td>Sports</td>\n",
              "      <td>Nintendo</td>\n",
              "      <td>41.49</td>\n",
              "      <td>29.02</td>\n",
              "      <td>3.77</td>\n",
              "      <td>8.46</td>\n",
              "      <td>82.74</td>\n",
              "    </tr>\n",
              "    <tr>\n",
              "      <th>1</th>\n",
              "      <td>2</td>\n",
              "      <td>Super Mario Bros.</td>\n",
              "      <td>NES</td>\n",
              "      <td>1985.0</td>\n",
              "      <td>Platform</td>\n",
              "      <td>Nintendo</td>\n",
              "      <td>29.08</td>\n",
              "      <td>3.58</td>\n",
              "      <td>6.81</td>\n",
              "      <td>0.77</td>\n",
              "      <td>40.24</td>\n",
              "    </tr>\n",
              "    <tr>\n",
              "      <th>2</th>\n",
              "      <td>3</td>\n",
              "      <td>Mario Kart Wii</td>\n",
              "      <td>Wii</td>\n",
              "      <td>2008.0</td>\n",
              "      <td>Racing</td>\n",
              "      <td>Nintendo</td>\n",
              "      <td>15.85</td>\n",
              "      <td>12.88</td>\n",
              "      <td>3.79</td>\n",
              "      <td>3.31</td>\n",
              "      <td>35.82</td>\n",
              "    </tr>\n",
              "    <tr>\n",
              "      <th>3</th>\n",
              "      <td>4</td>\n",
              "      <td>Wii Sports Resort</td>\n",
              "      <td>Wii</td>\n",
              "      <td>2009.0</td>\n",
              "      <td>Sports</td>\n",
              "      <td>Nintendo</td>\n",
              "      <td>15.75</td>\n",
              "      <td>11.01</td>\n",
              "      <td>3.28</td>\n",
              "      <td>2.96</td>\n",
              "      <td>33.00</td>\n",
              "    </tr>\n",
              "    <tr>\n",
              "      <th>4</th>\n",
              "      <td>5</td>\n",
              "      <td>Pokemon Red/Pokemon Blue</td>\n",
              "      <td>GB</td>\n",
              "      <td>1996.0</td>\n",
              "      <td>Role-Playing</td>\n",
              "      <td>Nintendo</td>\n",
              "      <td>11.27</td>\n",
              "      <td>8.89</td>\n",
              "      <td>10.22</td>\n",
              "      <td>1.00</td>\n",
              "      <td>31.37</td>\n",
              "    </tr>\n",
              "  </tbody>\n",
              "</table>\n",
              "</div>"
            ],
            "text/plain": [
              "   Rank                      Name Platform  ...  JP_Sales Other_Sales Global_Sales\n",
              "0     1                Wii Sports      Wii  ...      3.77        8.46        82.74\n",
              "1     2         Super Mario Bros.      NES  ...      6.81        0.77        40.24\n",
              "2     3            Mario Kart Wii      Wii  ...      3.79        3.31        35.82\n",
              "3     4         Wii Sports Resort      Wii  ...      3.28        2.96        33.00\n",
              "4     5  Pokemon Red/Pokemon Blue       GB  ...     10.22        1.00        31.37\n",
              "\n",
              "[5 rows x 11 columns]"
            ]
          },
          "metadata": {
            "tags": []
          },
          "execution_count": 76
        }
      ]
    },
    {
      "cell_type": "code",
      "metadata": {
        "id": "jgpy0xxdLd4V",
        "colab": {
          "base_uri": "https://localhost:8080/",
          "height": 297
        },
        "outputId": "fef57f04-982f-44e3-cdf0-38c7234612f0"
      },
      "source": [
        "df.describe()"
      ],
      "execution_count": null,
      "outputs": [
        {
          "output_type": "execute_result",
          "data": {
            "text/html": [
              "<div>\n",
              "<style scoped>\n",
              "    .dataframe tbody tr th:only-of-type {\n",
              "        vertical-align: middle;\n",
              "    }\n",
              "\n",
              "    .dataframe tbody tr th {\n",
              "        vertical-align: top;\n",
              "    }\n",
              "\n",
              "    .dataframe thead th {\n",
              "        text-align: right;\n",
              "    }\n",
              "</style>\n",
              "<table border=\"1\" class=\"dataframe\">\n",
              "  <thead>\n",
              "    <tr style=\"text-align: right;\">\n",
              "      <th></th>\n",
              "      <th>Rank</th>\n",
              "      <th>Year</th>\n",
              "      <th>NA_Sales</th>\n",
              "      <th>EU_Sales</th>\n",
              "      <th>JP_Sales</th>\n",
              "      <th>Other_Sales</th>\n",
              "      <th>Global_Sales</th>\n",
              "    </tr>\n",
              "  </thead>\n",
              "  <tbody>\n",
              "    <tr>\n",
              "      <th>count</th>\n",
              "      <td>16598.000000</td>\n",
              "      <td>16327.000000</td>\n",
              "      <td>16598.000000</td>\n",
              "      <td>16598.000000</td>\n",
              "      <td>16598.000000</td>\n",
              "      <td>16598.000000</td>\n",
              "      <td>16598.000000</td>\n",
              "    </tr>\n",
              "    <tr>\n",
              "      <th>mean</th>\n",
              "      <td>8300.605254</td>\n",
              "      <td>2006.406443</td>\n",
              "      <td>0.264667</td>\n",
              "      <td>0.146652</td>\n",
              "      <td>0.077782</td>\n",
              "      <td>0.048063</td>\n",
              "      <td>0.537441</td>\n",
              "    </tr>\n",
              "    <tr>\n",
              "      <th>std</th>\n",
              "      <td>4791.853933</td>\n",
              "      <td>5.828981</td>\n",
              "      <td>0.816683</td>\n",
              "      <td>0.505351</td>\n",
              "      <td>0.309291</td>\n",
              "      <td>0.188588</td>\n",
              "      <td>1.555028</td>\n",
              "    </tr>\n",
              "    <tr>\n",
              "      <th>min</th>\n",
              "      <td>1.000000</td>\n",
              "      <td>1980.000000</td>\n",
              "      <td>0.000000</td>\n",
              "      <td>0.000000</td>\n",
              "      <td>0.000000</td>\n",
              "      <td>0.000000</td>\n",
              "      <td>0.010000</td>\n",
              "    </tr>\n",
              "    <tr>\n",
              "      <th>25%</th>\n",
              "      <td>4151.250000</td>\n",
              "      <td>2003.000000</td>\n",
              "      <td>0.000000</td>\n",
              "      <td>0.000000</td>\n",
              "      <td>0.000000</td>\n",
              "      <td>0.000000</td>\n",
              "      <td>0.060000</td>\n",
              "    </tr>\n",
              "    <tr>\n",
              "      <th>50%</th>\n",
              "      <td>8300.500000</td>\n",
              "      <td>2007.000000</td>\n",
              "      <td>0.080000</td>\n",
              "      <td>0.020000</td>\n",
              "      <td>0.000000</td>\n",
              "      <td>0.010000</td>\n",
              "      <td>0.170000</td>\n",
              "    </tr>\n",
              "    <tr>\n",
              "      <th>75%</th>\n",
              "      <td>12449.750000</td>\n",
              "      <td>2010.000000</td>\n",
              "      <td>0.240000</td>\n",
              "      <td>0.110000</td>\n",
              "      <td>0.040000</td>\n",
              "      <td>0.040000</td>\n",
              "      <td>0.470000</td>\n",
              "    </tr>\n",
              "    <tr>\n",
              "      <th>max</th>\n",
              "      <td>16600.000000</td>\n",
              "      <td>2020.000000</td>\n",
              "      <td>41.490000</td>\n",
              "      <td>29.020000</td>\n",
              "      <td>10.220000</td>\n",
              "      <td>10.570000</td>\n",
              "      <td>82.740000</td>\n",
              "    </tr>\n",
              "  </tbody>\n",
              "</table>\n",
              "</div>"
            ],
            "text/plain": [
              "               Rank          Year  ...   Other_Sales  Global_Sales\n",
              "count  16598.000000  16327.000000  ...  16598.000000  16598.000000\n",
              "mean    8300.605254   2006.406443  ...      0.048063      0.537441\n",
              "std     4791.853933      5.828981  ...      0.188588      1.555028\n",
              "min        1.000000   1980.000000  ...      0.000000      0.010000\n",
              "25%     4151.250000   2003.000000  ...      0.000000      0.060000\n",
              "50%     8300.500000   2007.000000  ...      0.010000      0.170000\n",
              "75%    12449.750000   2010.000000  ...      0.040000      0.470000\n",
              "max    16600.000000   2020.000000  ...     10.570000     82.740000\n",
              "\n",
              "[8 rows x 7 columns]"
            ]
          },
          "metadata": {
            "tags": []
          },
          "execution_count": 6
        }
      ]
    },
    {
      "cell_type": "markdown",
      "metadata": {
        "id": "Jc282w9cL2Nt"
      },
      "source": [
        "# **Applying Filters**"
      ]
    },
    {
      "cell_type": "markdown",
      "metadata": {
        "id": "hkBz8XQ9L7Q0"
      },
      "source": [
        "Applying Asymmetric mean"
      ]
    },
    {
      "cell_type": "code",
      "metadata": {
        "id": "EIjJ10NmLwo7"
      },
      "source": [
        "def asymMean(df,col,q):\n",
        "    n=len(df[col])\n",
        "    y=[]\n",
        "    for k in range(n):\n",
        "        if k-q+1<0:\n",
        "            y.append(df[col][k])\n",
        "            continue\n",
        "        else:\n",
        "            l=int(k-q+1)\n",
        "            total=0\n",
        "            for i in range(l,k+1):\n",
        "                total+=df[col][i]\n",
        "            mean=total/q\n",
        "            y.append(mean)\n",
        "    print(pd.DataFrame(y))"
      ],
      "execution_count": null,
      "outputs": []
    },
    {
      "cell_type": "code",
      "metadata": {
        "id": "5i49QZFmMPAu",
        "colab": {
          "base_uri": "https://localhost:8080/",
          "height": 255
        },
        "outputId": "fedadaa2-4947-459b-bd80-5f535b2b0e5b"
      },
      "source": [
        "asymMean(df,'Global_Sales',3)"
      ],
      "execution_count": null,
      "outputs": [
        {
          "output_type": "stream",
          "text": [
            "               0\n",
            "0      82.740000\n",
            "1      40.240000\n",
            "2      52.933333\n",
            "3      36.353333\n",
            "4      33.396667\n",
            "...          ...\n",
            "16593   0.010000\n",
            "16594   0.010000\n",
            "16595   0.010000\n",
            "16596   0.010000\n",
            "16597   0.010000\n",
            "\n",
            "[16598 rows x 1 columns]\n"
          ],
          "name": "stdout"
        }
      ]
    },
    {
      "cell_type": "code",
      "metadata": {
        "id": "LB0DhM-9MWUt",
        "colab": {
          "base_uri": "https://localhost:8080/",
          "height": 255
        },
        "outputId": "0bd46e28-9b3d-424a-a9fb-090d26441802"
      },
      "source": [
        "asymMean(df,'NA_Sales',3)"
      ],
      "execution_count": null,
      "outputs": [
        {
          "output_type": "stream",
          "text": [
            "               0\n",
            "0      41.490000\n",
            "1      29.080000\n",
            "2      28.806667\n",
            "3      20.226667\n",
            "4      14.290000\n",
            "...          ...\n",
            "16593   0.010000\n",
            "16594   0.010000\n",
            "16595   0.006667\n",
            "16596   0.003333\n",
            "16597   0.003333\n",
            "\n",
            "[16598 rows x 1 columns]\n"
          ],
          "name": "stdout"
        }
      ]
    },
    {
      "cell_type": "code",
      "metadata": {
        "id": "ie-7iNZOM_Jm",
        "colab": {
          "base_uri": "https://localhost:8080/",
          "height": 255
        },
        "outputId": "cff73eb9-a55f-478e-b6a9-45a4d66c9322"
      },
      "source": [
        "asymMean(df,'EU_Sales',3)"
      ],
      "execution_count": null,
      "outputs": [
        {
          "output_type": "stream",
          "text": [
            "               0\n",
            "0      29.020000\n",
            "1       3.580000\n",
            "2      15.160000\n",
            "3       9.156667\n",
            "4      10.926667\n",
            "...          ...\n",
            "16593   0.000000\n",
            "16594   0.000000\n",
            "16595   0.000000\n",
            "16596   0.003333\n",
            "16597   0.003333\n",
            "\n",
            "[16598 rows x 1 columns]\n"
          ],
          "name": "stdout"
        }
      ]
    },
    {
      "cell_type": "code",
      "metadata": {
        "id": "xcys1SLSNCOF",
        "colab": {
          "base_uri": "https://localhost:8080/",
          "height": 255
        },
        "outputId": "d60a5a58-768e-4671-aa8e-e6ce1a5bd186"
      },
      "source": [
        "asymMean(df,'JP_Sales',3)"
      ],
      "execution_count": null,
      "outputs": [
        {
          "output_type": "stream",
          "text": [
            "              0\n",
            "0      3.770000\n",
            "1      6.810000\n",
            "2      4.790000\n",
            "3      4.626667\n",
            "4      5.763333\n",
            "...         ...\n",
            "16593  0.000000\n",
            "16594  0.000000\n",
            "16595  0.000000\n",
            "16596  0.000000\n",
            "16597  0.000000\n",
            "\n",
            "[16598 rows x 1 columns]\n"
          ],
          "name": "stdout"
        }
      ]
    },
    {
      "cell_type": "markdown",
      "metadata": {
        "id": "DiksU9qRNM83"
      },
      "source": [
        "Applying asymmetric median"
      ]
    },
    {
      "cell_type": "code",
      "metadata": {
        "id": "Y6CE5lHwNHZ1"
      },
      "source": [
        "def asymMedian(df,col,q):\n",
        "    n=len(df[col])\n",
        "    y=[]\n",
        "    for k in range(n):\n",
        "        if k-q+1<0:\n",
        "            y.append(df[col][k])\n",
        "            continue\n",
        "        else:\n",
        "            l=int(k-q+1)\n",
        "            vals=[]\n",
        "            for i in range(l,k+1):\n",
        "                vals.append(df[col][i])\n",
        "            middle=len(vals)//2\n",
        "            mid=sorted(vals)[middle]\n",
        "            y.append(mid)\n",
        "    print(pd.DataFrame(y))"
      ],
      "execution_count": null,
      "outputs": []
    },
    {
      "cell_type": "code",
      "metadata": {
        "id": "KWD9U8wsNzfN",
        "colab": {
          "base_uri": "https://localhost:8080/",
          "height": 255
        },
        "outputId": "87cce566-3798-483f-d800-67183875e28d"
      },
      "source": [
        "asymMedian(df,'Global_Sales',3)"
      ],
      "execution_count": null,
      "outputs": [
        {
          "output_type": "stream",
          "text": [
            "           0\n",
            "0      82.74\n",
            "1      40.24\n",
            "2      40.24\n",
            "3      35.82\n",
            "4      33.00\n",
            "...      ...\n",
            "16593   0.01\n",
            "16594   0.01\n",
            "16595   0.01\n",
            "16596   0.01\n",
            "16597   0.01\n",
            "\n",
            "[16598 rows x 1 columns]\n"
          ],
          "name": "stdout"
        }
      ]
    },
    {
      "cell_type": "code",
      "metadata": {
        "id": "wbRLRZf5N8Kl",
        "colab": {
          "base_uri": "https://localhost:8080/",
          "height": 255
        },
        "outputId": "b8aa17f5-bb97-4981-c5e3-8a2384c8e19d"
      },
      "source": [
        "asymMedian(df,'NA_Sales',3)"
      ],
      "execution_count": null,
      "outputs": [
        {
          "output_type": "stream",
          "text": [
            "           0\n",
            "0      41.49\n",
            "1      29.08\n",
            "2      29.08\n",
            "3      15.85\n",
            "4      15.75\n",
            "...      ...\n",
            "16593   0.01\n",
            "16594   0.01\n",
            "16595   0.01\n",
            "16596   0.00\n",
            "16597   0.00\n",
            "\n",
            "[16598 rows x 1 columns]\n"
          ],
          "name": "stdout"
        }
      ]
    },
    {
      "cell_type": "code",
      "metadata": {
        "id": "vpx8cCk_Oc61",
        "colab": {
          "base_uri": "https://localhost:8080/",
          "height": 255
        },
        "outputId": "e80d3183-79d9-4510-8f43-f4d1cbf6e152"
      },
      "source": [
        "asymMedian(df,'EU_Sales',3)"
      ],
      "execution_count": null,
      "outputs": [
        {
          "output_type": "stream",
          "text": [
            "           0\n",
            "0      29.02\n",
            "1       3.58\n",
            "2      12.88\n",
            "3      11.01\n",
            "4      11.01\n",
            "...      ...\n",
            "16593   0.00\n",
            "16594   0.00\n",
            "16595   0.00\n",
            "16596   0.00\n",
            "16597   0.00\n",
            "\n",
            "[16598 rows x 1 columns]\n"
          ],
          "name": "stdout"
        }
      ]
    },
    {
      "cell_type": "code",
      "metadata": {
        "id": "QvmGGbisOe8N",
        "colab": {
          "base_uri": "https://localhost:8080/",
          "height": 255
        },
        "outputId": "cc6f01fe-4442-45db-dab9-8d572a7919e5"
      },
      "source": [
        "asymMedian(df,'JP_Sales',3)"
      ],
      "execution_count": null,
      "outputs": [
        {
          "output_type": "stream",
          "text": [
            "          0\n",
            "0      3.77\n",
            "1      6.81\n",
            "2      3.79\n",
            "3      3.79\n",
            "4      3.79\n",
            "...     ...\n",
            "16593  0.00\n",
            "16594  0.00\n",
            "16595  0.00\n",
            "16596  0.00\n",
            "16597  0.00\n",
            "\n",
            "[16598 rows x 1 columns]\n"
          ],
          "name": "stdout"
        }
      ]
    },
    {
      "cell_type": "markdown",
      "metadata": {
        "id": "oAloyJtlOkpe"
      },
      "source": [
        "Applying Symmetric mean"
      ]
    },
    {
      "cell_type": "code",
      "metadata": {
        "id": "yiysfq_cOgw9"
      },
      "source": [
        "def symMean(df,col,q):\n",
        "    n=len(df[col])\n",
        "    y=[]\n",
        "    for k in range(n):\n",
        "        if k-((q-1)//2)<0:\n",
        "            y.append(df[col][k])\n",
        "            continue\n",
        "        elif k+((q-1)//2)>=n:\n",
        "            y.append(df[col][k])\n",
        "            continue\n",
        "        else:\n",
        "            l=int(k-((q-1)/2))\n",
        "            u=int(k+((q-1)/2))\n",
        "            total=0\n",
        "            for i in range(l,u+1):\n",
        "                total+=df[col][i]\n",
        "            mean=total/q\n",
        "            y.append(mean)\n",
        "    print(pd.DataFrame(y))"
      ],
      "execution_count": null,
      "outputs": []
    },
    {
      "cell_type": "code",
      "metadata": {
        "id": "jcar6P_iPBsv",
        "colab": {
          "base_uri": "https://localhost:8080/",
          "height": 255
        },
        "outputId": "422ff9b9-9366-42c3-a821-f75f9b5fd48a"
      },
      "source": [
        "symMean(df,'Global_Sales',3)"
      ],
      "execution_count": null,
      "outputs": [
        {
          "output_type": "stream",
          "text": [
            "               0\n",
            "0      82.740000\n",
            "1      52.933333\n",
            "2      36.353333\n",
            "3      33.396667\n",
            "4      31.543333\n",
            "...          ...\n",
            "16593   0.010000\n",
            "16594   0.010000\n",
            "16595   0.010000\n",
            "16596   0.010000\n",
            "16597   0.010000\n",
            "\n",
            "[16598 rows x 1 columns]\n"
          ],
          "name": "stdout"
        }
      ]
    },
    {
      "cell_type": "code",
      "metadata": {
        "id": "G97mj-QIPHsV",
        "colab": {
          "base_uri": "https://localhost:8080/",
          "height": 255
        },
        "outputId": "409593b6-69e5-414a-ef3d-89afea812e31"
      },
      "source": [
        "symMean(df,'NA_Sales',3)"
      ],
      "execution_count": null,
      "outputs": [
        {
          "output_type": "stream",
          "text": [
            "               0\n",
            "0      41.490000\n",
            "1      28.806667\n",
            "2      20.226667\n",
            "3      14.290000\n",
            "4      16.740000\n",
            "...          ...\n",
            "16593   0.010000\n",
            "16594   0.006667\n",
            "16595   0.003333\n",
            "16596   0.003333\n",
            "16597   0.010000\n",
            "\n",
            "[16598 rows x 1 columns]\n"
          ],
          "name": "stdout"
        }
      ]
    },
    {
      "cell_type": "code",
      "metadata": {
        "id": "NGHqEwWIPVbG",
        "colab": {
          "base_uri": "https://localhost:8080/",
          "height": 255
        },
        "outputId": "827b71ae-da16-4187-b35e-192029f35168"
      },
      "source": [
        "symMean(df,'EU_Sales',3)"
      ],
      "execution_count": null,
      "outputs": [
        {
          "output_type": "stream",
          "text": [
            "               0\n",
            "0      29.020000\n",
            "1      15.160000\n",
            "2       9.156667\n",
            "3      10.926667\n",
            "4       7.386667\n",
            "...          ...\n",
            "16593   0.000000\n",
            "16594   0.000000\n",
            "16595   0.003333\n",
            "16596   0.003333\n",
            "16597   0.000000\n",
            "\n",
            "[16598 rows x 1 columns]\n"
          ],
          "name": "stdout"
        }
      ]
    },
    {
      "cell_type": "code",
      "metadata": {
        "id": "7I3Ql9zHPXi9",
        "colab": {
          "base_uri": "https://localhost:8080/",
          "height": 255
        },
        "outputId": "eb575f21-5681-4309-d413-a70c1514c12b"
      },
      "source": [
        "symMean(df,'JP_Sales',3)"
      ],
      "execution_count": null,
      "outputs": [
        {
          "output_type": "stream",
          "text": [
            "              0\n",
            "0      3.770000\n",
            "1      4.790000\n",
            "2      4.626667\n",
            "3      5.763333\n",
            "4      5.906667\n",
            "...         ...\n",
            "16593  0.000000\n",
            "16594  0.000000\n",
            "16595  0.000000\n",
            "16596  0.000000\n",
            "16597  0.000000\n",
            "\n",
            "[16598 rows x 1 columns]\n"
          ],
          "name": "stdout"
        }
      ]
    },
    {
      "cell_type": "markdown",
      "metadata": {
        "id": "DVdpt7fjPcJh"
      },
      "source": [
        "Applying Symmetric median"
      ]
    },
    {
      "cell_type": "code",
      "metadata": {
        "id": "bl3oRcw5PZIV"
      },
      "source": [
        "def symMedian(df,col,q):\n",
        "    n=len(df[col])\n",
        "    y=[]\n",
        "    for k in range(n):\n",
        "        if k-((q-1)//2)<0:\n",
        "            y.append(df[col][k])\n",
        "            continue\n",
        "        elif k+((q-1)//2)>=n:\n",
        "            y.append(df[col][k])\n",
        "            continue\n",
        "        else:\n",
        "            l=int(k-((q-1)/2))\n",
        "            u=int(k+((q-1)/2))\n",
        "            vals=[]\n",
        "            for i in range(l,u+1):\n",
        "                vals.append(df[col][i])\n",
        "            middle=len(vals)//2\n",
        "            mid=sorted(vals)[middle]\n",
        "            y.append(mid)\n",
        "    print(pd.DataFrame(y))"
      ],
      "execution_count": null,
      "outputs": []
    },
    {
      "cell_type": "code",
      "metadata": {
        "id": "lznGK0X6PvFu",
        "colab": {
          "base_uri": "https://localhost:8080/",
          "height": 255
        },
        "outputId": "4f93ae45-3f1f-427a-af47-79332dc4471d"
      },
      "source": [
        "symMedian(df,'Global_Sales',3)"
      ],
      "execution_count": null,
      "outputs": [
        {
          "output_type": "stream",
          "text": [
            "           0\n",
            "0      82.74\n",
            "1      40.24\n",
            "2      35.82\n",
            "3      33.00\n",
            "4      31.37\n",
            "...      ...\n",
            "16593   0.01\n",
            "16594   0.01\n",
            "16595   0.01\n",
            "16596   0.01\n",
            "16597   0.01\n",
            "\n",
            "[16598 rows x 1 columns]\n"
          ],
          "name": "stdout"
        }
      ]
    },
    {
      "cell_type": "code",
      "metadata": {
        "id": "4YkQf0CJPybd",
        "colab": {
          "base_uri": "https://localhost:8080/",
          "height": 255
        },
        "outputId": "43ec0d4b-f101-4240-de82-3deda000c0ff"
      },
      "source": [
        "symMedian(df,'NA_Sales',3)"
      ],
      "execution_count": null,
      "outputs": [
        {
          "output_type": "stream",
          "text": [
            "           0\n",
            "0      41.49\n",
            "1      29.08\n",
            "2      15.85\n",
            "3      15.75\n",
            "4      15.75\n",
            "...      ...\n",
            "16593   0.01\n",
            "16594   0.01\n",
            "16595   0.00\n",
            "16596   0.00\n",
            "16597   0.01\n",
            "\n",
            "[16598 rows x 1 columns]\n"
          ],
          "name": "stdout"
        }
      ]
    },
    {
      "cell_type": "code",
      "metadata": {
        "id": "EBdtXhxCP0m1",
        "colab": {
          "base_uri": "https://localhost:8080/",
          "height": 255
        },
        "outputId": "f59818cd-7ee0-4b45-9ffb-5247ae9c8b50"
      },
      "source": [
        "symMedian(df,'EU_Sales',3)"
      ],
      "execution_count": null,
      "outputs": [
        {
          "output_type": "stream",
          "text": [
            "           0\n",
            "0      29.02\n",
            "1      12.88\n",
            "2      11.01\n",
            "3      11.01\n",
            "4       8.89\n",
            "...      ...\n",
            "16593   0.00\n",
            "16594   0.00\n",
            "16595   0.00\n",
            "16596   0.00\n",
            "16597   0.00\n",
            "\n",
            "[16598 rows x 1 columns]\n"
          ],
          "name": "stdout"
        }
      ]
    },
    {
      "cell_type": "code",
      "metadata": {
        "id": "gEkBA9bzPqDm",
        "colab": {
          "base_uri": "https://localhost:8080/",
          "height": 255
        },
        "outputId": "d10053bc-018f-460d-bf4f-4bd4e1eaf269"
      },
      "source": [
        "symMedian(df,'JP_Sales',3)"
      ],
      "execution_count": null,
      "outputs": [
        {
          "output_type": "stream",
          "text": [
            "          0\n",
            "0      3.77\n",
            "1      3.79\n",
            "2      3.79\n",
            "3      3.79\n",
            "4      4.22\n",
            "...     ...\n",
            "16593  0.00\n",
            "16594  0.00\n",
            "16595  0.00\n",
            "16596  0.00\n",
            "16597  0.00\n",
            "\n",
            "[16598 rows x 1 columns]\n"
          ],
          "name": "stdout"
        }
      ]
    },
    {
      "cell_type": "markdown",
      "metadata": {
        "id": "k7xSEwmVP4GG"
      },
      "source": [
        "Applying Exponential filter"
      ]
    },
    {
      "cell_type": "code",
      "metadata": {
        "id": "kcnsfDAKPtsF"
      },
      "source": [
        "def expFil(df,col):\n",
        "    y=[0]\n",
        "    n=len(df[col])\n",
        "    alpha=0.03\n",
        "    for k in range(1,n):\n",
        "        #print(k)\n",
        "        y_k=y[k-1]+alpha*(df[col][k-1]-y[k-1])\n",
        "        y.append(y_k)\n",
        "    print(pd.DataFrame(y))"
      ],
      "execution_count": null,
      "outputs": []
    },
    {
      "cell_type": "code",
      "metadata": {
        "id": "y-HF75GDQRth",
        "colab": {
          "base_uri": "https://localhost:8080/",
          "height": 255
        },
        "outputId": "984d3b24-ae89-4bdd-8fe6-6081aacb297a"
      },
      "source": [
        "expFil(df,'Global_Sales')"
      ],
      "execution_count": null,
      "outputs": [
        {
          "output_type": "stream",
          "text": [
            "              0\n",
            "0      0.000000\n",
            "1      2.482200\n",
            "2      3.614934\n",
            "3      4.581086\n",
            "4      5.433653\n",
            "...         ...\n",
            "16593  0.010000\n",
            "16594  0.010000\n",
            "16595  0.010000\n",
            "16596  0.010000\n",
            "16597  0.010000\n",
            "\n",
            "[16598 rows x 1 columns]\n"
          ],
          "name": "stdout"
        }
      ]
    },
    {
      "cell_type": "code",
      "metadata": {
        "id": "y-xXQTnyQbVu",
        "colab": {
          "base_uri": "https://localhost:8080/",
          "height": 255
        },
        "outputId": "ca818915-59be-4f78-b5b8-a19f0b3bc4a7"
      },
      "source": [
        "expFil(df,'NA_Sales')"
      ],
      "execution_count": null,
      "outputs": [
        {
          "output_type": "stream",
          "text": [
            "              0\n",
            "0      0.000000\n",
            "1      1.244700\n",
            "2      2.079759\n",
            "3      2.492866\n",
            "4      2.890580\n",
            "...         ...\n",
            "16593  0.003813\n",
            "16594  0.003998\n",
            "16595  0.004179\n",
            "16596  0.004053\n",
            "16597  0.003932\n",
            "\n",
            "[16598 rows x 1 columns]\n"
          ],
          "name": "stdout"
        }
      ]
    },
    {
      "cell_type": "code",
      "metadata": {
        "id": "2q-HmJjhQfDu",
        "colab": {
          "base_uri": "https://localhost:8080/",
          "height": 255
        },
        "outputId": "3e242197-d386-4e0f-df48-d1ea07842919"
      },
      "source": [
        "expFil(df,'EU_Sales')"
      ],
      "execution_count": null,
      "outputs": [
        {
          "output_type": "stream",
          "text": [
            "              0\n",
            "0      0.000000\n",
            "1      0.870600\n",
            "2      0.951882\n",
            "3      1.309726\n",
            "4      1.600734\n",
            "...         ...\n",
            "16593  0.002100\n",
            "16594  0.002037\n",
            "16595  0.001976\n",
            "16596  0.001916\n",
            "16597  0.002159\n",
            "\n",
            "[16598 rows x 1 columns]\n"
          ],
          "name": "stdout"
        }
      ]
    },
    {
      "cell_type": "code",
      "metadata": {
        "id": "JeucJ8hhQgsv",
        "colab": {
          "base_uri": "https://localhost:8080/",
          "height": 255
        },
        "outputId": "d35fad81-5d84-4838-a935-9cd4401b425a"
      },
      "source": [
        "expFil(df,'JP_Sales')"
      ],
      "execution_count": null,
      "outputs": [
        {
          "output_type": "stream",
          "text": [
            "              0\n",
            "0      0.000000\n",
            "1      0.113100\n",
            "2      0.314007\n",
            "3      0.418287\n",
            "4      0.504138\n",
            "...         ...\n",
            "16593  0.004094\n",
            "16594  0.003971\n",
            "16595  0.003852\n",
            "16596  0.003736\n",
            "16597  0.003624\n",
            "\n",
            "[16598 rows x 1 columns]\n"
          ],
          "name": "stdout"
        }
      ]
    },
    {
      "cell_type": "markdown",
      "metadata": {
        "id": "VDh1O4GIQkL3"
      },
      "source": [
        "# **Applying Data Transformation**"
      ]
    },
    {
      "cell_type": "markdown",
      "metadata": {
        "id": "fHlrL_eNQ01x"
      },
      "source": [
        "Applying min max standardization"
      ]
    },
    {
      "cell_type": "code",
      "metadata": {
        "id": "r6zL9xvgQigW"
      },
      "source": [
        "import numpy as np\n",
        "def minMax(df,col):\n",
        "    print((df[col]-np.min(df[col]))/(np.max(df[col])-np.min(df[col])))"
      ],
      "execution_count": null,
      "outputs": []
    },
    {
      "cell_type": "code",
      "metadata": {
        "id": "Yy_gKe_bRCN6",
        "colab": {
          "base_uri": "https://localhost:8080/",
          "height": 221
        },
        "outputId": "c140af3f-a7ee-4016-fbc1-55e772532ae3"
      },
      "source": [
        "minMax(df,'Global_Sales')"
      ],
      "execution_count": null,
      "outputs": [
        {
          "output_type": "stream",
          "text": [
            "0        1.000000\n",
            "1        0.486281\n",
            "2        0.432854\n",
            "3        0.398767\n",
            "4        0.379064\n",
            "           ...   \n",
            "16593    0.000000\n",
            "16594    0.000000\n",
            "16595    0.000000\n",
            "16596    0.000000\n",
            "16597    0.000000\n",
            "Name: Global_Sales, Length: 16598, dtype: float64\n"
          ],
          "name": "stdout"
        }
      ]
    },
    {
      "cell_type": "code",
      "metadata": {
        "id": "4iYyiYT0RIsm",
        "colab": {
          "base_uri": "https://localhost:8080/",
          "height": 221
        },
        "outputId": "bfaaf440-9204-4dab-c14d-51b0552e39c2"
      },
      "source": [
        "minMax(df,'NA_Sales')"
      ],
      "execution_count": null,
      "outputs": [
        {
          "output_type": "stream",
          "text": [
            "0        1.000000\n",
            "1        0.700892\n",
            "2        0.382020\n",
            "3        0.379610\n",
            "4        0.271632\n",
            "           ...   \n",
            "16593    0.000241\n",
            "16594    0.000241\n",
            "16595    0.000000\n",
            "16596    0.000000\n",
            "16597    0.000241\n",
            "Name: NA_Sales, Length: 16598, dtype: float64\n"
          ],
          "name": "stdout"
        }
      ]
    },
    {
      "cell_type": "code",
      "metadata": {
        "id": "f4bV5sfIRTqF",
        "colab": {
          "base_uri": "https://localhost:8080/",
          "height": 221
        },
        "outputId": "2cb3fa61-b41d-4690-ba97-efc96bf33f96"
      },
      "source": [
        "minMax(df,'EU_Sales')"
      ],
      "execution_count": null,
      "outputs": [
        {
          "output_type": "stream",
          "text": [
            "0        1.000000\n",
            "1        0.123363\n",
            "2        0.443832\n",
            "3        0.379394\n",
            "4        0.306340\n",
            "           ...   \n",
            "16593    0.000000\n",
            "16594    0.000000\n",
            "16595    0.000000\n",
            "16596    0.000345\n",
            "16597    0.000000\n",
            "Name: EU_Sales, Length: 16598, dtype: float64\n"
          ],
          "name": "stdout"
        }
      ]
    },
    {
      "cell_type": "code",
      "metadata": {
        "id": "MxhdQWDLRU_1",
        "colab": {
          "base_uri": "https://localhost:8080/",
          "height": 221
        },
        "outputId": "c40ae28f-4257-4a12-b567-31bdbd9ac839"
      },
      "source": [
        "minMax(df,'JP_Sales')"
      ],
      "execution_count": null,
      "outputs": [
        {
          "output_type": "stream",
          "text": [
            "0        0.368885\n",
            "1        0.666341\n",
            "2        0.370841\n",
            "3        0.320939\n",
            "4        1.000000\n",
            "           ...   \n",
            "16593    0.000000\n",
            "16594    0.000000\n",
            "16595    0.000000\n",
            "16596    0.000000\n",
            "16597    0.000000\n",
            "Name: JP_Sales, Length: 16598, dtype: float64\n"
          ],
          "name": "stdout"
        }
      ]
    },
    {
      "cell_type": "markdown",
      "metadata": {
        "id": "pZGyLetcRYhf"
      },
      "source": [
        "Applying Mu Sigma Standardiztion"
      ]
    },
    {
      "cell_type": "code",
      "metadata": {
        "id": "QcpilsdlRWdO"
      },
      "source": [
        "def muSigma(df,col):\n",
        "    print((df[col]-np.mean(df[col]))/np.std(df[col]))"
      ],
      "execution_count": null,
      "outputs": []
    },
    {
      "cell_type": "code",
      "metadata": {
        "id": "crXvjjgrRnOm",
        "colab": {
          "base_uri": "https://localhost:8080/",
          "height": 221
        },
        "outputId": "a8233330-2e77-482e-b075-a783d1b6a381"
      },
      "source": [
        "muSigma(df,'Global_Sales')"
      ],
      "execution_count": null,
      "outputs": [
        {
          "output_type": "stream",
          "text": [
            "0        52.864025\n",
            "1        25.532503\n",
            "2        22.690025\n",
            "3        20.876498\n",
            "4        19.828254\n",
            "           ...    \n",
            "16593    -0.339194\n",
            "16594    -0.339194\n",
            "16595    -0.339194\n",
            "16596    -0.339194\n",
            "16597    -0.339194\n",
            "Name: Global_Sales, Length: 16598, dtype: float64\n"
          ],
          "name": "stdout"
        }
      ]
    },
    {
      "cell_type": "code",
      "metadata": {
        "id": "lK_TuoqJR33D",
        "colab": {
          "base_uri": "https://localhost:8080/",
          "height": 221
        },
        "outputId": "8fd17094-ec96-4c03-84bc-d17805822800"
      },
      "source": [
        "muSigma(df,'NA_Sales')"
      ],
      "execution_count": null,
      "outputs": [
        {
          "output_type": "stream",
          "text": [
            "0        50.480508\n",
            "1        35.284437\n",
            "2        19.084273\n",
            "3        18.961823\n",
            "4        13.476053\n",
            "           ...    \n",
            "16593    -0.311841\n",
            "16594    -0.311841\n",
            "16595    -0.324086\n",
            "16596    -0.324086\n",
            "16597    -0.311841\n",
            "Name: NA_Sales, Length: 16598, dtype: float64\n"
          ],
          "name": "stdout"
        }
      ]
    },
    {
      "cell_type": "code",
      "metadata": {
        "id": "0T89Feq-R8TQ",
        "colab": {
          "base_uri": "https://localhost:8080/",
          "height": 221
        },
        "outputId": "ecc9e210-6184-478b-c750-12409fc16044"
      },
      "source": [
        "muSigma(df,'EU_Sales')"
      ],
      "execution_count": null,
      "outputs": [
        {
          "output_type": "stream",
          "text": [
            "0        57.136930\n",
            "1         6.794188\n",
            "2        25.197785\n",
            "3        21.497277\n",
            "4        17.302048\n",
            "           ...    \n",
            "16593    -0.290207\n",
            "16594    -0.290207\n",
            "16595    -0.290207\n",
            "16596    -0.270418\n",
            "16597    -0.290207\n",
            "Name: EU_Sales, Length: 16598, dtype: float64\n"
          ],
          "name": "stdout"
        }
      ]
    },
    {
      "cell_type": "code",
      "metadata": {
        "id": "e-WP4ItzR9oF",
        "colab": {
          "base_uri": "https://localhost:8080/",
          "height": 221
        },
        "outputId": "248991a2-02da-4c38-f87d-0ee22de48153"
      },
      "source": [
        "muSigma(df,'JP_Sales')"
      ],
      "execution_count": null,
      "outputs": [
        {
          "output_type": "stream",
          "text": [
            "0        11.938058\n",
            "1        21.767296\n",
            "2        12.002724\n",
            "3        10.353740\n",
            "4        32.792857\n",
            "           ...    \n",
            "16593    -0.251492\n",
            "16594    -0.251492\n",
            "16595    -0.251492\n",
            "16596    -0.251492\n",
            "16597    -0.251492\n",
            "Name: JP_Sales, Length: 16598, dtype: float64\n"
          ],
          "name": "stdout"
        }
      ]
    },
    {
      "cell_type": "code",
      "metadata": {
        "id": "1p6OYpNYR_Jm"
      },
      "source": [
        ""
      ],
      "execution_count": null,
      "outputs": []
    }
  ]
}