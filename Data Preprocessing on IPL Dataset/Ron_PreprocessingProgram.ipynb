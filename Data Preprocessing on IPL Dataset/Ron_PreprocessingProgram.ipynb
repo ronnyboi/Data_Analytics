{
  "nbformat": 4,
  "nbformat_minor": 0,
  "metadata": {
    "colab": {
      "name": "1840114_Lab CIA2.ipynb",
      "provenance": [],
      "collapsed_sections": [],
      "include_colab_link": true
    },
    "kernelspec": {
      "name": "python3",
      "display_name": "Python 3"
    }
  },
  "cells": [
    {
      "cell_type": "markdown",
      "metadata": {
        "id": "view-in-github",
        "colab_type": "text"
      },
      "source": [
        "<a href=\"https://colab.research.google.com/github/ronnyboi/Data_Analytics/blob/main/Data%20Preprocessing%20on%20IPL%20Dataset/Ron_PreprocessingProgram.ipynb\" target=\"_parent\"><img src=\"https://colab.research.google.com/assets/colab-badge.svg\" alt=\"Open In Colab\"/></a>"
      ]
    },
    {
      "cell_type": "markdown",
      "metadata": {
        "id": "8C2Ck5KXZ1LV"
      },
      "source": [
        "# Data Preprocessing on IPL Dataset"
      ]
    },
    {
      "cell_type": "markdown",
      "metadata": {
        "id": "23pGjWU2ZqJh"
      },
      "source": [
        "\n",
        "1. Create a pandas data frame and describe the data set \n",
        "2. Visualize any two columns\n",
        "3. Preprocess the data"
      ]
    },
    {
      "cell_type": "code",
      "metadata": {
        "id": "M9YAJIex1WEe",
        "colab": {
          "base_uri": "https://localhost:8080/",
          "height": 393
        },
        "outputId": "13f0aae3-7399-4efa-edcd-d33996f2b17b"
      },
      "source": [
        "import pandas as pd \n",
        "df = pd.read_csv('IPL_most_runs_average_strikerate.csv',  encoding='utf-8')\n",
        "df.head(10)"
      ],
      "execution_count": null,
      "outputs": [
        {
          "output_type": "stream",
          "text": [
            "/usr/local/lib/python3.6/dist-packages/statsmodels/tools/_testing.py:19: FutureWarning: pandas.util.testing is deprecated. Use the functions in the public API at pandas.testing instead.\n",
            "  import pandas.util.testing as tm\n"
          ],
          "name": "stderr"
        },
        {
          "output_type": "execute_result",
          "data": {
            "text/html": [
              "<div>\n",
              "<style scoped>\n",
              "    .dataframe tbody tr th:only-of-type {\n",
              "        vertical-align: middle;\n",
              "    }\n",
              "\n",
              "    .dataframe tbody tr th {\n",
              "        vertical-align: top;\n",
              "    }\n",
              "\n",
              "    .dataframe thead th {\n",
              "        text-align: right;\n",
              "    }\n",
              "</style>\n",
              "<table border=\"1\" class=\"dataframe\">\n",
              "  <thead>\n",
              "    <tr style=\"text-align: right;\">\n",
              "      <th></th>\n",
              "      <th>batsman</th>\n",
              "      <th>total_runs</th>\n",
              "      <th>out</th>\n",
              "      <th>numberofballs</th>\n",
              "      <th>average</th>\n",
              "      <th>strikerate</th>\n",
              "    </tr>\n",
              "  </thead>\n",
              "  <tbody>\n",
              "    <tr>\n",
              "      <th>0</th>\n",
              "      <td>V Kohli</td>\n",
              "      <td>5426</td>\n",
              "      <td>152</td>\n",
              "      <td>4111</td>\n",
              "      <td>35.697368</td>\n",
              "      <td>131.987351</td>\n",
              "    </tr>\n",
              "    <tr>\n",
              "      <th>1</th>\n",
              "      <td>SK Raina</td>\n",
              "      <td>5386</td>\n",
              "      <td>160</td>\n",
              "      <td>3916</td>\n",
              "      <td>33.662500</td>\n",
              "      <td>137.538304</td>\n",
              "    </tr>\n",
              "    <tr>\n",
              "      <th>2</th>\n",
              "      <td>RG Sharma</td>\n",
              "      <td>4902</td>\n",
              "      <td>161</td>\n",
              "      <td>3742</td>\n",
              "      <td>30.447205</td>\n",
              "      <td>130.999466</td>\n",
              "    </tr>\n",
              "    <tr>\n",
              "      <th>3</th>\n",
              "      <td>DA Warner</td>\n",
              "      <td>4717</td>\n",
              "      <td>114</td>\n",
              "      <td>3292</td>\n",
              "      <td>41.377193</td>\n",
              "      <td>143.286756</td>\n",
              "    </tr>\n",
              "    <tr>\n",
              "      <th>4</th>\n",
              "      <td>S Dhawan</td>\n",
              "      <td>4601</td>\n",
              "      <td>137</td>\n",
              "      <td>3665</td>\n",
              "      <td>33.583942</td>\n",
              "      <td>125.538881</td>\n",
              "    </tr>\n",
              "    <tr>\n",
              "      <th>5</th>\n",
              "      <td>CH Gayle</td>\n",
              "      <td>4525</td>\n",
              "      <td>110</td>\n",
              "      <td>2972</td>\n",
              "      <td>41.136364</td>\n",
              "      <td>152.254374</td>\n",
              "    </tr>\n",
              "    <tr>\n",
              "      <th>6</th>\n",
              "      <td>MS Dhoni</td>\n",
              "      <td>4450</td>\n",
              "      <td>118</td>\n",
              "      <td>3206</td>\n",
              "      <td>37.711864</td>\n",
              "      <td>138.802246</td>\n",
              "    </tr>\n",
              "    <tr>\n",
              "      <th>7</th>\n",
              "      <td>RV Uthappa</td>\n",
              "      <td>4420</td>\n",
              "      <td>156</td>\n",
              "      <td>3381</td>\n",
              "      <td>28.333333</td>\n",
              "      <td>130.730553</td>\n",
              "    </tr>\n",
              "    <tr>\n",
              "      <th>8</th>\n",
              "      <td>AB de Villiers</td>\n",
              "      <td>4414</td>\n",
              "      <td>104</td>\n",
              "      <td>2902</td>\n",
              "      <td>42.442308</td>\n",
              "      <td>152.101999</td>\n",
              "    </tr>\n",
              "    <tr>\n",
              "      <th>9</th>\n",
              "      <td>G Gambhir</td>\n",
              "      <td>4219</td>\n",
              "      <td>134</td>\n",
              "      <td>3400</td>\n",
              "      <td>31.485075</td>\n",
              "      <td>124.088235</td>\n",
              "    </tr>\n",
              "  </tbody>\n",
              "</table>\n",
              "</div>"
            ],
            "text/plain": [
              "          batsman  total_runs  out  numberofballs    average  strikerate\n",
              "0         V Kohli        5426  152           4111  35.697368  131.987351\n",
              "1        SK Raina        5386  160           3916  33.662500  137.538304\n",
              "2       RG Sharma        4902  161           3742  30.447205  130.999466\n",
              "3       DA Warner        4717  114           3292  41.377193  143.286756\n",
              "4        S Dhawan        4601  137           3665  33.583942  125.538881\n",
              "5        CH Gayle        4525  110           2972  41.136364  152.254374\n",
              "6        MS Dhoni        4450  118           3206  37.711864  138.802246\n",
              "7      RV Uthappa        4420  156           3381  28.333333  130.730553\n",
              "8  AB de Villiers        4414  104           2902  42.442308  152.101999\n",
              "9       G Gambhir        4219  134           3400  31.485075  124.088235"
            ]
          },
          "metadata": {
            "tags": []
          },
          "execution_count": 21
        }
      ]
    },
    {
      "cell_type": "code",
      "metadata": {
        "id": "EWoIY1Ir1tF_",
        "colab": {
          "base_uri": "https://localhost:8080/",
          "height": 297
        },
        "outputId": "3049ab29-0c80-45c8-d98c-724ed79ded8d"
      },
      "source": [
        "df.describe()"
      ],
      "execution_count": null,
      "outputs": [
        {
          "output_type": "execute_result",
          "data": {
            "text/html": [
              "<div>\n",
              "<style scoped>\n",
              "    .dataframe tbody tr th:only-of-type {\n",
              "        vertical-align: middle;\n",
              "    }\n",
              "\n",
              "    .dataframe tbody tr th {\n",
              "        vertical-align: top;\n",
              "    }\n",
              "\n",
              "    .dataframe thead th {\n",
              "        text-align: right;\n",
              "    }\n",
              "</style>\n",
              "<table border=\"1\" class=\"dataframe\">\n",
              "  <thead>\n",
              "    <tr style=\"text-align: right;\">\n",
              "      <th></th>\n",
              "      <th>total_runs</th>\n",
              "      <th>out</th>\n",
              "      <th>numberofballs</th>\n",
              "      <th>average</th>\n",
              "      <th>strikerate</th>\n",
              "    </tr>\n",
              "  </thead>\n",
              "  <tbody>\n",
              "    <tr>\n",
              "      <th>count</th>\n",
              "      <td>516.000000</td>\n",
              "      <td>516.000000</td>\n",
              "      <td>516.000000</td>\n",
              "      <td>482.000000</td>\n",
              "      <td>516.000000</td>\n",
              "    </tr>\n",
              "    <tr>\n",
              "      <th>mean</th>\n",
              "      <td>430.625969</td>\n",
              "      <td>17.063953</td>\n",
              "      <td>335.645349</td>\n",
              "      <td>16.355074</td>\n",
              "      <td>105.433442</td>\n",
              "    </tr>\n",
              "    <tr>\n",
              "      <th>std</th>\n",
              "      <td>882.275431</td>\n",
              "      <td>28.124511</td>\n",
              "      <td>663.593679</td>\n",
              "      <td>11.146222</td>\n",
              "      <td>39.633938</td>\n",
              "    </tr>\n",
              "    <tr>\n",
              "      <th>min</th>\n",
              "      <td>0.000000</td>\n",
              "      <td>0.000000</td>\n",
              "      <td>1.000000</td>\n",
              "      <td>0.000000</td>\n",
              "      <td>0.000000</td>\n",
              "    </tr>\n",
              "    <tr>\n",
              "      <th>25%</th>\n",
              "      <td>15.000000</td>\n",
              "      <td>2.000000</td>\n",
              "      <td>17.000000</td>\n",
              "      <td>8.000000</td>\n",
              "      <td>84.362069</td>\n",
              "    </tr>\n",
              "    <tr>\n",
              "      <th>50%</th>\n",
              "      <td>74.000000</td>\n",
              "      <td>5.500000</td>\n",
              "      <td>68.000000</td>\n",
              "      <td>14.607143</td>\n",
              "      <td>111.651584</td>\n",
              "    </tr>\n",
              "    <tr>\n",
              "      <th>75%</th>\n",
              "      <td>340.500000</td>\n",
              "      <td>18.000000</td>\n",
              "      <td>290.000000</td>\n",
              "      <td>23.657609</td>\n",
              "      <td>130.499036</td>\n",
              "    </tr>\n",
              "    <tr>\n",
              "      <th>max</th>\n",
              "      <td>5426.000000</td>\n",
              "      <td>161.000000</td>\n",
              "      <td>4111.000000</td>\n",
              "      <td>88.000000</td>\n",
              "      <td>250.000000</td>\n",
              "    </tr>\n",
              "  </tbody>\n",
              "</table>\n",
              "</div>"
            ],
            "text/plain": [
              "        total_runs         out  numberofballs     average  strikerate\n",
              "count   516.000000  516.000000     516.000000  482.000000  516.000000\n",
              "mean    430.625969   17.063953     335.645349   16.355074  105.433442\n",
              "std     882.275431   28.124511     663.593679   11.146222   39.633938\n",
              "min       0.000000    0.000000       1.000000    0.000000    0.000000\n",
              "25%      15.000000    2.000000      17.000000    8.000000   84.362069\n",
              "50%      74.000000    5.500000      68.000000   14.607143  111.651584\n",
              "75%     340.500000   18.000000     290.000000   23.657609  130.499036\n",
              "max    5426.000000  161.000000    4111.000000   88.000000  250.000000"
            ]
          },
          "metadata": {
            "tags": []
          },
          "execution_count": 22
        }
      ]
    },
    {
      "cell_type": "code",
      "metadata": {
        "id": "kUSL01a8Clim",
        "colab": {
          "base_uri": "https://localhost:8080/",
          "height": 238
        },
        "outputId": "54d86db4-b4b7-44cc-b71a-0f5548e24b0e"
      },
      "source": [
        "df.info()"
      ],
      "execution_count": null,
      "outputs": [
        {
          "output_type": "stream",
          "text": [
            "<class 'pandas.core.frame.DataFrame'>\n",
            "RangeIndex: 516 entries, 0 to 515\n",
            "Data columns (total 6 columns):\n",
            " #   Column         Non-Null Count  Dtype  \n",
            "---  ------         --------------  -----  \n",
            " 0   batsman        516 non-null    object \n",
            " 1   total_runs     516 non-null    int64  \n",
            " 2   out            516 non-null    int64  \n",
            " 3   numberofballs  516 non-null    int64  \n",
            " 4   average        482 non-null    float64\n",
            " 5   strikerate     516 non-null    float64\n",
            "dtypes: float64(2), int64(3), object(1)\n",
            "memory usage: 24.3+ KB\n"
          ],
          "name": "stdout"
        }
      ]
    },
    {
      "cell_type": "code",
      "metadata": {
        "id": "fLhNNATgDOVJ",
        "colab": {
          "base_uri": "https://localhost:8080/",
          "height": 419
        },
        "outputId": "12d9b44f-28ba-4f03-a085-8467f79b2a26"
      },
      "source": [
        "df.isnull()"
      ],
      "execution_count": null,
      "outputs": [
        {
          "output_type": "execute_result",
          "data": {
            "text/html": [
              "<div>\n",
              "<style scoped>\n",
              "    .dataframe tbody tr th:only-of-type {\n",
              "        vertical-align: middle;\n",
              "    }\n",
              "\n",
              "    .dataframe tbody tr th {\n",
              "        vertical-align: top;\n",
              "    }\n",
              "\n",
              "    .dataframe thead th {\n",
              "        text-align: right;\n",
              "    }\n",
              "</style>\n",
              "<table border=\"1\" class=\"dataframe\">\n",
              "  <thead>\n",
              "    <tr style=\"text-align: right;\">\n",
              "      <th></th>\n",
              "      <th>batsman</th>\n",
              "      <th>total_runs</th>\n",
              "      <th>out</th>\n",
              "      <th>numberofballs</th>\n",
              "      <th>average</th>\n",
              "      <th>strikerate</th>\n",
              "    </tr>\n",
              "  </thead>\n",
              "  <tbody>\n",
              "    <tr>\n",
              "      <th>0</th>\n",
              "      <td>False</td>\n",
              "      <td>False</td>\n",
              "      <td>False</td>\n",
              "      <td>False</td>\n",
              "      <td>False</td>\n",
              "      <td>False</td>\n",
              "    </tr>\n",
              "    <tr>\n",
              "      <th>1</th>\n",
              "      <td>False</td>\n",
              "      <td>False</td>\n",
              "      <td>False</td>\n",
              "      <td>False</td>\n",
              "      <td>False</td>\n",
              "      <td>False</td>\n",
              "    </tr>\n",
              "    <tr>\n",
              "      <th>2</th>\n",
              "      <td>False</td>\n",
              "      <td>False</td>\n",
              "      <td>False</td>\n",
              "      <td>False</td>\n",
              "      <td>False</td>\n",
              "      <td>False</td>\n",
              "    </tr>\n",
              "    <tr>\n",
              "      <th>3</th>\n",
              "      <td>False</td>\n",
              "      <td>False</td>\n",
              "      <td>False</td>\n",
              "      <td>False</td>\n",
              "      <td>False</td>\n",
              "      <td>False</td>\n",
              "    </tr>\n",
              "    <tr>\n",
              "      <th>4</th>\n",
              "      <td>False</td>\n",
              "      <td>False</td>\n",
              "      <td>False</td>\n",
              "      <td>False</td>\n",
              "      <td>False</td>\n",
              "      <td>False</td>\n",
              "    </tr>\n",
              "    <tr>\n",
              "      <th>...</th>\n",
              "      <td>...</td>\n",
              "      <td>...</td>\n",
              "      <td>...</td>\n",
              "      <td>...</td>\n",
              "      <td>...</td>\n",
              "      <td>...</td>\n",
              "    </tr>\n",
              "    <tr>\n",
              "      <th>511</th>\n",
              "      <td>False</td>\n",
              "      <td>False</td>\n",
              "      <td>False</td>\n",
              "      <td>False</td>\n",
              "      <td>False</td>\n",
              "      <td>False</td>\n",
              "    </tr>\n",
              "    <tr>\n",
              "      <th>512</th>\n",
              "      <td>False</td>\n",
              "      <td>False</td>\n",
              "      <td>False</td>\n",
              "      <td>False</td>\n",
              "      <td>False</td>\n",
              "      <td>False</td>\n",
              "    </tr>\n",
              "    <tr>\n",
              "      <th>513</th>\n",
              "      <td>False</td>\n",
              "      <td>False</td>\n",
              "      <td>False</td>\n",
              "      <td>False</td>\n",
              "      <td>False</td>\n",
              "      <td>False</td>\n",
              "    </tr>\n",
              "    <tr>\n",
              "      <th>514</th>\n",
              "      <td>False</td>\n",
              "      <td>False</td>\n",
              "      <td>False</td>\n",
              "      <td>False</td>\n",
              "      <td>False</td>\n",
              "      <td>False</td>\n",
              "    </tr>\n",
              "    <tr>\n",
              "      <th>515</th>\n",
              "      <td>False</td>\n",
              "      <td>False</td>\n",
              "      <td>False</td>\n",
              "      <td>False</td>\n",
              "      <td>False</td>\n",
              "      <td>False</td>\n",
              "    </tr>\n",
              "  </tbody>\n",
              "</table>\n",
              "<p>516 rows × 6 columns</p>\n",
              "</div>"
            ],
            "text/plain": [
              "     batsman  total_runs    out  numberofballs  average  strikerate\n",
              "0      False       False  False          False    False       False\n",
              "1      False       False  False          False    False       False\n",
              "2      False       False  False          False    False       False\n",
              "3      False       False  False          False    False       False\n",
              "4      False       False  False          False    False       False\n",
              "..       ...         ...    ...            ...      ...         ...\n",
              "511    False       False  False          False    False       False\n",
              "512    False       False  False          False    False       False\n",
              "513    False       False  False          False    False       False\n",
              "514    False       False  False          False    False       False\n",
              "515    False       False  False          False    False       False\n",
              "\n",
              "[516 rows x 6 columns]"
            ]
          },
          "metadata": {
            "tags": []
          },
          "execution_count": 59
        }
      ]
    },
    {
      "cell_type": "code",
      "metadata": {
        "id": "he0pCcG0PyuN"
      },
      "source": [
        ""
      ],
      "execution_count": null,
      "outputs": []
    },
    {
      "cell_type": "markdown",
      "metadata": {
        "id": "bwLwLhzyPyK2"
      },
      "source": [
        "# Data Visualization"
      ]
    },
    {
      "cell_type": "code",
      "metadata": {
        "id": "cEc3h08P8fBF",
        "colab": {
          "base_uri": "https://localhost:8080/",
          "height": 738
        },
        "outputId": "a605cbe4-dbfd-4d9b-a4da-ad80dc34124c"
      },
      "source": [
        "num_attributes = df.select_dtypes(exclude='object').copy()\n",
        "fig = plt.figure(figsize=(25,55))\n",
        "for i in range(len(num_attributes.columns)):\n",
        "    fig.add_subplot(9,4,i+1)\n",
        "    sns.distplot(num_attributes.iloc[:,i].dropna(),kde=False)\n",
        "    plt.xlabel(num_attributes.columns[i])\n",
        "\n",
        "plt.tight_layout()\n",
        "plt.show()"
      ],
      "execution_count": null,
      "outputs": [
        {
          "output_type": "display_data",
          "data": {
            "image/png": "[encoded data removed]",
            "text/plain": [
              "<Figure size 1800x3960 with 5 Axes>"
            ]
          },
          "metadata": {
            "tags": [],
            "needs_background": "light"
          }
        }
      ]
    },
    {
      "cell_type": "code",
      "metadata": {
        "id": "Slp7V2aj3FyQ",
        "colab": {
          "base_uri": "https://localhost:8080/",
          "height": 497
        },
        "outputId": "e0a3f7a2-0b35-4ed1-8191-80174f4d548c"
      },
      "source": [
        "from matplotlib import pyplot as plt\n",
        "fig = plt.figure(figsize=(8, 8))\n",
        "plt.ylabel('Average')\n",
        "plt.xlabel('Total Runs')\n",
        "plt.plot(yt_df['total_runs'],yt_df['average'])\n",
        "plt.show()"
      ],
      "execution_count": null,
      "outputs": [
        {
          "output_type": "display_data",
          "data": {
            "image/png": "[encoded data removed]",
            "text/plain": [
              "<Figure size 576x576 with 1 Axes>"
            ]
          },
          "metadata": {
            "tags": [],
            "needs_background": "light"
          }
        }
      ]
    },
    {
      "cell_type": "code",
      "metadata": {
        "id": "t9hdZhBK3kfQ",
        "colab": {
          "base_uri": "https://localhost:8080/",
          "height": 497
        },
        "outputId": "d10cbefc-4d3f-40b7-a2c0-52525b2bb4c8"
      },
      "source": [
        "from matplotlib import pyplot as plt\n",
        "fig = plt.figure(figsize=(8, 8))\n",
        "plt.ylabel('Average')\n",
        "plt.xlabel('Total Runs')\n",
        "plt.scatter(yt_df['total_runs'],yt_df['average'])\n",
        "plt.show()"
      ],
      "execution_count": null,
      "outputs": [
        {
          "output_type": "display_data",
          "data": {
            "image/png": "[encoded data removed]",
            "text/plain": [
              "<Figure size 576x576 with 1 Axes>"
            ]
          },
          "metadata": {
            "tags": [],
            "needs_background": "light"
          }
        }
      ]
    },
    {
      "cell_type": "code",
      "metadata": {
        "id": "5KZDJzK69e1O",
        "colab": {
          "base_uri": "https://localhost:8080/",
          "height": 504
        },
        "outputId": "25169a35-fcf9-4e30-85ba-6fecce5ee451"
      },
      "source": [
        "fig = plt.figure(figsize=(40, 60))\n",
        "\n",
        "for i in range(len(num_attributes.columns)):\n",
        "    fig.add_subplot(9, 4, i+1)\n",
        "    sns.boxplot(y=num_attributes.iloc[:,i])\n",
        "\n",
        "plt.tight_layout()\n",
        "plt.show()"
      ],
      "execution_count": null,
      "outputs": [
        {
          "output_type": "display_data",
          "data": {
            "image/png": "[encoded data removed]",
            "text/plain": [
              "<Figure size 2880x4320 with 5 Axes>"
            ]
          },
          "metadata": {
            "tags": [],
            "needs_background": "light"
          }
        }
      ]
    },
    {
      "cell_type": "markdown",
      "metadata": {
        "id": "AA6OYqLcLIJe"
      },
      "source": [
        "## Label Encoder"
      ]
    },
    {
      "cell_type": "code",
      "metadata": {
        "id": "ykWVrOimKxjW",
        "colab": {
          "base_uri": "https://localhost:8080/",
          "height": 204
        },
        "outputId": "e579010b-0db0-4b2d-e188-81622ac070c9"
      },
      "source": [
        "\n",
        "from sklearn import preprocessing \n",
        "  \n",
        "label_encoder = preprocessing.LabelEncoder() \n",
        "df['total_runs']= label_encoder.fit_transform(df['total_runs'])\n",
        "df['average']= label_encoder.fit_transform(df['average'])\n",
        "df['strikerate']= label_encoder.fit_transform(df['strikerate'])\n",
        "df.head()"
      ],
      "execution_count": null,
      "outputs": [
        {
          "output_type": "execute_result",
          "data": {
            "text/html": [
              "<div>\n",
              "<style scoped>\n",
              "    .dataframe tbody tr th:only-of-type {\n",
              "        vertical-align: middle;\n",
              "    }\n",
              "\n",
              "    .dataframe tbody tr th {\n",
              "        vertical-align: top;\n",
              "    }\n",
              "\n",
              "    .dataframe thead th {\n",
              "        text-align: right;\n",
              "    }\n",
              "</style>\n",
              "<table border=\"1\" class=\"dataframe\">\n",
              "  <thead>\n",
              "    <tr style=\"text-align: right;\">\n",
              "      <th></th>\n",
              "      <th>batsman</th>\n",
              "      <th>total_runs</th>\n",
              "      <th>out</th>\n",
              "      <th>numberofballs</th>\n",
              "      <th>average</th>\n",
              "      <th>strikerate</th>\n",
              "    </tr>\n",
              "  </thead>\n",
              "  <tbody>\n",
              "    <tr>\n",
              "      <th>0</th>\n",
              "      <td>V Kohli</td>\n",
              "      <td>282</td>\n",
              "      <td>152</td>\n",
              "      <td>4111</td>\n",
              "      <td>296</td>\n",
              "      <td>300</td>\n",
              "    </tr>\n",
              "    <tr>\n",
              "      <th>1</th>\n",
              "      <td>SK Raina</td>\n",
              "      <td>281</td>\n",
              "      <td>160</td>\n",
              "      <td>3916</td>\n",
              "      <td>289</td>\n",
              "      <td>330</td>\n",
              "    </tr>\n",
              "    <tr>\n",
              "      <th>2</th>\n",
              "      <td>RG Sharma</td>\n",
              "      <td>280</td>\n",
              "      <td>161</td>\n",
              "      <td>3742</td>\n",
              "      <td>275</td>\n",
              "      <td>295</td>\n",
              "    </tr>\n",
              "    <tr>\n",
              "      <th>3</th>\n",
              "      <td>DA Warner</td>\n",
              "      <td>279</td>\n",
              "      <td>114</td>\n",
              "      <td>3292</td>\n",
              "      <td>315</td>\n",
              "      <td>354</td>\n",
              "    </tr>\n",
              "    <tr>\n",
              "      <th>4</th>\n",
              "      <td>S Dhawan</td>\n",
              "      <td>278</td>\n",
              "      <td>137</td>\n",
              "      <td>3665</td>\n",
              "      <td>288</td>\n",
              "      <td>252</td>\n",
              "    </tr>\n",
              "  </tbody>\n",
              "</table>\n",
              "</div>"
            ],
            "text/plain": [
              "     batsman  total_runs  out  numberofballs  average  strikerate\n",
              "0    V Kohli         282  152           4111      296         300\n",
              "1   SK Raina         281  160           3916      289         330\n",
              "2  RG Sharma         280  161           3742      275         295\n",
              "3  DA Warner         279  114           3292      315         354\n",
              "4   S Dhawan         278  137           3665      288         252"
            ]
          },
          "metadata": {
            "tags": []
          },
          "execution_count": 98
        }
      ]
    },
    {
      "cell_type": "markdown",
      "metadata": {
        "id": "tNBRcipuSXRm"
      },
      "source": [
        "# Dropping Columns"
      ]
    },
    {
      "cell_type": "code",
      "metadata": {
        "id": "4whk_hW0Lon1",
        "colab": {
          "base_uri": "https://localhost:8080/",
          "height": 204
        },
        "outputId": "c95ea3a8-cd71-45a3-d58c-48ac4e5f4a3e"
      },
      "source": [
        "df=df.drop(['batsman'], axis = 1) \n",
        "df.head()"
      ],
      "execution_count": null,
      "outputs": [
        {
          "output_type": "execute_result",
          "data": {
            "text/html": [
              "<div>\n",
              "<style scoped>\n",
              "    .dataframe tbody tr th:only-of-type {\n",
              "        vertical-align: middle;\n",
              "    }\n",
              "\n",
              "    .dataframe tbody tr th {\n",
              "        vertical-align: top;\n",
              "    }\n",
              "\n",
              "    .dataframe thead th {\n",
              "        text-align: right;\n",
              "    }\n",
              "</style>\n",
              "<table border=\"1\" class=\"dataframe\">\n",
              "  <thead>\n",
              "    <tr style=\"text-align: right;\">\n",
              "      <th></th>\n",
              "      <th>total_runs</th>\n",
              "      <th>out</th>\n",
              "      <th>numberofballs</th>\n",
              "      <th>average</th>\n",
              "      <th>strikerate</th>\n",
              "    </tr>\n",
              "  </thead>\n",
              "  <tbody>\n",
              "    <tr>\n",
              "      <th>0</th>\n",
              "      <td>282</td>\n",
              "      <td>152</td>\n",
              "      <td>4111</td>\n",
              "      <td>296</td>\n",
              "      <td>300</td>\n",
              "    </tr>\n",
              "    <tr>\n",
              "      <th>1</th>\n",
              "      <td>281</td>\n",
              "      <td>160</td>\n",
              "      <td>3916</td>\n",
              "      <td>289</td>\n",
              "      <td>330</td>\n",
              "    </tr>\n",
              "    <tr>\n",
              "      <th>2</th>\n",
              "      <td>280</td>\n",
              "      <td>161</td>\n",
              "      <td>3742</td>\n",
              "      <td>275</td>\n",
              "      <td>295</td>\n",
              "    </tr>\n",
              "    <tr>\n",
              "      <th>3</th>\n",
              "      <td>279</td>\n",
              "      <td>114</td>\n",
              "      <td>3292</td>\n",
              "      <td>315</td>\n",
              "      <td>354</td>\n",
              "    </tr>\n",
              "    <tr>\n",
              "      <th>4</th>\n",
              "      <td>278</td>\n",
              "      <td>137</td>\n",
              "      <td>3665</td>\n",
              "      <td>288</td>\n",
              "      <td>252</td>\n",
              "    </tr>\n",
              "  </tbody>\n",
              "</table>\n",
              "</div>"
            ],
            "text/plain": [
              "   total_runs  out  numberofballs  average  strikerate\n",
              "0         282  152           4111      296         300\n",
              "1         281  160           3916      289         330\n",
              "2         280  161           3742      275         295\n",
              "3         279  114           3292      315         354\n",
              "4         278  137           3665      288         252"
            ]
          },
          "metadata": {
            "tags": []
          },
          "execution_count": 100
        }
      ]
    },
    {
      "cell_type": "markdown",
      "metadata": {
        "id": "boTCtTzDRLGn"
      },
      "source": [
        "# Data Preprocessing"
      ]
    },
    {
      "cell_type": "markdown",
      "metadata": {
        "id": "Zgs0EUt1IqdV"
      },
      "source": [
        "**Treating outliers**"
      ]
    },
    {
      "cell_type": "markdown",
      "metadata": {
        "id": "GZrJa33_QW1X"
      },
      "source": [
        "Assymetric Mean Filter"
      ]
    },
    {
      "cell_type": "code",
      "metadata": {
        "id": "cwRvSxEhHUPN"
      },
      "source": [
        "t_list = list(df['total_runs'])\n",
        "filtered_t_list=[None]*len(t_list)"
      ],
      "execution_count": null,
      "outputs": []
    },
    {
      "cell_type": "code",
      "metadata": {
        "id": "aCpZ1rspIdN4",
        "colab": {
          "base_uri": "https://localhost:8080/",
          "height": 187
        },
        "outputId": "f6da2d56-8da5-4f6c-d684-9b1fb4c6210f"
      },
      "source": [
        "q=3\n",
        "for i in range(q-1):\n",
        "  filtered_t_list[i] = t_list[i]\n",
        "\n",
        "#applying filter on rest of the values\n",
        "for i in range(q-1, len(t_list)):\n",
        "  start_i = (i+1)-q\n",
        "  end_i = i+1\n",
        "  filtered_t_list[i] = sum(t_list[ start_i:end_i ])/3.0\n",
        "  \n",
        "filtered_t_list[:10]"
      ],
      "execution_count": null,
      "outputs": [
        {
          "output_type": "execute_result",
          "data": {
            "text/plain": [
              "[5426,\n",
              " 5386,\n",
              " 5238.0,\n",
              " 5001.666666666667,\n",
              " 4740.0,\n",
              " 4614.333333333333,\n",
              " 4525.333333333333,\n",
              " 4465.0,\n",
              " 4428.0,\n",
              " 4351.0]"
            ]
          },
          "metadata": {
            "tags": []
          },
          "execution_count": 128
        }
      ]
    },
    {
      "cell_type": "markdown",
      "metadata": {
        "id": "zKp1MWKIQauO"
      },
      "source": [
        "Z Score"
      ]
    },
    {
      "cell_type": "code",
      "metadata": {
        "id": "ZLJUz6cJJNwd",
        "colab": {
          "base_uri": "https://localhost:8080/",
          "height": 136
        },
        "outputId": "b02a03a1-7440-42ce-f565-8beb320df652"
      },
      "source": [
        "import numpy as np\n",
        "from scipy import stats\n",
        "zscore = np.abs(stats.zscore(df))\n",
        "print(zscore)"
      ],
      "execution_count": null,
      "outputs": [
        {
          "output_type": "stream",
          "text": [
            "[[2.22657819 4.80246528 5.69477737 1.4471581  0.96360411]\n",
            " [2.21493159 5.08719069 5.40063769 1.38120639 1.20733927]\n",
            " [2.20328498 5.12278137 5.1381746  1.24930296 0.92298159]\n",
            " ...\n",
            " [1.05776458 0.53613631 0.49271465 1.34165727 1.47374746]\n",
            " [1.05776458 0.57172698 0.50478192 1.34165727 1.47374746]\n",
            " [1.05776458 0.57172698 0.50478192 1.34165727 1.47374746]]\n"
          ],
          "name": "stdout"
        }
      ]
    },
    {
      "cell_type": "code",
      "metadata": {
        "id": "yWlJq98rJoZd",
        "colab": {
          "base_uri": "https://localhost:8080/",
          "height": 85
        },
        "outputId": "1274f7ce-20ce-4b4d-f8e4-558e1bb811c7"
      },
      "source": [
        "thres = 3\n",
        "print(np.where(zscore > 3))"
      ],
      "execution_count": null,
      "outputs": [
        {
          "output_type": "stream",
          "text": [
            "(array([ 0,  0,  1,  1,  2,  2,  3,  3,  4,  4,  5,  5,  6,  6,  7,  7,  8,\n",
            "        8,  9,  9, 10, 10, 11, 11, 12, 12, 13, 13, 14, 15, 16, 16, 17, 18,\n",
            "       19]), array([1, 2, 1, 2, 1, 2, 1, 2, 1, 2, 1, 2, 1, 2, 1, 2, 1, 2, 1, 2, 1, 2,\n",
            "       1, 2, 1, 2, 1, 2, 1, 1, 1, 2, 2, 1, 1]))\n"
          ],
          "name": "stdout"
        }
      ]
    },
    {
      "cell_type": "code",
      "metadata": {
        "id": "CtaMzG57L6Ul",
        "colab": {
          "base_uri": "https://localhost:8080/",
          "height": 34
        },
        "outputId": "2e88e266-8b1d-47fc-fd99-ca8fd859fe6f"
      },
      "source": [
        "print(zscore[12][3])"
      ],
      "execution_count": null,
      "outputs": [
        {
          "output_type": "stream",
          "text": [
            "1.2775679794364232\n"
          ],
          "name": "stdout"
        }
      ]
    },
    {
      "cell_type": "code",
      "metadata": {
        "id": "maPH_tIoMA5C",
        "colab": {
          "base_uri": "https://localhost:8080/",
          "height": 34
        },
        "outputId": "76157a43-50ca-4923-d460-d89ac5410941"
      },
      "source": [
        "Q1 = np.percentile(df, 25, interpolation = 'midpoint')  \n",
        "Q2 = np.percentile(df, 50, interpolation = 'midpoint')  \n",
        "Q3 = np.percentile(df, 75, interpolation = 'midpoint')\n",
        "IQR=Q3-Q1 \n",
        "print(IQR)"
      ],
      "execution_count": null,
      "outputs": [
        {
          "output_type": "stream",
          "text": [
            "181.0\n"
          ],
          "name": "stdout"
        }
      ]
    },
    {
      "cell_type": "code",
      "metadata": {
        "id": "CWD4w-PZMC3X",
        "colab": {
          "base_uri": "https://localhost:8080/",
          "height": 34
        },
        "outputId": "dff73535-a8b6-4d76-9c07-db438405cbb9"
      },
      "source": [
        "low_limit = Q1 - 1.5 * IQR \n",
        "upper_limit = Q3 + 1.5 * IQR \n",
        "low_limit"
      ],
      "execution_count": null,
      "outputs": [
        {
          "output_type": "execute_result",
          "data": {
            "text/plain": [
              "-259.5"
            ]
          },
          "metadata": {
            "tags": []
          },
          "execution_count": 123
        }
      ]
    },
    {
      "cell_type": "code",
      "metadata": {
        "id": "9VHmN1CnORIf",
        "colab": {
          "base_uri": "https://localhost:8080/",
          "height": 34
        },
        "outputId": "4ea44ad8-5f06-4b09-8d39-6cc6b4356e09"
      },
      "source": [
        "upper_limit"
      ],
      "execution_count": null,
      "outputs": [
        {
          "output_type": "execute_result",
          "data": {
            "text/plain": [
              "464.5"
            ]
          },
          "metadata": {
            "tags": []
          },
          "execution_count": 124
        }
      ]
    },
    {
      "cell_type": "code",
      "metadata": {
        "id": "5htmyzYmMFGl"
      },
      "source": [
        "df_out = df[~((df < (Q1 - 1.5 * IQR)) |(df > (Q3 + 1.5 * IQR))).any(axis=1)]\n",
        "df_out.shape\n",
        "y=df.columns.values.reshape(-1,5)"
      ],
      "execution_count": null,
      "outputs": []
    },
    {
      "cell_type": "code",
      "metadata": {
        "id": "W8nnnfgBMLFA",
        "colab": {
          "base_uri": "https://localhost:8080/",
          "height": 359
        },
        "outputId": "b2bc7fc2-65ab-4fa9-baa2-3ca9364966d8"
      },
      "source": [
        "df.head(10)"
      ],
      "execution_count": null,
      "outputs": [
        {
          "output_type": "execute_result",
          "data": {
            "text/html": [
              "<div>\n",
              "<style scoped>\n",
              "    .dataframe tbody tr th:only-of-type {\n",
              "        vertical-align: middle;\n",
              "    }\n",
              "\n",
              "    .dataframe tbody tr th {\n",
              "        vertical-align: top;\n",
              "    }\n",
              "\n",
              "    .dataframe thead th {\n",
              "        text-align: right;\n",
              "    }\n",
              "</style>\n",
              "<table border=\"1\" class=\"dataframe\">\n",
              "  <thead>\n",
              "    <tr style=\"text-align: right;\">\n",
              "      <th></th>\n",
              "      <th>total_runs</th>\n",
              "      <th>out</th>\n",
              "      <th>numberofballs</th>\n",
              "      <th>average</th>\n",
              "      <th>strikerate</th>\n",
              "    </tr>\n",
              "  </thead>\n",
              "  <tbody>\n",
              "    <tr>\n",
              "      <th>0</th>\n",
              "      <td>282</td>\n",
              "      <td>152</td>\n",
              "      <td>4111</td>\n",
              "      <td>296</td>\n",
              "      <td>300</td>\n",
              "    </tr>\n",
              "    <tr>\n",
              "      <th>1</th>\n",
              "      <td>281</td>\n",
              "      <td>160</td>\n",
              "      <td>3916</td>\n",
              "      <td>289</td>\n",
              "      <td>330</td>\n",
              "    </tr>\n",
              "    <tr>\n",
              "      <th>2</th>\n",
              "      <td>280</td>\n",
              "      <td>161</td>\n",
              "      <td>3742</td>\n",
              "      <td>275</td>\n",
              "      <td>295</td>\n",
              "    </tr>\n",
              "    <tr>\n",
              "      <th>3</th>\n",
              "      <td>279</td>\n",
              "      <td>114</td>\n",
              "      <td>3292</td>\n",
              "      <td>315</td>\n",
              "      <td>354</td>\n",
              "    </tr>\n",
              "    <tr>\n",
              "      <th>4</th>\n",
              "      <td>278</td>\n",
              "      <td>137</td>\n",
              "      <td>3665</td>\n",
              "      <td>288</td>\n",
              "      <td>252</td>\n",
              "    </tr>\n",
              "    <tr>\n",
              "      <th>5</th>\n",
              "      <td>277</td>\n",
              "      <td>110</td>\n",
              "      <td>2972</td>\n",
              "      <td>314</td>\n",
              "      <td>372</td>\n",
              "    </tr>\n",
              "    <tr>\n",
              "      <th>6</th>\n",
              "      <td>276</td>\n",
              "      <td>118</td>\n",
              "      <td>3206</td>\n",
              "      <td>304</td>\n",
              "      <td>340</td>\n",
              "    </tr>\n",
              "    <tr>\n",
              "      <th>7</th>\n",
              "      <td>275</td>\n",
              "      <td>156</td>\n",
              "      <td>3381</td>\n",
              "      <td>261</td>\n",
              "      <td>291</td>\n",
              "    </tr>\n",
              "    <tr>\n",
              "      <th>8</th>\n",
              "      <td>274</td>\n",
              "      <td>104</td>\n",
              "      <td>2902</td>\n",
              "      <td>317</td>\n",
              "      <td>371</td>\n",
              "    </tr>\n",
              "    <tr>\n",
              "      <th>9</th>\n",
              "      <td>273</td>\n",
              "      <td>134</td>\n",
              "      <td>3400</td>\n",
              "      <td>279</td>\n",
              "      <td>242</td>\n",
              "    </tr>\n",
              "  </tbody>\n",
              "</table>\n",
              "</div>"
            ],
            "text/plain": [
              "   total_runs  out  numberofballs  average  strikerate\n",
              "0         282  152           4111      296         300\n",
              "1         281  160           3916      289         330\n",
              "2         280  161           3742      275         295\n",
              "3         279  114           3292      315         354\n",
              "4         278  137           3665      288         252\n",
              "5         277  110           2972      314         372\n",
              "6         276  118           3206      304         340\n",
              "7         275  156           3381      261         291\n",
              "8         274  104           2902      317         371\n",
              "9         273  134           3400      279         242"
            ]
          },
          "metadata": {
            "tags": []
          },
          "execution_count": 113
        }
      ]
    },
    {
      "cell_type": "markdown",
      "metadata": {
        "id": "gKi05O4NQ2Mv"
      },
      "source": [
        " **Applying Min Max Normalization**"
      ]
    },
    {
      "cell_type": "code",
      "metadata": {
        "id": "69G-ud_EMWHN"
      },
      "source": [
        "import numpy as np\n",
        "def minMax(df,col):\n",
        "    print((df[col]-np.min(df[col]))/(np.max(df[col])-np.min(df[col])))"
      ],
      "execution_count": null,
      "outputs": []
    },
    {
      "cell_type": "code",
      "metadata": {
        "id": "1STw41fMMsMl",
        "colab": {
          "base_uri": "https://localhost:8080/",
          "height": 221
        },
        "outputId": "bce0fdf0-6716-4b35-a115-1849cb2936cb"
      },
      "source": [
        "minMax(df,'total_runs')"
      ],
      "execution_count": null,
      "outputs": [
        {
          "output_type": "stream",
          "text": [
            "0      1.000000\n",
            "1      0.996454\n",
            "2      0.992908\n",
            "3      0.989362\n",
            "4      0.985816\n",
            "         ...   \n",
            "511    0.000000\n",
            "512    0.000000\n",
            "513    0.000000\n",
            "514    0.000000\n",
            "515    0.000000\n",
            "Name: total_runs, Length: 516, dtype: float64\n"
          ],
          "name": "stdout"
        }
      ]
    },
    {
      "cell_type": "code",
      "metadata": {
        "id": "1CsKKTD4MwqV",
        "colab": {
          "base_uri": "https://localhost:8080/",
          "height": 221
        },
        "outputId": "e61f83b4-663a-4693-cee3-6c7118f1bd1f"
      },
      "source": [
        "minMax(df,'out')"
      ],
      "execution_count": null,
      "outputs": [
        {
          "output_type": "stream",
          "text": [
            "0      0.944099\n",
            "1      0.993789\n",
            "2      1.000000\n",
            "3      0.708075\n",
            "4      0.850932\n",
            "         ...   \n",
            "511    0.006211\n",
            "512    0.006211\n",
            "513    0.012422\n",
            "514    0.006211\n",
            "515    0.006211\n",
            "Name: out, Length: 516, dtype: float64\n"
          ],
          "name": "stdout"
        }
      ]
    },
    {
      "cell_type": "code",
      "metadata": {
        "id": "SW12Py7YMzjd",
        "colab": {
          "base_uri": "https://localhost:8080/",
          "height": 221
        },
        "outputId": "0b3fbf95-b794-4a56-81ab-6f6217604d7e"
      },
      "source": [
        "minMax(df,'numberofballs')"
      ],
      "execution_count": null,
      "outputs": [
        {
          "output_type": "stream",
          "text": [
            "0      1.000000\n",
            "1      0.952555\n",
            "2      0.910219\n",
            "3      0.800730\n",
            "4      0.891484\n",
            "         ...   \n",
            "511    0.002920\n",
            "512    0.000000\n",
            "513    0.001946\n",
            "514    0.000000\n",
            "515    0.000000\n",
            "Name: numberofballs, Length: 516, dtype: float64\n"
          ],
          "name": "stdout"
        }
      ]
    },
    {
      "cell_type": "code",
      "metadata": {
        "id": "_gDjyqcOM2Dy",
        "colab": {
          "base_uri": "https://localhost:8080/",
          "height": 221
        },
        "outputId": "fd00fd39-6c9d-4b34-da87-accdac5630e1"
      },
      "source": [
        "minMax(df,'average')"
      ],
      "execution_count": null,
      "outputs": [
        {
          "output_type": "stream",
          "text": [
            "0      0.831461\n",
            "1      0.811798\n",
            "2      0.772472\n",
            "3      0.884831\n",
            "4      0.808989\n",
            "         ...   \n",
            "511    0.000000\n",
            "512    0.000000\n",
            "513    0.000000\n",
            "514    0.000000\n",
            "515    0.000000\n",
            "Name: average, Length: 516, dtype: float64\n"
          ],
          "name": "stdout"
        }
      ]
    },
    {
      "cell_type": "code",
      "metadata": {
        "id": "F91Z9HWfM2nd",
        "colab": {
          "base_uri": "https://localhost:8080/",
          "height": 221
        },
        "outputId": "da38a049-82ba-46e7-c751-12b8af51ab15"
      },
      "source": [
        "minMax(df,'strikerate')"
      ],
      "execution_count": null,
      "outputs": [
        {
          "output_type": "stream",
          "text": [
            "0      0.742574\n",
            "1      0.816832\n",
            "2      0.730198\n",
            "3      0.876238\n",
            "4      0.623762\n",
            "         ...   \n",
            "511    0.000000\n",
            "512    0.000000\n",
            "513    0.000000\n",
            "514    0.000000\n",
            "515    0.000000\n",
            "Name: strikerate, Length: 516, dtype: float64\n"
          ],
          "name": "stdout"
        }
      ]
    },
    {
      "cell_type": "code",
      "metadata": {
        "id": "gzHdfQXTM8pC"
      },
      "source": [
        ""
      ],
      "execution_count": null,
      "outputs": []
    }
  ]
}