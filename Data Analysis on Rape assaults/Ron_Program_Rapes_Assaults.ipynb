{
  "nbformat": 4,
  "nbformat_minor": 0,
  "metadata": {
    "colab": {
      "name": "1840114_Lab CIA3_Rapes_Assaults.ipynb",
      "provenance": [],
      "collapsed_sections": [
        "s_bDem2WF4Z2"
      ],
      "toc_visible": true,
      "include_colab_link": true
    },
    "kernelspec": {
      "name": "python3",
      "display_name": "Python 3"
    }
  },
  "cells": [
    {
      "cell_type": "markdown",
      "metadata": {
        "id": "view-in-github",
        "colab_type": "text"
      },
      "source": [
        "<a href=\"https://colab.research.google.com/github/ronnyboi/Data_Analytics/blob/main/Data%20Analysis%20on%20Rape%20assaults/Ron_Program_Rapes_Assaults.ipynb\" target=\"_parent\"><img src=\"https://colab.research.google.com/assets/colab-badge.svg\" alt=\"Open In Colab\"/></a>"
      ]
    },
    {
      "cell_type": "markdown",
      "metadata": {
        "id": "4eGlA27BdQGj"
      },
      "source": [
        "# Data Analysis on Rape assaults"
      ]
    },
    {
      "cell_type": "code",
      "metadata": {
        "id": "dcFEbXZJ3MgH"
      },
      "source": [
        "import pandas as pd\n",
        "import numpy as np\n",
        "from sklearn.linear_model import LinearRegression\n",
        "from sklearn.model_selection import train_test_split \n",
        "from sklearn.linear_model import LinearRegression\n",
        "from sklearn import metrics\n",
        "import seaborn as sb\n",
        "import scipy.stats as stats"
      ],
      "execution_count": null,
      "outputs": []
    },
    {
      "cell_type": "code",
      "metadata": {
        "id": "eDfgG8755FUX",
        "colab": {
          "base_uri": "https://localhost:8080/",
          "height": 359
        },
        "outputId": "068b994d-ad61-4f5b-d8c0-aeb6071a1b01"
      },
      "source": [
        "df = pd.read_csv('Rapes_Assaults.csv',  encoding='utf-8')\n",
        "df.head(10)"
      ],
      "execution_count": null,
      "outputs": [
        {
          "output_type": "execute_result",
          "data": {
            "text/html": [
              "<div>\n",
              "<style scoped>\n",
              "    .dataframe tbody tr th:only-of-type {\n",
              "        vertical-align: middle;\n",
              "    }\n",
              "\n",
              "    .dataframe tbody tr th {\n",
              "        vertical-align: top;\n",
              "    }\n",
              "\n",
              "    .dataframe thead th {\n",
              "        text-align: right;\n",
              "    }\n",
              "</style>\n",
              "<table border=\"1\" class=\"dataframe\">\n",
              "  <thead>\n",
              "    <tr style=\"text-align: right;\">\n",
              "      <th></th>\n",
              "      <th>States/UTs</th>\n",
              "      <th>Rape - 2015</th>\n",
              "      <th>Rape - 2016</th>\n",
              "      <th>Assaults (molestation) - 2015</th>\n",
              "      <th>Assaults (molestation) - 2016</th>\n",
              "      <th>Murder (women) - 2015</th>\n",
              "      <th>Murder (women) - 2016</th>\n",
              "    </tr>\n",
              "  </thead>\n",
              "  <tbody>\n",
              "    <tr>\n",
              "      <th>0</th>\n",
              "      <td>Andhra Pradesh</td>\n",
              "      <td>1027</td>\n",
              "      <td>994</td>\n",
              "      <td>4616</td>\n",
              "      <td>4829</td>\n",
              "      <td>428</td>\n",
              "      <td>411</td>\n",
              "    </tr>\n",
              "    <tr>\n",
              "      <th>1</th>\n",
              "      <td>Arunachal Pradesh</td>\n",
              "      <td>71</td>\n",
              "      <td>92</td>\n",
              "      <td>101</td>\n",
              "      <td>109</td>\n",
              "      <td>9</td>\n",
              "      <td>11</td>\n",
              "    </tr>\n",
              "    <tr>\n",
              "      <th>2</th>\n",
              "      <td>Assam</td>\n",
              "      <td>1733</td>\n",
              "      <td>1779</td>\n",
              "      <td>4293</td>\n",
              "      <td>3378</td>\n",
              "      <td>185</td>\n",
              "      <td>220</td>\n",
              "    </tr>\n",
              "    <tr>\n",
              "      <th>3</th>\n",
              "      <td>Bihar</td>\n",
              "      <td>1041</td>\n",
              "      <td>1008</td>\n",
              "      <td>198</td>\n",
              "      <td>324</td>\n",
              "      <td>340</td>\n",
              "      <td>318</td>\n",
              "    </tr>\n",
              "    <tr>\n",
              "      <th>4</th>\n",
              "      <td>Chhattisgarh</td>\n",
              "      <td>1560</td>\n",
              "      <td>1626</td>\n",
              "      <td>1868</td>\n",
              "      <td>1770</td>\n",
              "      <td>338</td>\n",
              "      <td>347</td>\n",
              "    </tr>\n",
              "    <tr>\n",
              "      <th>5</th>\n",
              "      <td>Goa</td>\n",
              "      <td>86</td>\n",
              "      <td>61</td>\n",
              "      <td>150</td>\n",
              "      <td>143</td>\n",
              "      <td>11</td>\n",
              "      <td>16</td>\n",
              "    </tr>\n",
              "    <tr>\n",
              "      <th>6</th>\n",
              "      <td>Gujarat</td>\n",
              "      <td>503</td>\n",
              "      <td>982</td>\n",
              "      <td>1164</td>\n",
              "      <td>1224</td>\n",
              "      <td>269</td>\n",
              "      <td>288</td>\n",
              "    </tr>\n",
              "    <tr>\n",
              "      <th>7</th>\n",
              "      <td>Haryana</td>\n",
              "      <td>1070</td>\n",
              "      <td>1187</td>\n",
              "      <td>1886</td>\n",
              "      <td>1860</td>\n",
              "      <td>197</td>\n",
              "      <td>226</td>\n",
              "    </tr>\n",
              "    <tr>\n",
              "      <th>8</th>\n",
              "      <td>Himachal Pradesh</td>\n",
              "      <td>244</td>\n",
              "      <td>252</td>\n",
              "      <td>434</td>\n",
              "      <td>410</td>\n",
              "      <td>25</td>\n",
              "      <td>28</td>\n",
              "    </tr>\n",
              "    <tr>\n",
              "      <th>9</th>\n",
              "      <td>Jammu &amp; Kashmir</td>\n",
              "      <td>296</td>\n",
              "      <td>256</td>\n",
              "      <td>1343</td>\n",
              "      <td>1235</td>\n",
              "      <td>19</td>\n",
              "      <td>24</td>\n",
              "    </tr>\n",
              "  </tbody>\n",
              "</table>\n",
              "</div>"
            ],
            "text/plain": [
              "          States/UTs  Rape - 2015  ...  Murder (women) - 2015  Murder (women) - 2016\n",
              "0     Andhra Pradesh         1027  ...                    428                    411\n",
              "1  Arunachal Pradesh           71  ...                      9                     11\n",
              "2              Assam         1733  ...                    185                    220\n",
              "3              Bihar         1041  ...                    340                    318\n",
              "4       Chhattisgarh         1560  ...                    338                    347\n",
              "5                Goa           86  ...                     11                     16\n",
              "6            Gujarat          503  ...                    269                    288\n",
              "7            Haryana         1070  ...                    197                    226\n",
              "8   Himachal Pradesh          244  ...                     25                     28\n",
              "9    Jammu & Kashmir          296  ...                     19                     24\n",
              "\n",
              "[10 rows x 7 columns]"
            ]
          },
          "metadata": {
            "tags": []
          },
          "execution_count": 5
        }
      ]
    },
    {
      "cell_type": "code",
      "metadata": {
        "id": "jzy7Wm6_5Vb9",
        "colab": {
          "base_uri": "https://localhost:8080/",
          "height": 34
        },
        "outputId": "166fe918-13d1-4c22-bdd8-d1da3801c71f"
      },
      "source": [
        "df.shape"
      ],
      "execution_count": null,
      "outputs": [
        {
          "output_type": "execute_result",
          "data": {
            "text/plain": [
              "(39, 7)"
            ]
          },
          "metadata": {
            "tags": []
          },
          "execution_count": 6
        }
      ]
    },
    {
      "cell_type": "code",
      "metadata": {
        "id": "a5ebOlsJ6HQl",
        "colab": {
          "base_uri": "https://localhost:8080/",
          "height": 297
        },
        "outputId": "1b2e7c6c-fee1-4f89-c791-aa3c526c5054"
      },
      "source": [
        "df.describe() "
      ],
      "execution_count": null,
      "outputs": [
        {
          "output_type": "execute_result",
          "data": {
            "text/html": [
              "<div>\n",
              "<style scoped>\n",
              "    .dataframe tbody tr th:only-of-type {\n",
              "        vertical-align: middle;\n",
              "    }\n",
              "\n",
              "    .dataframe tbody tr th {\n",
              "        vertical-align: top;\n",
              "    }\n",
              "\n",
              "    .dataframe thead th {\n",
              "        text-align: right;\n",
              "    }\n",
              "</style>\n",
              "<table border=\"1\" class=\"dataframe\">\n",
              "  <thead>\n",
              "    <tr style=\"text-align: right;\">\n",
              "      <th></th>\n",
              "      <th>Rape - 2015</th>\n",
              "      <th>Rape - 2016</th>\n",
              "      <th>Assaults (molestation) - 2015</th>\n",
              "      <th>Assaults (molestation) - 2016</th>\n",
              "      <th>Murder (women) - 2015</th>\n",
              "      <th>Murder (women) - 2016</th>\n",
              "    </tr>\n",
              "  </thead>\n",
              "  <tbody>\n",
              "    <tr>\n",
              "      <th>count</th>\n",
              "      <td>39.000000</td>\n",
              "      <td>39.000000</td>\n",
              "      <td>39.000000</td>\n",
              "      <td>39.000000</td>\n",
              "      <td>39.000000</td>\n",
              "      <td>39.000000</td>\n",
              "    </tr>\n",
              "    <tr>\n",
              "      <th>mean</th>\n",
              "      <td>2665.461538</td>\n",
              "      <td>2995.923077</td>\n",
              "      <td>6340.153846</td>\n",
              "      <td>6518.923077</td>\n",
              "      <td>637.769231</td>\n",
              "      <td>648.384615</td>\n",
              "    </tr>\n",
              "    <tr>\n",
              "      <th>std</th>\n",
              "      <td>7360.679516</td>\n",
              "      <td>8308.585431</td>\n",
              "      <td>17515.807646</td>\n",
              "      <td>18191.159493</td>\n",
              "      <td>1806.351811</td>\n",
              "      <td>1838.880947</td>\n",
              "    </tr>\n",
              "    <tr>\n",
              "      <th>min</th>\n",
              "      <td>0.000000</td>\n",
              "      <td>5.000000</td>\n",
              "      <td>5.000000</td>\n",
              "      <td>1.000000</td>\n",
              "      <td>0.000000</td>\n",
              "      <td>0.000000</td>\n",
              "    </tr>\n",
              "    <tr>\n",
              "      <th>25%</th>\n",
              "      <td>71.500000</td>\n",
              "      <td>80.000000</td>\n",
              "      <td>89.500000</td>\n",
              "      <td>73.500000</td>\n",
              "      <td>11.500000</td>\n",
              "      <td>12.000000</td>\n",
              "    </tr>\n",
              "    <tr>\n",
              "      <th>50%</th>\n",
              "      <td>589.000000</td>\n",
              "      <td>982.000000</td>\n",
              "      <td>1163.000000</td>\n",
              "      <td>1025.000000</td>\n",
              "      <td>137.000000</td>\n",
              "      <td>141.000000</td>\n",
              "    </tr>\n",
              "    <tr>\n",
              "      <th>75%</th>\n",
              "      <td>1646.500000</td>\n",
              "      <td>1717.500000</td>\n",
              "      <td>4941.000000</td>\n",
              "      <td>4256.500000</td>\n",
              "      <td>423.000000</td>\n",
              "      <td>379.000000</td>\n",
              "    </tr>\n",
              "    <tr>\n",
              "      <th>max</th>\n",
              "      <td>34651.000000</td>\n",
              "      <td>38947.000000</td>\n",
              "      <td>82422.000000</td>\n",
              "      <td>84746.000000</td>\n",
              "      <td>8291.000000</td>\n",
              "      <td>8429.000000</td>\n",
              "    </tr>\n",
              "  </tbody>\n",
              "</table>\n",
              "</div>"
            ],
            "text/plain": [
              "        Rape - 2015   Rape - 2016  ...  Murder (women) - 2015  Murder (women) - 2016\n",
              "count     39.000000     39.000000  ...              39.000000              39.000000\n",
              "mean    2665.461538   2995.923077  ...             637.769231             648.384615\n",
              "std     7360.679516   8308.585431  ...            1806.351811            1838.880947\n",
              "min        0.000000      5.000000  ...               0.000000               0.000000\n",
              "25%       71.500000     80.000000  ...              11.500000              12.000000\n",
              "50%      589.000000    982.000000  ...             137.000000             141.000000\n",
              "75%     1646.500000   1717.500000  ...             423.000000             379.000000\n",
              "max    34651.000000  38947.000000  ...            8291.000000            8429.000000\n",
              "\n",
              "[8 rows x 6 columns]"
            ]
          },
          "metadata": {
            "tags": []
          },
          "execution_count": 7
        }
      ]
    },
    {
      "cell_type": "code",
      "metadata": {
        "id": "m4nTx6Nv6ZbU",
        "colab": {
          "base_uri": "https://localhost:8080/",
          "height": 255
        },
        "outputId": "df3a97bb-1089-495e-d7c1-3078b7a0b930"
      },
      "source": [
        "df.info()"
      ],
      "execution_count": null,
      "outputs": [
        {
          "output_type": "stream",
          "text": [
            "<class 'pandas.core.frame.DataFrame'>\n",
            "RangeIndex: 39 entries, 0 to 38\n",
            "Data columns (total 7 columns):\n",
            " #   Column                         Non-Null Count  Dtype \n",
            "---  ------                         --------------  ----- \n",
            " 0   States/UTs                     39 non-null     object\n",
            " 1   Rape - 2015                    39 non-null     int64 \n",
            " 2   Rape - 2016                    39 non-null     int64 \n",
            " 3   Assaults (molestation) - 2015  39 non-null     int64 \n",
            " 4   Assaults (molestation) - 2016  39 non-null     int64 \n",
            " 5   Murder (women) - 2015          39 non-null     int64 \n",
            " 6   Murder (women) - 2016          39 non-null     int64 \n",
            "dtypes: int64(6), object(1)\n",
            "memory usage: 2.3+ KB\n"
          ],
          "name": "stdout"
        }
      ]
    },
    {
      "cell_type": "code",
      "metadata": {
        "id": "QqhV6By56apt",
        "colab": {
          "base_uri": "https://localhost:8080/",
          "height": 153
        },
        "outputId": "48b0ac38-b437-4c00-fada-f7c97a9df5bb"
      },
      "source": [
        "df.isnull().sum()"
      ],
      "execution_count": null,
      "outputs": [
        {
          "output_type": "execute_result",
          "data": {
            "text/plain": [
              "States/UTs                       0\n",
              "Rape - 2015                      0\n",
              "Rape - 2016                      0\n",
              "Assaults (molestation) - 2015    0\n",
              "Assaults (molestation) - 2016    0\n",
              "Murder (women) - 2015            0\n",
              "Murder (women) - 2016            0\n",
              "dtype: int64"
            ]
          },
          "metadata": {
            "tags": []
          },
          "execution_count": 9
        }
      ]
    },
    {
      "cell_type": "markdown",
      "metadata": {
        "id": "FBTyQ0EE86ql"
      },
      "source": [
        "# Data Pre processing"
      ]
    },
    {
      "cell_type": "code",
      "metadata": {
        "id": "0Ne4a6w19Ias",
        "colab": {
          "base_uri": "https://localhost:8080/",
          "height": 204
        },
        "outputId": "2926e134-506d-4197-9246-a77e6e8f6026"
      },
      "source": [
        "df=df.drop(['States/UTs'], axis = 1) \n",
        "df.head()"
      ],
      "execution_count": null,
      "outputs": [
        {
          "output_type": "execute_result",
          "data": {
            "text/html": [
              "<div>\n",
              "<style scoped>\n",
              "    .dataframe tbody tr th:only-of-type {\n",
              "        vertical-align: middle;\n",
              "    }\n",
              "\n",
              "    .dataframe tbody tr th {\n",
              "        vertical-align: top;\n",
              "    }\n",
              "\n",
              "    .dataframe thead th {\n",
              "        text-align: right;\n",
              "    }\n",
              "</style>\n",
              "<table border=\"1\" class=\"dataframe\">\n",
              "  <thead>\n",
              "    <tr style=\"text-align: right;\">\n",
              "      <th></th>\n",
              "      <th>Rape - 2015</th>\n",
              "      <th>Rape - 2016</th>\n",
              "      <th>Assaults (molestation) - 2015</th>\n",
              "      <th>Assaults (molestation) - 2016</th>\n",
              "      <th>Murder (women) - 2015</th>\n",
              "      <th>Murder (women) - 2016</th>\n",
              "    </tr>\n",
              "  </thead>\n",
              "  <tbody>\n",
              "    <tr>\n",
              "      <th>0</th>\n",
              "      <td>1027</td>\n",
              "      <td>994</td>\n",
              "      <td>4616</td>\n",
              "      <td>4829</td>\n",
              "      <td>428</td>\n",
              "      <td>411</td>\n",
              "    </tr>\n",
              "    <tr>\n",
              "      <th>1</th>\n",
              "      <td>71</td>\n",
              "      <td>92</td>\n",
              "      <td>101</td>\n",
              "      <td>109</td>\n",
              "      <td>9</td>\n",
              "      <td>11</td>\n",
              "    </tr>\n",
              "    <tr>\n",
              "      <th>2</th>\n",
              "      <td>1733</td>\n",
              "      <td>1779</td>\n",
              "      <td>4293</td>\n",
              "      <td>3378</td>\n",
              "      <td>185</td>\n",
              "      <td>220</td>\n",
              "    </tr>\n",
              "    <tr>\n",
              "      <th>3</th>\n",
              "      <td>1041</td>\n",
              "      <td>1008</td>\n",
              "      <td>198</td>\n",
              "      <td>324</td>\n",
              "      <td>340</td>\n",
              "      <td>318</td>\n",
              "    </tr>\n",
              "    <tr>\n",
              "      <th>4</th>\n",
              "      <td>1560</td>\n",
              "      <td>1626</td>\n",
              "      <td>1868</td>\n",
              "      <td>1770</td>\n",
              "      <td>338</td>\n",
              "      <td>347</td>\n",
              "    </tr>\n",
              "  </tbody>\n",
              "</table>\n",
              "</div>"
            ],
            "text/plain": [
              "   Rape - 2015  Rape - 2016  ...  Murder (women) - 2015  Murder (women) - 2016\n",
              "0         1027          994  ...                    428                    411\n",
              "1           71           92  ...                      9                     11\n",
              "2         1733         1779  ...                    185                    220\n",
              "3         1041         1008  ...                    340                    318\n",
              "4         1560         1626  ...                    338                    347\n",
              "\n",
              "[5 rows x 6 columns]"
            ]
          },
          "metadata": {
            "tags": []
          },
          "execution_count": 10
        }
      ]
    },
    {
      "cell_type": "markdown",
      "metadata": {
        "id": "7OK95JA1ATz3"
      },
      "source": [
        "# Covariance"
      ]
    },
    {
      "cell_type": "code",
      "metadata": {
        "id": "oo_ePiYS_J6K",
        "colab": {
          "base_uri": "https://localhost:8080/",
          "height": 235
        },
        "outputId": "1ca5b1f8-7d7f-4d48-8ae0-799f31d629e1"
      },
      "source": [
        "covariance = df.cov(min_periods=None)\n",
        "covariance"
      ],
      "execution_count": null,
      "outputs": [
        {
          "output_type": "execute_result",
          "data": {
            "text/html": [
              "<div>\n",
              "<style scoped>\n",
              "    .dataframe tbody tr th:only-of-type {\n",
              "        vertical-align: middle;\n",
              "    }\n",
              "\n",
              "    .dataframe tbody tr th {\n",
              "        vertical-align: top;\n",
              "    }\n",
              "\n",
              "    .dataframe thead th {\n",
              "        text-align: right;\n",
              "    }\n",
              "</style>\n",
              "<table border=\"1\" class=\"dataframe\">\n",
              "  <thead>\n",
              "    <tr style=\"text-align: right;\">\n",
              "      <th></th>\n",
              "      <th>Rape - 2015</th>\n",
              "      <th>Rape - 2016</th>\n",
              "      <th>Assaults (molestation) - 2015</th>\n",
              "      <th>Assaults (molestation) - 2016</th>\n",
              "      <th>Murder (women) - 2015</th>\n",
              "      <th>Murder (women) - 2016</th>\n",
              "    </tr>\n",
              "  </thead>\n",
              "  <tbody>\n",
              "    <tr>\n",
              "      <th>Rape - 2015</th>\n",
              "      <td>5.417960e+07</td>\n",
              "      <td>6.110493e+07</td>\n",
              "      <td>1.285707e+08</td>\n",
              "      <td>1.334227e+08</td>\n",
              "      <td>1.318593e+07</td>\n",
              "      <td>1.341275e+07</td>\n",
              "    </tr>\n",
              "    <tr>\n",
              "      <th>Rape - 2016</th>\n",
              "      <td>6.110493e+07</td>\n",
              "      <td>6.903259e+07</td>\n",
              "      <td>1.451404e+08</td>\n",
              "      <td>1.507660e+08</td>\n",
              "      <td>1.491256e+07</td>\n",
              "      <td>1.517104e+07</td>\n",
              "    </tr>\n",
              "    <tr>\n",
              "      <th>Assaults (molestation) - 2015</th>\n",
              "      <td>1.285707e+08</td>\n",
              "      <td>1.451404e+08</td>\n",
              "      <td>3.068035e+08</td>\n",
              "      <td>3.183734e+08</td>\n",
              "      <td>3.146212e+07</td>\n",
              "      <td>3.200546e+07</td>\n",
              "    </tr>\n",
              "    <tr>\n",
              "      <th>Assaults (molestation) - 2016</th>\n",
              "      <td>1.334227e+08</td>\n",
              "      <td>1.507660e+08</td>\n",
              "      <td>3.183734e+08</td>\n",
              "      <td>3.309183e+08</td>\n",
              "      <td>3.272028e+07</td>\n",
              "      <td>3.328092e+07</td>\n",
              "    </tr>\n",
              "    <tr>\n",
              "      <th>Murder (women) - 2015</th>\n",
              "      <td>1.318593e+07</td>\n",
              "      <td>1.491256e+07</td>\n",
              "      <td>3.146212e+07</td>\n",
              "      <td>3.272028e+07</td>\n",
              "      <td>3.262907e+06</td>\n",
              "      <td>3.320469e+06</td>\n",
              "    </tr>\n",
              "    <tr>\n",
              "      <th>Murder (women) - 2016</th>\n",
              "      <td>1.341275e+07</td>\n",
              "      <td>1.517104e+07</td>\n",
              "      <td>3.200546e+07</td>\n",
              "      <td>3.328092e+07</td>\n",
              "      <td>3.320469e+06</td>\n",
              "      <td>3.381483e+06</td>\n",
              "    </tr>\n",
              "  </tbody>\n",
              "</table>\n",
              "</div>"
            ],
            "text/plain": [
              "                                Rape - 2015  ...  Murder (women) - 2016\n",
              "Rape - 2015                    5.417960e+07  ...           1.341275e+07\n",
              "Rape - 2016                    6.110493e+07  ...           1.517104e+07\n",
              "Assaults (molestation) - 2015  1.285707e+08  ...           3.200546e+07\n",
              "Assaults (molestation) - 2016  1.334227e+08  ...           3.328092e+07\n",
              "Murder (women) - 2015          1.318593e+07  ...           3.320469e+06\n",
              "Murder (women) - 2016          1.341275e+07  ...           3.381483e+06\n",
              "\n",
              "[6 rows x 6 columns]"
            ]
          },
          "metadata": {
            "tags": []
          },
          "execution_count": 11
        }
      ]
    },
    {
      "cell_type": "markdown",
      "metadata": {
        "id": "qH7DI7MoAbmU"
      },
      "source": [
        "# Pearsons Correlation"
      ]
    },
    {
      "cell_type": "code",
      "metadata": {
        "id": "9ccizD-7AGju",
        "colab": {
          "base_uri": "https://localhost:8080/",
          "height": 235
        },
        "outputId": "6cd35056-8928-45ed-cd73-1084305cb74d"
      },
      "source": [
        "pearsoncorr = df.corr(method='pearson')\n",
        "pearsoncorr"
      ],
      "execution_count": null,
      "outputs": [
        {
          "output_type": "execute_result",
          "data": {
            "text/html": [
              "<div>\n",
              "<style scoped>\n",
              "    .dataframe tbody tr th:only-of-type {\n",
              "        vertical-align: middle;\n",
              "    }\n",
              "\n",
              "    .dataframe tbody tr th {\n",
              "        vertical-align: top;\n",
              "    }\n",
              "\n",
              "    .dataframe thead th {\n",
              "        text-align: right;\n",
              "    }\n",
              "</style>\n",
              "<table border=\"1\" class=\"dataframe\">\n",
              "  <thead>\n",
              "    <tr style=\"text-align: right;\">\n",
              "      <th></th>\n",
              "      <th>Rape - 2015</th>\n",
              "      <th>Rape - 2016</th>\n",
              "      <th>Assaults (molestation) - 2015</th>\n",
              "      <th>Assaults (molestation) - 2016</th>\n",
              "      <th>Murder (women) - 2015</th>\n",
              "      <th>Murder (women) - 2016</th>\n",
              "    </tr>\n",
              "  </thead>\n",
              "  <tbody>\n",
              "    <tr>\n",
              "      <th>Rape - 2015</th>\n",
              "      <td>1.000000</td>\n",
              "      <td>0.999151</td>\n",
              "      <td>0.997227</td>\n",
              "      <td>0.996441</td>\n",
              "      <td>0.991723</td>\n",
              "      <td>0.990937</td>\n",
              "    </tr>\n",
              "    <tr>\n",
              "      <th>Rape - 2016</th>\n",
              "      <td>0.999151</td>\n",
              "      <td>1.000000</td>\n",
              "      <td>0.997312</td>\n",
              "      <td>0.997507</td>\n",
              "      <td>0.993626</td>\n",
              "      <td>0.992967</td>\n",
              "    </tr>\n",
              "    <tr>\n",
              "      <th>Assaults (molestation) - 2015</th>\n",
              "      <td>0.997227</td>\n",
              "      <td>0.997312</td>\n",
              "      <td>1.000000</td>\n",
              "      <td>0.999186</td>\n",
              "      <td>0.994387</td>\n",
              "      <td>0.993666</td>\n",
              "    </tr>\n",
              "    <tr>\n",
              "      <th>Assaults (molestation) - 2016</th>\n",
              "      <td>0.996441</td>\n",
              "      <td>0.997507</td>\n",
              "      <td>0.999186</td>\n",
              "      <td>1.000000</td>\n",
              "      <td>0.995759</td>\n",
              "      <td>0.994904</td>\n",
              "    </tr>\n",
              "    <tr>\n",
              "      <th>Murder (women) - 2015</th>\n",
              "      <td>0.991723</td>\n",
              "      <td>0.993626</td>\n",
              "      <td>0.994387</td>\n",
              "      <td>0.995759</td>\n",
              "      <td>1.000000</td>\n",
              "      <td>0.999640</td>\n",
              "    </tr>\n",
              "    <tr>\n",
              "      <th>Murder (women) - 2016</th>\n",
              "      <td>0.990937</td>\n",
              "      <td>0.992967</td>\n",
              "      <td>0.993666</td>\n",
              "      <td>0.994904</td>\n",
              "      <td>0.999640</td>\n",
              "      <td>1.000000</td>\n",
              "    </tr>\n",
              "  </tbody>\n",
              "</table>\n",
              "</div>"
            ],
            "text/plain": [
              "                               Rape - 2015  ...  Murder (women) - 2016\n",
              "Rape - 2015                       1.000000  ...               0.990937\n",
              "Rape - 2016                       0.999151  ...               0.992967\n",
              "Assaults (molestation) - 2015     0.997227  ...               0.993666\n",
              "Assaults (molestation) - 2016     0.996441  ...               0.994904\n",
              "Murder (women) - 2015             0.991723  ...               0.999640\n",
              "Murder (women) - 2016             0.990937  ...               1.000000\n",
              "\n",
              "[6 rows x 6 columns]"
            ]
          },
          "metadata": {
            "tags": []
          },
          "execution_count": 12
        }
      ]
    },
    {
      "cell_type": "code",
      "metadata": {
        "id": "t_MMCX5mCaQG",
        "colab": {
          "base_uri": "https://localhost:8080/",
          "height": 423
        },
        "outputId": "ca7ad65f-6601-46a8-bbf0-9d77a1adb05f"
      },
      "source": [
        "sb.heatmap(pearsoncorr, \n",
        "            xticklabels=pearsoncorr.columns,\n",
        "            yticklabels=pearsoncorr.columns,\n",
        "            cmap='RdBu_r',\n",
        "            annot=True,\n",
        "            linewidth=0.5)"
      ],
      "execution_count": null,
      "outputs": [
        {
          "output_type": "execute_result",
          "data": {
            "text/plain": [
              "<matplotlib.axes._subplots.AxesSubplot at 0x7f94cb483470>"
            ]
          },
          "metadata": {
            "tags": []
          },
          "execution_count": 54
        },
        {
          "output_type": "display_data",
          "data": {
            "image/png": "[encoded data removed]",
            "text/plain": [
              "<Figure size 432x288 with 2 Axes>"
            ]
          },
          "metadata": {
            "tags": [],
            "needs_background": "light"
          }
        }
      ]
    },
    {
      "cell_type": "code",
      "metadata": {
        "id": "pqDc21nLHSAO"
      },
      "source": [
        "List1 = df['Rape - 2016']\n",
        "List2 = df['Rape - 2016']"
      ],
      "execution_count": null,
      "outputs": []
    },
    {
      "cell_type": "code",
      "metadata": {
        "id": "XPOCgtDPHTf8",
        "colab": {
          "base_uri": "https://localhost:8080/",
          "height": 34
        },
        "outputId": "b5579b5c-1e30-42a6-8a0a-f79335640a55"
      },
      "source": [
        "corr = stats.pearsonr(List1,List2)\n",
        "corr"
      ],
      "execution_count": null,
      "outputs": [
        {
          "output_type": "execute_result",
          "data": {
            "text/plain": [
              "(1.0, 0.0)"
            ]
          },
          "metadata": {
            "tags": []
          },
          "execution_count": 20
        }
      ]
    },
    {
      "cell_type": "code",
      "metadata": {
        "id": "c9T_d9OkGsX2"
      },
      "source": [
        "List1 = df['Rape - 2016']\n",
        "List2 = df['Rape - 2015']"
      ],
      "execution_count": null,
      "outputs": []
    },
    {
      "cell_type": "code",
      "metadata": {
        "id": "7Ja0F6HlGyh-",
        "colab": {
          "base_uri": "https://localhost:8080/",
          "height": 34
        },
        "outputId": "387f0234-13cc-4ead-f4ba-44a177e472c5"
      },
      "source": [
        "corr = stats.pearsonr(List1,List2)\n",
        "corr"
      ],
      "execution_count": null,
      "outputs": [
        {
          "output_type": "execute_result",
          "data": {
            "text/plain": [
              "(0.9991513157509662, 7.289595258548006e-53)"
            ]
          },
          "metadata": {
            "tags": []
          },
          "execution_count": 22
        }
      ]
    },
    {
      "cell_type": "code",
      "metadata": {
        "id": "M6B5WzljFB0g"
      },
      "source": [
        "List1 = df['Rape - 2016']\n",
        "List2 = df['Assaults (molestation) - 2016']"
      ],
      "execution_count": null,
      "outputs": []
    },
    {
      "cell_type": "code",
      "metadata": {
        "id": "dmpvcZl2Ccq9",
        "colab": {
          "base_uri": "https://localhost:8080/",
          "height": 51
        },
        "outputId": "4cb0fe9c-e840-4f26-bd78-f5ccca4cecac"
      },
      "source": [
        "corr = stats.pearsonr(List1,List2)\n",
        "print('Correlation between Rape - 2016 and Assaults (molestation) - 2016\\n',corr)"
      ],
      "execution_count": null,
      "outputs": [
        {
          "output_type": "stream",
          "text": [
            "Correlation between Rape - 2016 and Assaults (molestation) - 2016\n",
            " (0.9975069138306321, 3.2704442077473924e-44)\n"
          ],
          "name": "stdout"
        }
      ]
    },
    {
      "cell_type": "markdown",
      "metadata": {
        "id": "s_bDem2WF4Z2"
      },
      "source": [
        "# PCA"
      ]
    },
    {
      "cell_type": "code",
      "metadata": {
        "id": "DA1uw0BbJFfW",
        "colab": {
          "base_uri": "https://localhost:8080/",
          "height": 359
        },
        "outputId": "3e8008d5-fed0-4a32-9c5b-02ecf8d9e558"
      },
      "source": [
        "da = pd.read_csv('Rapes_Assaults.csv',  encoding='utf-8')\n",
        "da.head(10)"
      ],
      "execution_count": null,
      "outputs": [
        {
          "output_type": "execute_result",
          "data": {
            "text/html": [
              "<div>\n",
              "<style scoped>\n",
              "    .dataframe tbody tr th:only-of-type {\n",
              "        vertical-align: middle;\n",
              "    }\n",
              "\n",
              "    .dataframe tbody tr th {\n",
              "        vertical-align: top;\n",
              "    }\n",
              "\n",
              "    .dataframe thead th {\n",
              "        text-align: right;\n",
              "    }\n",
              "</style>\n",
              "<table border=\"1\" class=\"dataframe\">\n",
              "  <thead>\n",
              "    <tr style=\"text-align: right;\">\n",
              "      <th></th>\n",
              "      <th>States/UTs</th>\n",
              "      <th>Rape - 2015</th>\n",
              "      <th>Rape - 2016</th>\n",
              "      <th>Assaults (molestation) - 2015</th>\n",
              "      <th>Assaults (molestation) - 2016</th>\n",
              "      <th>Murder (women) - 2015</th>\n",
              "      <th>Murder (women) - 2016</th>\n",
              "    </tr>\n",
              "  </thead>\n",
              "  <tbody>\n",
              "    <tr>\n",
              "      <th>0</th>\n",
              "      <td>Andhra Pradesh</td>\n",
              "      <td>1027</td>\n",
              "      <td>994</td>\n",
              "      <td>4616</td>\n",
              "      <td>4829</td>\n",
              "      <td>428</td>\n",
              "      <td>411</td>\n",
              "    </tr>\n",
              "    <tr>\n",
              "      <th>1</th>\n",
              "      <td>Arunachal Pradesh</td>\n",
              "      <td>71</td>\n",
              "      <td>92</td>\n",
              "      <td>101</td>\n",
              "      <td>109</td>\n",
              "      <td>9</td>\n",
              "      <td>11</td>\n",
              "    </tr>\n",
              "    <tr>\n",
              "      <th>2</th>\n",
              "      <td>Assam</td>\n",
              "      <td>1733</td>\n",
              "      <td>1779</td>\n",
              "      <td>4293</td>\n",
              "      <td>3378</td>\n",
              "      <td>185</td>\n",
              "      <td>220</td>\n",
              "    </tr>\n",
              "    <tr>\n",
              "      <th>3</th>\n",
              "      <td>Bihar</td>\n",
              "      <td>1041</td>\n",
              "      <td>1008</td>\n",
              "      <td>198</td>\n",
              "      <td>324</td>\n",
              "      <td>340</td>\n",
              "      <td>318</td>\n",
              "    </tr>\n",
              "    <tr>\n",
              "      <th>4</th>\n",
              "      <td>Chhattisgarh</td>\n",
              "      <td>1560</td>\n",
              "      <td>1626</td>\n",
              "      <td>1868</td>\n",
              "      <td>1770</td>\n",
              "      <td>338</td>\n",
              "      <td>347</td>\n",
              "    </tr>\n",
              "    <tr>\n",
              "      <th>5</th>\n",
              "      <td>Goa</td>\n",
              "      <td>86</td>\n",
              "      <td>61</td>\n",
              "      <td>150</td>\n",
              "      <td>143</td>\n",
              "      <td>11</td>\n",
              "      <td>16</td>\n",
              "    </tr>\n",
              "    <tr>\n",
              "      <th>6</th>\n",
              "      <td>Gujarat</td>\n",
              "      <td>503</td>\n",
              "      <td>982</td>\n",
              "      <td>1164</td>\n",
              "      <td>1224</td>\n",
              "      <td>269</td>\n",
              "      <td>288</td>\n",
              "    </tr>\n",
              "    <tr>\n",
              "      <th>7</th>\n",
              "      <td>Haryana</td>\n",
              "      <td>1070</td>\n",
              "      <td>1187</td>\n",
              "      <td>1886</td>\n",
              "      <td>1860</td>\n",
              "      <td>197</td>\n",
              "      <td>226</td>\n",
              "    </tr>\n",
              "    <tr>\n",
              "      <th>8</th>\n",
              "      <td>Himachal Pradesh</td>\n",
              "      <td>244</td>\n",
              "      <td>252</td>\n",
              "      <td>434</td>\n",
              "      <td>410</td>\n",
              "      <td>25</td>\n",
              "      <td>28</td>\n",
              "    </tr>\n",
              "    <tr>\n",
              "      <th>9</th>\n",
              "      <td>Jammu &amp; Kashmir</td>\n",
              "      <td>296</td>\n",
              "      <td>256</td>\n",
              "      <td>1343</td>\n",
              "      <td>1235</td>\n",
              "      <td>19</td>\n",
              "      <td>24</td>\n",
              "    </tr>\n",
              "  </tbody>\n",
              "</table>\n",
              "</div>"
            ],
            "text/plain": [
              "          States/UTs  Rape - 2015  ...  Murder (women) - 2015  Murder (women) - 2016\n",
              "0     Andhra Pradesh         1027  ...                    428                    411\n",
              "1  Arunachal Pradesh           71  ...                      9                     11\n",
              "2              Assam         1733  ...                    185                    220\n",
              "3              Bihar         1041  ...                    340                    318\n",
              "4       Chhattisgarh         1560  ...                    338                    347\n",
              "5                Goa           86  ...                     11                     16\n",
              "6            Gujarat          503  ...                    269                    288\n",
              "7            Haryana         1070  ...                    197                    226\n",
              "8   Himachal Pradesh          244  ...                     25                     28\n",
              "9    Jammu & Kashmir          296  ...                     19                     24\n",
              "\n",
              "[10 rows x 7 columns]"
            ]
          },
          "metadata": {
            "tags": []
          },
          "execution_count": 65
        }
      ]
    },
    {
      "cell_type": "code",
      "metadata": {
        "id": "WSCUErZXE3zd",
        "colab": {
          "base_uri": "https://localhost:8080/",
          "height": 136
        },
        "outputId": "939061d2-44e2-4b59-9221-b2f7ff85806a"
      },
      "source": [
        "from sklearn.preprocessing import StandardScaler\n",
        "features = ['Rape - 2015', 'Rape - 2016', 'Assaults (molestation) - 2015', 'Assaults (molestation) - 2016','Murder (women) - 2015','Murder (women) - 2016']\n",
        "x = da.loc[:, features].values\n",
        "print(x[:3])\n",
        "y = da.loc[:,['States/UTs']].values\n",
        "x = StandardScaler().fit_transform(x)\n",
        "print(x[:3])\n",
        "x.shape"
      ],
      "execution_count": null,
      "outputs": [
        {
          "output_type": "stream",
          "text": [
            "[[1027  994 4616 4829  428  411]\n",
            " [  71   92  101  109    9   11]\n",
            " [1733 1779 4293 3378  185  220]]\n",
            "[[-0.22550639 -0.24409608 -0.09972094 -0.09411245 -0.11764675 -0.13077944]\n",
            " [-0.35708354 -0.35407766 -0.36085775 -0.356971   -0.35263827 -0.3511466 ]\n",
            " [-0.12833748 -0.1483804  -0.11840249 -0.17491918 -0.25393062 -0.23600476]]\n"
          ],
          "name": "stdout"
        },
        {
          "output_type": "execute_result",
          "data": {
            "text/plain": [
              "(39, 6)"
            ]
          },
          "metadata": {
            "tags": []
          },
          "execution_count": 66
        }
      ]
    },
    {
      "cell_type": "code",
      "metadata": {
        "id": "XApFZdTTIYQ4",
        "colab": {
          "base_uri": "https://localhost:8080/",
          "height": 359
        },
        "outputId": "8b231ef6-21ab-488d-8e3e-6ecc8c91d4ee"
      },
      "source": [
        "from sklearn.decomposition import PCA\n",
        "pca = PCA(n_components=3)\n",
        "principalComponents = pca.fit_transform(x)\n",
        "principalDf = pd.DataFrame(data = principalComponents, columns = ['principal component 1', 'principal component 2', 'principal component 3'])\n",
        "principalDf.head(10)"
      ],
      "execution_count": null,
      "outputs": [
        {
          "output_type": "execute_result",
          "data": {
            "text/html": [
              "<div>\n",
              "<style scoped>\n",
              "    .dataframe tbody tr th:only-of-type {\n",
              "        vertical-align: middle;\n",
              "    }\n",
              "\n",
              "    .dataframe tbody tr th {\n",
              "        vertical-align: top;\n",
              "    }\n",
              "\n",
              "    .dataframe thead th {\n",
              "        text-align: right;\n",
              "    }\n",
              "</style>\n",
              "<table border=\"1\" class=\"dataframe\">\n",
              "  <thead>\n",
              "    <tr style=\"text-align: right;\">\n",
              "      <th></th>\n",
              "      <th>principal component 1</th>\n",
              "      <th>principal component 2</th>\n",
              "      <th>principal component 3</th>\n",
              "    </tr>\n",
              "  </thead>\n",
              "  <tbody>\n",
              "    <tr>\n",
              "      <th>0</th>\n",
              "      <td>-0.372248</td>\n",
              "      <td>0.078410</td>\n",
              "      <td>0.122156</td>\n",
              "    </tr>\n",
              "    <tr>\n",
              "      <th>1</th>\n",
              "      <td>-0.870705</td>\n",
              "      <td>0.005242</td>\n",
              "      <td>-0.004425</td>\n",
              "    </tr>\n",
              "    <tr>\n",
              "      <th>2</th>\n",
              "      <td>-0.432681</td>\n",
              "      <td>-0.120037</td>\n",
              "      <td>0.021060</td>\n",
              "    </tr>\n",
              "    <tr>\n",
              "      <th>3</th>\n",
              "      <td>-0.618701</td>\n",
              "      <td>0.099880</td>\n",
              "      <td>-0.145878</td>\n",
              "    </tr>\n",
              "    <tr>\n",
              "      <th>4</th>\n",
              "      <td>-0.480356</td>\n",
              "      <td>0.021848</td>\n",
              "      <td>-0.110874</td>\n",
              "    </tr>\n",
              "    <tr>\n",
              "      <th>5</th>\n",
              "      <td>-0.867894</td>\n",
              "      <td>0.006931</td>\n",
              "      <td>-0.001738</td>\n",
              "    </tr>\n",
              "    <tr>\n",
              "      <th>6</th>\n",
              "      <td>-0.629896</td>\n",
              "      <td>0.088166</td>\n",
              "      <td>-0.047281</td>\n",
              "    </tr>\n",
              "    <tr>\n",
              "      <th>7</th>\n",
              "      <td>-0.586718</td>\n",
              "      <td>-0.010134</td>\n",
              "      <td>-0.037282</td>\n",
              "    </tr>\n",
              "    <tr>\n",
              "      <th>8</th>\n",
              "      <td>-0.830823</td>\n",
              "      <td>-0.007894</td>\n",
              "      <td>-0.004990</td>\n",
              "    </tr>\n",
              "    <tr>\n",
              "      <th>9</th>\n",
              "      <td>-0.789724</td>\n",
              "      <td>-0.030123</td>\n",
              "      <td>0.047237</td>\n",
              "    </tr>\n",
              "  </tbody>\n",
              "</table>\n",
              "</div>"
            ],
            "text/plain": [
              "   principal component 1  principal component 2  principal component 3\n",
              "0              -0.372248               0.078410               0.122156\n",
              "1              -0.870705               0.005242              -0.004425\n",
              "2              -0.432681              -0.120037               0.021060\n",
              "3              -0.618701               0.099880              -0.145878\n",
              "4              -0.480356               0.021848              -0.110874\n",
              "5              -0.867894               0.006931              -0.001738\n",
              "6              -0.629896               0.088166              -0.047281\n",
              "7              -0.586718              -0.010134              -0.037282\n",
              "8              -0.830823              -0.007894              -0.004990\n",
              "9              -0.789724              -0.030123               0.047237"
            ]
          },
          "metadata": {
            "tags": []
          },
          "execution_count": 70
        }
      ]
    },
    {
      "cell_type": "markdown",
      "metadata": {
        "id": "tYUDND_FKua9"
      },
      "source": [
        "# Regression Analysis"
      ]
    },
    {
      "cell_type": "code",
      "metadata": {
        "id": "TgNt1v1sJg1f"
      },
      "source": [
        "X = df[['Rape - 2015', 'Rape - 2016', 'Assaults (molestation) - 2015', 'Assaults (molestation) - 2016','Murder (women) - 2015']].values.reshape(-1,5)\n",
        "y = df['Murder (women) - 2016'].values.reshape(-1,1)"
      ],
      "execution_count": null,
      "outputs": []
    },
    {
      "cell_type": "code",
      "metadata": {
        "id": "nTqwqk5hK5Y6",
        "colab": {
          "base_uri": "https://localhost:8080/",
          "height": 680
        },
        "outputId": "59b8411f-0342-44e1-ec62-6c589a032705"
      },
      "source": [
        "X"
      ],
      "execution_count": null,
      "outputs": [
        {
          "output_type": "execute_result",
          "data": {
            "text/plain": [
              "array([[ 1027,   994,  4616,  4829,   428],\n",
              "       [   71,    92,   101,   109,     9],\n",
              "       [ 1733,  1779,  4293,  3378,   185],\n",
              "       [ 1041,  1008,   198,   324,   340],\n",
              "       [ 1560,  1626,  1868,  1770,   338],\n",
              "       [   86,    61,   150,   143,    11],\n",
              "       [  503,   982,  1164,  1224,   269],\n",
              "       [ 1070,  1187,  1886,  1860,   197],\n",
              "       [  244,   252,   434,   410,    25],\n",
              "       [  296,   256,  1343,  1235,    19],\n",
              "       [ 1053,  1109,   844,   667,   137],\n",
              "       [  589,  1655,  5112,  5260,   574],\n",
              "       [ 1256,  1656,  3987,  4029,    97],\n",
              "       [ 4391,  4882,  8049,  8717,   656],\n",
              "       [ 4144,  4189, 11713, 11396,   780],\n",
              "       [   46,    55,    84,    65,    16],\n",
              "       [   93,   190,    95,    68,    23],\n",
              "       [   58,    23,    75,    71,    11],\n",
              "       [   35,    26,     8,    14,    12],\n",
              "       [ 2251,  1983,  6499,  8252,   666],\n",
              "       [  886,   838,  1123,  1025,   194],\n",
              "       [ 3644,  3656,  4813,  4839,   224],\n",
              "       [    5,    92,    21,    34,     4],\n",
              "       [  421,   319,  1163,   854,   532],\n",
              "       [ 1105,  1278,  3608,  3767,   418],\n",
              "       [  213,   207,   352,   214,    52],\n",
              "       [ 3025,  4816,  7885, 11335,  1135],\n",
              "       [  283,   336,   318,   344,    53],\n",
              "       [ 1199,  1110,  5069,  4177,   737],\n",
              "       [32328, 36657, 76871, 80410,  8142],\n",
              "       [   36,    30,    57,    46,     8],\n",
              "       [   72,    68,    76,    76,     3],\n",
              "       [    8,    14,     5,     1,     3],\n",
              "       [    5,    12,     7,     4,     1],\n",
              "       [ 2199,  2155,  5367,  4165,   124],\n",
              "       [    0,     5,     6,     1,     0],\n",
              "       [    3,     6,    33,    43,    10],\n",
              "       [ 2323,  2290,  5551,  4336,   149],\n",
              "       [34651, 38947, 82422, 84746,  8291]])"
            ]
          },
          "metadata": {
            "tags": []
          },
          "execution_count": 74
        }
      ]
    },
    {
      "cell_type": "code",
      "metadata": {
        "id": "G5QIHW7hLS7a",
        "colab": {
          "base_uri": "https://localhost:8080/",
          "height": 680
        },
        "outputId": "5fa6c36b-aeee-45bf-de96-5485f14c3eba"
      },
      "source": [
        "y"
      ],
      "execution_count": null,
      "outputs": [
        {
          "output_type": "execute_result",
          "data": {
            "text/plain": [
              "array([[ 411],\n",
              "       [  11],\n",
              "       [ 220],\n",
              "       [ 318],\n",
              "       [ 347],\n",
              "       [  16],\n",
              "       [ 288],\n",
              "       [ 226],\n",
              "       [  28],\n",
              "       [  24],\n",
              "       [ 174],\n",
              "       [ 547],\n",
              "       [  99],\n",
              "       [ 645],\n",
              "       [ 756],\n",
              "       [  18],\n",
              "       [  11],\n",
              "       [  13],\n",
              "       [   9],\n",
              "       [ 591],\n",
              "       [ 201],\n",
              "       [ 238],\n",
              "       [   7],\n",
              "       [ 468],\n",
              "       [ 311],\n",
              "       [  64],\n",
              "       [1217],\n",
              "       [  47],\n",
              "       [ 983],\n",
              "       [8288],\n",
              "       [   6],\n",
              "       [   3],\n",
              "       [   1],\n",
              "       [   0],\n",
              "       [ 123],\n",
              "       [   0],\n",
              "       [   8],\n",
              "       [ 141],\n",
              "       [8429]])"
            ]
          },
          "metadata": {
            "tags": []
          },
          "execution_count": 75
        }
      ]
    },
    {
      "cell_type": "code",
      "metadata": {
        "id": "oS3kw3zXLVQd"
      },
      "source": [
        "model = LinearRegression()"
      ],
      "execution_count": null,
      "outputs": []
    },
    {
      "cell_type": "code",
      "metadata": {
        "id": "Oaz6kxepLYiM",
        "colab": {
          "base_uri": "https://localhost:8080/",
          "height": 34
        },
        "outputId": "ec21c82b-20b7-4082-dcc4-046e7e79df71"
      },
      "source": [
        "model.fit(X, y)"
      ],
      "execution_count": null,
      "outputs": [
        {
          "output_type": "execute_result",
          "data": {
            "text/plain": [
              "LinearRegression(copy_X=True, fit_intercept=True, n_jobs=None, normalize=False)"
            ]
          },
          "metadata": {
            "tags": []
          },
          "execution_count": 77
        }
      ]
    },
    {
      "cell_type": "code",
      "metadata": {
        "id": "LcogR2oRLa9t"
      },
      "source": [
        "model = LinearRegression().fit(X,y)"
      ],
      "execution_count": null,
      "outputs": []
    },
    {
      "cell_type": "code",
      "metadata": {
        "id": "P0epTvehLdDt",
        "colab": {
          "base_uri": "https://localhost:8080/",
          "height": 34
        },
        "outputId": "447d073d-4c81-47e8-bcc2-9cf32103225a"
      },
      "source": [
        "r_sq = model.score(X,y)\n",
        "print('coefficient of determination:', r_sq)"
      ],
      "execution_count": null,
      "outputs": [
        {
          "output_type": "stream",
          "text": [
            "coefficient of determination: 0.999355705930246\n"
          ],
          "name": "stdout"
        }
      ]
    },
    {
      "cell_type": "code",
      "metadata": {
        "id": "hrw4bW3rLfVd",
        "colab": {
          "base_uri": "https://localhost:8080/",
          "height": 51
        },
        "outputId": "2df53de3-6357-4c01-b1ab-3aef7b2d732a"
      },
      "source": [
        "print('intercept:', model.intercept_)\n",
        "print('slope:', model.coef_)"
      ],
      "execution_count": null,
      "outputs": [
        {
          "output_type": "stream",
          "text": [
            "intercept: [-0.83319979]\n",
            "slope: [[-0.04016066  0.03968845  0.01991858 -0.02655982  1.07282619]]\n"
          ],
          "name": "stdout"
        }
      ]
    },
    {
      "cell_type": "code",
      "metadata": {
        "id": "Z6TrQ2AZLyKh"
      },
      "source": [
        "y_pred = model.predict(X)"
      ],
      "execution_count": null,
      "outputs": []
    },
    {
      "cell_type": "code",
      "metadata": {
        "id": "qOLCpHnUL1H1",
        "colab": {
          "base_uri": "https://localhost:8080/",
          "height": 1000
        },
        "outputId": "ca4844c9-bd22-4bd4-e222-fe2457516d12"
      },
      "source": [
        "de = pd.DataFrame({'Actual': y.flatten(), 'Predicted': y_pred.flatten()})\n",
        "de"
      ],
      "execution_count": null,
      "outputs": [
        {
          "output_type": "execute_result",
          "data": {
            "text/html": [
              "<div>\n",
              "<style scoped>\n",
              "    .dataframe tbody tr th:only-of-type {\n",
              "        vertical-align: middle;\n",
              "    }\n",
              "\n",
              "    .dataframe tbody tr th {\n",
              "        vertical-align: top;\n",
              "    }\n",
              "\n",
              "    .dataframe thead th {\n",
              "        text-align: right;\n",
              "    }\n",
              "</style>\n",
              "<table border=\"1\" class=\"dataframe\">\n",
              "  <thead>\n",
              "    <tr style=\"text-align: right;\">\n",
              "      <th></th>\n",
              "      <th>Actual</th>\n",
              "      <th>Predicted</th>\n",
              "    </tr>\n",
              "  </thead>\n",
              "  <tbody>\n",
              "    <tr>\n",
              "      <th>0</th>\n",
              "      <td>411</td>\n",
              "      <td>420.228525</td>\n",
              "    </tr>\n",
              "    <tr>\n",
              "      <th>1</th>\n",
              "      <td>11</td>\n",
              "      <td>8.738922</td>\n",
              "    </tr>\n",
              "    <tr>\n",
              "      <th>2</th>\n",
              "      <td>220</td>\n",
              "      <td>194.438362</td>\n",
              "    </tr>\n",
              "    <tr>\n",
              "      <th>3</th>\n",
              "      <td>318</td>\n",
              "      <td>357.464908</td>\n",
              "    </tr>\n",
              "    <tr>\n",
              "      <th>4</th>\n",
              "      <td>347</td>\n",
              "      <td>353.861864</td>\n",
              "    </tr>\n",
              "    <tr>\n",
              "      <th>5</th>\n",
              "      <td>16</td>\n",
              "      <td>9.124800</td>\n",
              "    </tr>\n",
              "    <tr>\n",
              "      <th>6</th>\n",
              "      <td>288</td>\n",
              "      <td>297.206297</td>\n",
              "    </tr>\n",
              "    <tr>\n",
              "      <th>7</th>\n",
              "      <td>226</td>\n",
              "      <td>202.817018</td>\n",
              "    </tr>\n",
              "    <tr>\n",
              "      <th>8</th>\n",
              "      <td>28</td>\n",
              "      <td>23.944880</td>\n",
              "    </tr>\n",
              "    <tr>\n",
              "      <th>9</th>\n",
              "      <td>24</td>\n",
              "      <td>11.772461</td>\n",
              "    </tr>\n",
              "    <tr>\n",
              "      <th>10</th>\n",
              "      <td>174</td>\n",
              "      <td>146.965182</td>\n",
              "    </tr>\n",
              "    <tr>\n",
              "      <th>11</th>\n",
              "      <td>547</td>\n",
              "      <td>619.117918</td>\n",
              "    </tr>\n",
              "    <tr>\n",
              "      <th>12</th>\n",
              "      <td>99</td>\n",
              "      <td>90.919087</td>\n",
              "    </tr>\n",
              "    <tr>\n",
              "      <th>13</th>\n",
              "      <td>645</td>\n",
              "      <td>649.157025</td>\n",
              "    </tr>\n",
              "    <tr>\n",
              "      <th>14</th>\n",
              "      <td>756</td>\n",
              "      <td>766.430982</td>\n",
              "    </tr>\n",
              "    <tr>\n",
              "      <th>15</th>\n",
              "      <td>18</td>\n",
              "      <td>16.614266</td>\n",
              "    </tr>\n",
              "    <tr>\n",
              "      <th>16</th>\n",
              "      <td>11</td>\n",
              "      <td>27.733864</td>\n",
              "    </tr>\n",
              "    <tr>\n",
              "      <th>17</th>\n",
              "      <td>13</td>\n",
              "      <td>9.159550</td>\n",
              "    </tr>\n",
              "    <tr>\n",
              "      <th>18</th>\n",
              "      <td>9</td>\n",
              "      <td>11.454502</td>\n",
              "    </tr>\n",
              "    <tr>\n",
              "      <th>19</th>\n",
              "      <td>591</td>\n",
              "      <td>612.248807</td>\n",
              "    </tr>\n",
              "    <tr>\n",
              "      <th>20</th>\n",
              "      <td>201</td>\n",
              "      <td>200.116404</td>\n",
              "    </tr>\n",
              "    <tr>\n",
              "      <th>21</th>\n",
              "      <td>238</td>\n",
              "      <td>205.580542</td>\n",
              "    </tr>\n",
              "    <tr>\n",
              "      <th>22</th>\n",
              "      <td>7</td>\n",
              "      <td>6.423895</td>\n",
              "    </tr>\n",
              "    <tr>\n",
              "      <th>23</th>\n",
              "      <td>468</td>\n",
              "      <td>566.146531</td>\n",
              "    </tr>\n",
              "    <tr>\n",
              "      <th>24</th>\n",
              "      <td>311</td>\n",
              "      <td>425.767850</td>\n",
              "    </tr>\n",
              "    <tr>\n",
              "      <th>25</th>\n",
              "      <td>64</td>\n",
              "      <td>55.942589</td>\n",
              "    </tr>\n",
              "    <tr>\n",
              "      <th>26</th>\n",
              "      <td>1217</td>\n",
              "      <td>1142.480545</td>\n",
              "    </tr>\n",
              "    <tr>\n",
              "      <th>27</th>\n",
              "      <td>47</td>\n",
              "      <td>55.193970</td>\n",
              "    </tr>\n",
              "    <tr>\n",
              "      <th>28</th>\n",
              "      <td>983</td>\n",
              "      <td>775.768162</td>\n",
              "    </tr>\n",
              "    <tr>\n",
              "      <th>29</th>\n",
              "      <td>8288</td>\n",
              "      <td>8286.149305</td>\n",
              "    </tr>\n",
              "    <tr>\n",
              "      <th>30</th>\n",
              "      <td>6</td>\n",
              "      <td>7.407887</td>\n",
              "    </tr>\n",
              "    <tr>\n",
              "      <th>31</th>\n",
              "      <td>3</td>\n",
              "      <td>1.687791</td>\n",
              "    </tr>\n",
              "    <tr>\n",
              "      <th>32</th>\n",
              "      <td>1</td>\n",
              "      <td>2.692665</td>\n",
              "    </tr>\n",
              "    <tr>\n",
              "      <th>33</th>\n",
              "      <td>0</td>\n",
              "      <td>0.548275</td>\n",
              "    </tr>\n",
              "    <tr>\n",
              "      <th>34</th>\n",
              "      <td>123</td>\n",
              "      <td>125.693930</td>\n",
              "    </tr>\n",
              "    <tr>\n",
              "      <th>35</th>\n",
              "      <td>0</td>\n",
              "      <td>-0.541806</td>\n",
              "    </tr>\n",
              "    <tr>\n",
              "      <th>36</th>\n",
              "      <td>8</td>\n",
              "      <td>9.527952</td>\n",
              "    </tr>\n",
              "    <tr>\n",
              "      <th>37</th>\n",
              "      <td>141</td>\n",
              "      <td>152.015893</td>\n",
              "    </tr>\n",
              "    <tr>\n",
              "      <th>38</th>\n",
              "      <td>8429</td>\n",
              "      <td>8438.998397</td>\n",
              "    </tr>\n",
              "  </tbody>\n",
              "</table>\n",
              "</div>"
            ],
            "text/plain": [
              "    Actual    Predicted\n",
              "0      411   420.228525\n",
              "1       11     8.738922\n",
              "2      220   194.438362\n",
              "3      318   357.464908\n",
              "4      347   353.861864\n",
              "5       16     9.124800\n",
              "6      288   297.206297\n",
              "7      226   202.817018\n",
              "8       28    23.944880\n",
              "9       24    11.772461\n",
              "10     174   146.965182\n",
              "11     547   619.117918\n",
              "12      99    90.919087\n",
              "13     645   649.157025\n",
              "14     756   766.430982\n",
              "15      18    16.614266\n",
              "16      11    27.733864\n",
              "17      13     9.159550\n",
              "18       9    11.454502\n",
              "19     591   612.248807\n",
              "20     201   200.116404\n",
              "21     238   205.580542\n",
              "22       7     6.423895\n",
              "23     468   566.146531\n",
              "24     311   425.767850\n",
              "25      64    55.942589\n",
              "26    1217  1142.480545\n",
              "27      47    55.193970\n",
              "28     983   775.768162\n",
              "29    8288  8286.149305\n",
              "30       6     7.407887\n",
              "31       3     1.687791\n",
              "32       1     2.692665\n",
              "33       0     0.548275\n",
              "34     123   125.693930\n",
              "35       0    -0.541806\n",
              "36       8     9.527952\n",
              "37     141   152.015893\n",
              "38    8429  8438.998397"
            ]
          },
          "metadata": {
            "tags": []
          },
          "execution_count": 82
        }
      ]
    },
    {
      "cell_type": "code",
      "metadata": {
        "id": "QSDzi67WL3D2",
        "colab": {
          "base_uri": "https://localhost:8080/",
          "height": 610
        },
        "outputId": "c4f1d28e-9551-4bcf-8759-b6f6c0d9009c"
      },
      "source": [
        "import plotly.express as px\n",
        "fig = px.scatter(de, x=\"Actual\", y=\"Predicted\", color='Predicted', marginal_y=\"violin\",\n",
        "           marginal_x=\"box\", trendline=\"ols\", template=\"simple_white\")\n",
        "fig.show()\n"
      ],
      "execution_count": null,
      "outputs": [
        {
          "output_type": "stream",
          "text": [
            "/usr/local/lib/python3.6/dist-packages/statsmodels/tools/_testing.py:19: FutureWarning:\n",
            "\n",
            "pandas.util.testing is deprecated. Use the functions in the public API at pandas.testing instead.\n",
            "\n"
          ],
          "name": "stderr"
        },
        {
          "output_type": "display_data",
          "data": {
            "text/html": [
              "<html>\n",
              "<head><meta charset=\"utf-8\" /></head>\n",
              "<body>\n",
              "    <div>\n",
              "            <script src=\"https://cdnjs.cloudflare.com/ajax/libs/mathjax/2.7.5/MathJax.js?config=TeX-AMS-MML_SVG\"></script><script type=\"text/javascript\">if (window.MathJax) {MathJax.Hub.Config({SVG: {font: \"STIX-Web\"}});}</script>\n",
              "                <script type=\"text/javascript\">window.PlotlyConfig = {MathJaxConfig: 'local'};</script>\n",
              "        <script src=\"https://cdn.plot.ly/plotly-latest.min.js\"></script>    \n",
              "            <div id=\"9e36a5e3-e7af-4785-8b13-2c02093691b3\" class=\"plotly-graph-div\" style=\"height:525px; width:100%;\"></div>\n",
              "            <script type=\"text/javascript\">\n",
              "                \n",
              "                    window.PLOTLYENV=window.PLOTLYENV || {};\n",
              "                    \n",
              "                if (document.getElementById(\"9e36a5e3-e7af-4785-8b13-2c02093691b3\")) {\n",
              "                    Plotly.newPlot(\n",
              "                        '9e36a5e3-e7af-4785-8b13-2c02093691b3',\n",
              "                        [{\"hoverlabel\": {\"namelength\": 0}, \"hovertemplate\": \"Actual=%{x}<br>Predicted=%{marker.color}\", \"legendgroup\": \"\", \"marker\": {\"color\": [420.22852498191855, 8.73892247678629, 194.43836240338743, 357.4649080072165, 353.8618635342782, 9.124799506124111, 297.20629734071383, 202.8170175238295, 23.94488025016361, 11.772460891747311, 146.96518226242472, 619.1179184396111, 90.91908747441296, 649.1570252579503, 766.4309823513964, 16.61426590879234, 27.73386372287252, 9.159550460269287, 11.45450209616767, 612.2488074797724, 200.11640438264806, 205.58054185726945, 6.423895392902928, 566.1465310226972, 425.76785041753203, 55.94258861643908, 1142.4805445386423, 55.19397019626394, 775.768161752977, 8286.149304710252, 7.407886695247651, 1.68779141278847, 2.6926648435641627, 0.5482752630744598, 125.6939302016774, -0.5418058788234996, 9.527951709905656, 152.01589299665847, 8438.998397498448], \"coloraxis\": \"coloraxis\", \"symbol\": \"circle\"}, \"mode\": \"markers\", \"name\": \"\", \"showlegend\": false, \"type\": \"scatter\", \"x\": [411, 11, 220, 318, 347, 16, 288, 226, 28, 24, 174, 547, 99, 645, 756, 18, 11, 13, 9, 591, 201, 238, 7, 468, 311, 64, 1217, 47, 983, 8288, 6, 3, 1, 0, 123, 0, 8, 141, 8429], \"xaxis\": \"x\", \"y\": [420.22852498191855, 8.73892247678629, 194.43836240338743, 357.4649080072165, 353.8618635342782, 9.124799506124111, 297.20629734071383, 202.8170175238295, 23.94488025016361, 11.772460891747311, 146.96518226242472, 619.1179184396111, 90.91908747441296, 649.1570252579503, 766.4309823513964, 16.61426590879234, 27.73386372287252, 9.159550460269287, 11.45450209616767, 612.2488074797724, 200.11640438264806, 205.58054185726945, 6.423895392902928, 566.1465310226972, 425.76785041753203, 55.94258861643908, 1142.4805445386423, 55.19397019626394, 775.768161752977, 8286.149304710252, 7.407886695247651, 1.68779141278847, 2.6926648435641627, 0.5482752630744598, 125.6939302016774, -0.5418058788234996, 9.527951709905656, 152.01589299665847, 8438.998397498448], \"yaxis\": \"y\"}, {\"alignmentgroup\": \"True\", \"hoverlabel\": {\"namelength\": 0}, \"hovertemplate\": \"Actual=%{x}\", \"legendgroup\": \"\", \"marker\": {\"color\": \"#440154\", \"symbol\": \"circle\"}, \"name\": \"\", \"notched\": true, \"offsetgroup\": \"\", \"showlegend\": false, \"type\": \"box\", \"x\": [411, 11, 220, 318, 347, 16, 288, 226, 28, 24, 174, 547, 99, 645, 756, 18, 11, 13, 9, 591, 201, 238, 7, 468, 311, 64, 1217, 47, 983, 8288, 6, 3, 1, 0, 123, 0, 8, 141, 8429], \"xaxis\": \"x3\", \"yaxis\": \"y3\"}, {\"alignmentgroup\": \"True\", \"hoverlabel\": {\"namelength\": 0}, \"hovertemplate\": \"Predicted=%{y}\", \"legendgroup\": \"\", \"marker\": {\"color\": \"#440154\", \"symbol\": \"circle\"}, \"name\": \"\", \"offsetgroup\": \"\", \"scalegroup\": \"y\", \"showlegend\": false, \"type\": \"violin\", \"xaxis\": \"x2\", \"y\": [420.22852498191855, 8.73892247678629, 194.43836240338743, 357.4649080072165, 353.8618635342782, 9.124799506124111, 297.20629734071383, 202.8170175238295, 23.94488025016361, 11.772460891747311, 146.96518226242472, 619.1179184396111, 90.91908747441296, 649.1570252579503, 766.4309823513964, 16.61426590879234, 27.73386372287252, 9.159550460269287, 11.45450209616767, 612.2488074797724, 200.11640438264806, 205.58054185726945, 6.423895392902928, 566.1465310226972, 425.76785041753203, 55.94258861643908, 1142.4805445386423, 55.19397019626394, 775.768161752977, 8286.149304710252, 7.407886695247651, 1.68779141278847, 2.6926648435641627, 0.5482752630744598, 125.6939302016774, -0.5418058788234996, 9.527951709905656, 152.01589299665847, 8438.998397498448], \"yaxis\": \"y2\"}, {\"hoverlabel\": {\"namelength\": 0}, \"hovertemplate\": \"<b>OLS trendline</b><br>Predicted = 0.999356 * Actual + 0.417750<br>R<sup>2</sup>=0.999356<br><br>Actual=%{x}<br>Predicted=%{y} <b>(trend)</b>\", \"legendgroup\": \"\", \"marker\": {\"symbol\": \"circle\"}, \"mode\": \"lines\", \"name\": \"\", \"showlegend\": false, \"type\": \"scatter\", \"x\": [0, 0, 1, 3, 6, 7, 8, 9, 11, 11, 13, 16, 18, 24, 28, 47, 64, 99, 123, 141, 174, 201, 220, 226, 238, 288, 311, 318, 347, 411, 468, 547, 591, 645, 756, 983, 1217, 8288, 8429], \"xaxis\": \"x\", \"y\": [0.4177503626107182, 0.4177503626107182, 1.4171060685409658, 3.4158174804014614, 6.413884598192205, 7.413240304122452, 8.412596010052699, 9.411951715982948, 11.410663127843442, 11.410663127843442, 13.409374539703938, 16.40744165749468, 18.406153069355177, 24.402287304936664, 28.399710128657652, 47.38746854133236, 64.37651554214656, 99.35396524970524, 123.33850219203119, 141.32690489877564, 174.30564319447382, 201.28824725459052, 220.27600566726522, 226.2721399028467, 238.26440837400966, 288.23219367052207, 311.21737490691777, 318.2128648484295, 347.19418032040664, 411.1529454999425, 468.1162207379666, 547.0653215064563, 591.0369725673871, 645.0021806876205, 755.930664045878, 982.7844092920442, 1216.633644479722, 8283.077841112503, 8423.98699564867], \"yaxis\": \"y\"}],\n",
              "                        {\"coloraxis\": {\"colorbar\": {\"title\": {\"text\": \"Predicted\"}}, \"colorscale\": [[0.0, \"#440154\"], [0.1111111111111111, \"#482878\"], [0.2222222222222222, \"#3e4989\"], [0.3333333333333333, \"#31688e\"], [0.4444444444444444, \"#26828e\"], [0.5555555555555556, \"#1f9e89\"], [0.6666666666666666, \"#35b779\"], [0.7777777777777778, \"#6ece58\"], [0.8888888888888888, \"#b5de2b\"], [1.0, \"#fde725\"]]}, \"legend\": {\"tracegroupgap\": 0}, \"margin\": {\"t\": 60}, \"template\": {\"data\": {\"bar\": [{\"error_x\": {\"color\": \"rgb(36,36,36)\"}, \"error_y\": {\"color\": \"rgb(36,36,36)\"}, \"marker\": {\"line\": {\"color\": \"white\", \"width\": 0.5}}, \"type\": \"bar\"}], \"barpolar\": [{\"marker\": {\"line\": {\"color\": \"white\", \"width\": 0.5}}, \"type\": \"barpolar\"}], \"carpet\": [{\"aaxis\": {\"endlinecolor\": \"rgb(36,36,36)\", \"gridcolor\": \"white\", \"linecolor\": \"white\", \"minorgridcolor\": \"white\", \"startlinecolor\": \"rgb(36,36,36)\"}, \"baxis\": {\"endlinecolor\": \"rgb(36,36,36)\", \"gridcolor\": \"white\", \"linecolor\": \"white\", \"minorgridcolor\": \"white\", \"startlinecolor\": \"rgb(36,36,36)\"}, \"type\": \"carpet\"}], \"choropleth\": [{\"colorbar\": {\"outlinewidth\": 10, \"tickcolor\": \"rgb(36,36,36)\", \"ticklen\": 8, \"ticks\": \"outside\", \"tickwidth\": 2}, \"type\": \"choropleth\"}], \"contour\": [{\"colorbar\": {\"outlinewidth\": 10, \"tickcolor\": \"rgb(36,36,36)\", \"ticklen\": 8, \"ticks\": \"outside\", \"tickwidth\": 2}, \"colorscale\": [[0.0, \"#440154\"], [0.1111111111111111, \"#482878\"], [0.2222222222222222, \"#3e4989\"], [0.3333333333333333, \"#31688e\"], [0.4444444444444444, \"#26828e\"], [0.5555555555555556, \"#1f9e89\"], [0.6666666666666666, \"#35b779\"], [0.7777777777777778, \"#6ece58\"], [0.8888888888888888, \"#b5de2b\"], [1.0, \"#fde725\"]], \"type\": \"contour\"}], \"contourcarpet\": [{\"colorbar\": {\"outlinewidth\": 10, \"tickcolor\": \"rgb(36,36,36)\", \"ticklen\": 8, \"ticks\": \"outside\", \"tickwidth\": 2}, \"type\": \"contourcarpet\"}], \"heatmap\": [{\"colorbar\": {\"outlinewidth\": 10, \"tickcolor\": \"rgb(36,36,36)\", \"ticklen\": 8, \"ticks\": \"outside\", \"tickwidth\": 2}, \"colorscale\": [[0.0, \"#440154\"], [0.1111111111111111, \"#482878\"], [0.2222222222222222, \"#3e4989\"], [0.3333333333333333, \"#31688e\"], [0.4444444444444444, \"#26828e\"], [0.5555555555555556, \"#1f9e89\"], [0.6666666666666666, \"#35b779\"], [0.7777777777777778, \"#6ece58\"], [0.8888888888888888, \"#b5de2b\"], [1.0, \"#fde725\"]], \"type\": \"heatmap\"}], \"heatmapgl\": [{\"colorbar\": {\"outlinewidth\": 10, \"tickcolor\": \"rgb(36,36,36)\", \"ticklen\": 8, \"ticks\": \"outside\", \"tickwidth\": 2}, \"colorscale\": [[0.0, \"#440154\"], [0.1111111111111111, \"#482878\"], [0.2222222222222222, \"#3e4989\"], [0.3333333333333333, \"#31688e\"], [0.4444444444444444, \"#26828e\"], [0.5555555555555556, \"#1f9e89\"], [0.6666666666666666, \"#35b779\"], [0.7777777777777778, \"#6ece58\"], [0.8888888888888888, \"#b5de2b\"], [1.0, \"#fde725\"]], \"type\": \"heatmapgl\"}], \"histogram\": [{\"marker\": {\"line\": {\"color\": \"white\", \"width\": 0.6}}, \"type\": \"histogram\"}], \"histogram2d\": [{\"colorbar\": {\"outlinewidth\": 10, \"tickcolor\": \"rgb(36,36,36)\", \"ticklen\": 8, \"ticks\": \"outside\", \"tickwidth\": 2}, \"colorscale\": [[0.0, \"#440154\"], [0.1111111111111111, \"#482878\"], [0.2222222222222222, \"#3e4989\"], [0.3333333333333333, \"#31688e\"], [0.4444444444444444, \"#26828e\"], [0.5555555555555556, \"#1f9e89\"], [0.6666666666666666, \"#35b779\"], [0.7777777777777778, \"#6ece58\"], [0.8888888888888888, \"#b5de2b\"], [1.0, \"#fde725\"]], \"type\": \"histogram2d\"}], \"histogram2dcontour\": [{\"colorbar\": {\"outlinewidth\": 10, \"tickcolor\": \"rgb(36,36,36)\", \"ticklen\": 8, \"ticks\": \"outside\", \"tickwidth\": 2}, \"colorscale\": [[0.0, \"#440154\"], [0.1111111111111111, \"#482878\"], [0.2222222222222222, \"#3e4989\"], [0.3333333333333333, \"#31688e\"], [0.4444444444444444, \"#26828e\"], [0.5555555555555556, \"#1f9e89\"], [0.6666666666666666, \"#35b779\"], [0.7777777777777778, \"#6ece58\"], [0.8888888888888888, \"#b5de2b\"], [1.0, \"#fde725\"]], \"type\": \"histogram2dcontour\"}], \"mesh3d\": [{\"colorbar\": {\"outlinewidth\": 10, \"tickcolor\": \"rgb(36,36,36)\", \"ticklen\": 8, \"ticks\": \"outside\", \"tickwidth\": 2}, \"type\": \"mesh3d\"}], \"parcoords\": [{\"line\": {\"colorbar\": {\"outlinewidth\": 10, \"tickcolor\": \"rgb(36,36,36)\", \"ticklen\": 8, \"ticks\": \"outside\", \"tickwidth\": 2}}, \"type\": \"parcoords\"}], \"pie\": [{\"automargin\": true, \"type\": \"pie\"}], \"scatter\": [{\"marker\": {\"colorbar\": {\"outlinewidth\": 10, \"tickcolor\": \"rgb(36,36,36)\", \"ticklen\": 8, \"ticks\": \"outside\", \"tickwidth\": 2}}, \"type\": \"scatter\"}], \"scatter3d\": [{\"line\": {\"colorbar\": {\"outlinewidth\": 10, \"tickcolor\": \"rgb(36,36,36)\", \"ticklen\": 8, \"ticks\": \"outside\", \"tickwidth\": 2}}, \"marker\": {\"colorbar\": {\"outlinewidth\": 10, \"tickcolor\": \"rgb(36,36,36)\", \"ticklen\": 8, \"ticks\": \"outside\", \"tickwidth\": 2}}, \"type\": \"scatter3d\"}], \"scattercarpet\": [{\"marker\": {\"colorbar\": {\"outlinewidth\": 10, \"tickcolor\": \"rgb(36,36,36)\", \"ticklen\": 8, \"ticks\": \"outside\", \"tickwidth\": 2}}, \"type\": \"scattercarpet\"}], \"scattergeo\": [{\"marker\": {\"colorbar\": {\"outlinewidth\": 10, \"tickcolor\": \"rgb(36,36,36)\", \"ticklen\": 8, \"ticks\": \"outside\", \"tickwidth\": 2}}, \"type\": \"scattergeo\"}], \"scattergl\": [{\"marker\": {\"colorbar\": {\"outlinewidth\": 10, \"tickcolor\": \"rgb(36,36,36)\", \"ticklen\": 8, \"ticks\": \"outside\", \"tickwidth\": 2}}, \"type\": \"scattergl\"}], \"scattermapbox\": [{\"marker\": {\"colorbar\": {\"outlinewidth\": 10, \"tickcolor\": \"rgb(36,36,36)\", \"ticklen\": 8, \"ticks\": \"outside\", \"tickwidth\": 2}}, \"type\": \"scattermapbox\"}], \"scatterpolar\": [{\"marker\": {\"colorbar\": {\"outlinewidth\": 10, \"tickcolor\": \"rgb(36,36,36)\", \"ticklen\": 8, \"ticks\": \"outside\", \"tickwidth\": 2}}, \"type\": \"scatterpolar\"}], \"scatterpolargl\": [{\"marker\": {\"colorbar\": {\"outlinewidth\": 10, \"tickcolor\": \"rgb(36,36,36)\", \"ticklen\": 8, \"ticks\": \"outside\", \"tickwidth\": 2}}, \"type\": \"scatterpolargl\"}], \"scatterternary\": [{\"marker\": {\"colorbar\": {\"outlinewidth\": 10, \"tickcolor\": \"rgb(36,36,36)\", \"ticklen\": 8, \"ticks\": \"outside\", \"tickwidth\": 2}}, \"type\": \"scatterternary\"}], \"surface\": [{\"colorbar\": {\"outlinewidth\": 10, \"tickcolor\": \"rgb(36,36,36)\", \"ticklen\": 8, \"ticks\": \"outside\", \"tickwidth\": 2}, \"colorscale\": [[0.0, \"#440154\"], [0.1111111111111111, \"#482878\"], [0.2222222222222222, \"#3e4989\"], [0.3333333333333333, \"#31688e\"], [0.4444444444444444, \"#26828e\"], [0.5555555555555556, \"#1f9e89\"], [0.6666666666666666, \"#35b779\"], [0.7777777777777778, \"#6ece58\"], [0.8888888888888888, \"#b5de2b\"], [1.0, \"#fde725\"]], \"type\": \"surface\"}], \"table\": [{\"cells\": {\"fill\": {\"color\": \"rgb(237,237,237)\"}, \"line\": {\"color\": \"white\"}}, \"header\": {\"fill\": {\"color\": \"rgb(217,217,217)\"}, \"line\": {\"color\": \"white\"}}, \"type\": \"table\"}]}, \"layout\": {\"annotationdefaults\": {\"arrowhead\": 0, \"arrowwidth\": 1}, \"coloraxis\": {\"colorbar\": {\"outlinewidth\": 10, \"tickcolor\": \"rgb(36,36,36)\", \"ticklen\": 8, \"ticks\": \"outside\", \"tickwidth\": 2}}, \"colorscale\": {\"diverging\": [[0.0, \"rgb(103,0,31)\"], [0.1, \"rgb(178,24,43)\"], [0.2, \"rgb(214,96,77)\"], [0.3, \"rgb(244,165,130)\"], [0.4, \"rgb(253,219,199)\"], [0.5, \"rgb(247,247,247)\"], [0.6, \"rgb(209,229,240)\"], [0.7, \"rgb(146,197,222)\"], [0.8, \"rgb(67,147,195)\"], [0.9, \"rgb(33,102,172)\"], [1.0, \"rgb(5,48,97)\"]], \"sequential\": [[0.0, \"#440154\"], [0.1111111111111111, \"#482878\"], [0.2222222222222222, \"#3e4989\"], [0.3333333333333333, \"#31688e\"], [0.4444444444444444, \"#26828e\"], [0.5555555555555556, \"#1f9e89\"], [0.6666666666666666, \"#35b779\"], [0.7777777777777778, \"#6ece58\"], [0.8888888888888888, \"#b5de2b\"], [1.0, \"#fde725\"]], \"sequentialminus\": [[0.0, \"#440154\"], [0.1111111111111111, \"#482878\"], [0.2222222222222222, \"#3e4989\"], [0.3333333333333333, \"#31688e\"], [0.4444444444444444, \"#26828e\"], [0.5555555555555556, \"#1f9e89\"], [0.6666666666666666, \"#35b779\"], [0.7777777777777778, \"#6ece58\"], [0.8888888888888888, \"#b5de2b\"], [1.0, \"#fde725\"]]}, \"colorway\": [\"#1F77B4\", \"#FF7F0E\", \"#2CA02C\", \"#D62728\", \"#9467BD\", \"#8C564B\", \"#E377C2\", \"#7F7F7F\", \"#BCBD22\", \"#17BECF\"], \"font\": {\"color\": \"rgb(36,36,36)\"}, \"geo\": {\"bgcolor\": \"white\", \"lakecolor\": \"white\", \"landcolor\": \"white\", \"showlakes\": true, \"showland\": true, \"subunitcolor\": \"white\"}, \"hoverlabel\": {\"align\": \"left\"}, \"hovermode\": \"closest\", \"mapbox\": {\"style\": \"light\"}, \"paper_bgcolor\": \"white\", \"plot_bgcolor\": \"white\", \"polar\": {\"angularaxis\": {\"gridcolor\": \"rgb(232,232,232)\", \"linecolor\": \"rgb(36,36,36)\", \"showgrid\": false, \"showline\": true, \"ticks\": \"outside\"}, \"bgcolor\": \"white\", \"radialaxis\": {\"gridcolor\": \"rgb(232,232,232)\", \"linecolor\": \"rgb(36,36,36)\", \"showgrid\": false, \"showline\": true, \"ticks\": \"outside\"}}, \"scene\": {\"xaxis\": {\"backgroundcolor\": \"white\", \"gridcolor\": \"rgb(232,232,232)\", \"gridwidth\": 2, \"linecolor\": \"rgb(36,36,36)\", \"showbackground\": true, \"showgrid\": false, \"showline\": true, \"ticks\": \"outside\", \"zeroline\": false, \"zerolinecolor\": \"rgb(36,36,36)\"}, \"yaxis\": {\"backgroundcolor\": \"white\", \"gridcolor\": \"rgb(232,232,232)\", \"gridwidth\": 2, \"linecolor\": \"rgb(36,36,36)\", \"showbackground\": true, \"showgrid\": false, \"showline\": true, \"ticks\": \"outside\", \"zeroline\": false, \"zerolinecolor\": \"rgb(36,36,36)\"}, \"zaxis\": {\"backgroundcolor\": \"white\", \"gridcolor\": \"rgb(232,232,232)\", \"gridwidth\": 2, \"linecolor\": \"rgb(36,36,36)\", \"showbackground\": true, \"showgrid\": false, \"showline\": true, \"ticks\": \"outside\", \"zeroline\": false, \"zerolinecolor\": \"rgb(36,36,36)\"}}, \"shapedefaults\": {\"fillcolor\": \"black\", \"line\": {\"width\": 0}, \"opacity\": 0.3}, \"ternary\": {\"aaxis\": {\"gridcolor\": \"rgb(232,232,232)\", \"linecolor\": \"rgb(36,36,36)\", \"showgrid\": false, \"showline\": true, \"ticks\": \"outside\"}, \"baxis\": {\"gridcolor\": \"rgb(232,232,232)\", \"linecolor\": \"rgb(36,36,36)\", \"showgrid\": false, \"showline\": true, \"ticks\": \"outside\"}, \"bgcolor\": \"white\", \"caxis\": {\"gridcolor\": \"rgb(232,232,232)\", \"linecolor\": \"rgb(36,36,36)\", \"showgrid\": false, \"showline\": true, \"ticks\": \"outside\"}}, \"title\": {\"x\": 0.05}, \"xaxis\": {\"automargin\": true, \"gridcolor\": \"rgb(232,232,232)\", \"linecolor\": \"rgb(36,36,36)\", \"showgrid\": false, \"showline\": true, \"ticks\": \"outside\", \"title\": {\"standoff\": 15}, \"zeroline\": false, \"zerolinecolor\": \"rgb(36,36,36)\"}, \"yaxis\": {\"automargin\": true, \"gridcolor\": \"rgb(232,232,232)\", \"linecolor\": \"rgb(36,36,36)\", \"showgrid\": false, \"showline\": true, \"ticks\": \"outside\", \"title\": {\"standoff\": 15}, \"zeroline\": false, \"zerolinecolor\": \"rgb(36,36,36)\"}}}, \"xaxis\": {\"anchor\": \"y\", \"domain\": [0.0, 0.7363], \"title\": {\"text\": \"Actual\"}}, \"xaxis2\": {\"anchor\": \"y2\", \"domain\": [0.7413, 1.0], \"matches\": \"x2\", \"showline\": false, \"showticklabels\": false, \"ticks\": \"\"}, \"xaxis3\": {\"anchor\": \"y3\", \"domain\": [0.0, 0.7363], \"matches\": \"x\", \"showticklabels\": false}, \"xaxis4\": {\"anchor\": \"y4\", \"domain\": [0.7413, 1.0], \"matches\": \"x2\", \"showline\": false, \"showticklabels\": false, \"ticks\": \"\"}, \"yaxis\": {\"anchor\": \"x\", \"domain\": [0.0, 0.7326], \"title\": {\"text\": \"Predicted\"}}, \"yaxis2\": {\"anchor\": \"x2\", \"domain\": [0.0, 0.7326], \"matches\": \"y\", \"showticklabels\": false}, \"yaxis3\": {\"anchor\": \"x3\", \"domain\": [0.7426, 1.0], \"matches\": \"y3\", \"showline\": false, \"showticklabels\": false, \"ticks\": \"\"}, \"yaxis4\": {\"anchor\": \"x4\", \"domain\": [0.7426, 1.0], \"matches\": \"y3\", \"showline\": false, \"showticklabels\": false, \"ticks\": \"\"}},\n",
              "                        {\"responsive\": true}\n",
              "                    ).then(function(){\n",
              "                            \n",
              "var gd = document.getElementById('9e36a5e3-e7af-4785-8b13-2c02093691b3');\n",
              "var x = new MutationObserver(function (mutations, observer) {{\n",
              "        var display = window.getComputedStyle(gd).display;\n",
              "        if (!display || display === 'none') {{\n",
              "            console.log([gd, 'removed!']);\n",
              "            Plotly.purge(gd);\n",
              "            observer.disconnect();\n",
              "        }}\n",
              "}});\n",
              "\n",
              "// Listen for the removal of the full notebook cells\n",
              "var notebookContainer = gd.closest('#notebook-container');\n",
              "if (notebookContainer) {{\n",
              "    x.observe(notebookContainer, {childList: true});\n",
              "}}\n",
              "\n",
              "// Listen for the clearing of the current output cell\n",
              "var outputEl = gd.closest('.output');\n",
              "if (outputEl) {{\n",
              "    x.observe(outputEl, {childList: true});\n",
              "}}\n",
              "\n",
              "                        })\n",
              "                };\n",
              "                \n",
              "            </script>\n",
              "        </div>\n",
              "</body>\n",
              "</html>"
            ]
          },
          "metadata": {
            "tags": []
          }
        }
      ]
    },
    {
      "cell_type": "code",
      "metadata": {
        "id": "1QE4a8fsL6Y9",
        "colab": {
          "base_uri": "https://localhost:8080/",
          "height": 34
        },
        "outputId": "3f439f5c-c231-45fe-b41a-93346be0ace3"
      },
      "source": [
        "print('MSE:', metrics.mean_squared_error(y, y_pred))"
      ],
      "execution_count": null,
      "outputs": [
        {
          "output_type": "stream",
          "text": [
            "MSE: 2122.806211214413\n"
          ],
          "name": "stdout"
        }
      ]
    },
    {
      "cell_type": "code",
      "metadata": {
        "id": "ARXHXOAVMD_2",
        "colab": {
          "base_uri": "https://localhost:8080/",
          "height": 51
        },
        "outputId": "1a70023c-6f57-41e3-dbfb-1c66140027cf"
      },
      "source": [
        "from sklearn.metrics import r2_score\n",
        "print(\"R**2 Value:\\ncoefficient of determination:\", r2_score(y, y_pred))"
      ],
      "execution_count": null,
      "outputs": [
        {
          "output_type": "stream",
          "text": [
            "R**2 Value:\n",
            "coefficient of determination: 0.999355705930246\n"
          ],
          "name": "stdout"
        }
      ]
    },
    {
      "cell_type": "code",
      "metadata": {
        "id": "vmP2r-AuMLNV"
      },
      "source": [
        ""
      ],
      "execution_count": null,
      "outputs": []
    }
  ]
}