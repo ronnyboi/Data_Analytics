{
  "nbformat": 4,
  "nbformat_minor": 0,
  "metadata": {
    "colab": {
      "name": "1840114_P4_Data Visualization: PCA.ipynb",
      "provenance": [],
      "collapsed_sections": [],
      "toc_visible": true,
      "include_colab_link": true
    },
    "kernelspec": {
      "name": "python3",
      "display_name": "Python 3"
    }
  },
  "cells": [
    {
      "cell_type": "markdown",
      "metadata": {
        "id": "view-in-github",
        "colab_type": "text"
      },
      "source": [
        "<a href=\"https://colab.research.google.com/github/ronnyboi/Data_Analytics/blob/main/Program%204%20-%20Data%20Visualization%3A%20PCA/Ron_Program4.ipynb\" target=\"_parent\"><img src=\"https://colab.research.google.com/assets/colab-badge.svg\" alt=\"Open In Colab\"/></a>"
      ]
    },
    {
      "cell_type": "markdown",
      "metadata": {
        "id": "INSr-ErrNZi2"
      },
      "source": [
        "## **Data Visualization: PCA**\n"
      ]
    },
    {
      "cell_type": "markdown",
      "metadata": {
        "id": "do_qjJM0XURC"
      },
      "source": [
        "Apply PCA on a dataset of your choice and reduce the dimension to 2. Visualize the dataset in a graph after applying PCA."
      ]
    },
    {
      "cell_type": "markdown",
      "metadata": {
        "id": "WFZC1b1jXVVu"
      },
      "source": [
        "The dataset is taken from https://www.kaggle.com/nyjoey/youtube-stats?select=CAvideos.csv"
      ]
    },
    {
      "cell_type": "markdown",
      "metadata": {
        "id": "WCGdisy2v_92"
      },
      "source": [
        "## **Trending Youtube Video Statistics**"
      ]
    },
    {
      "cell_type": "code",
      "metadata": {
        "id": "GErq502ENX8b",
        "colab": {
          "base_uri": "https://localhost:8080/",
          "height": 198
        },
        "outputId": "7543aa38-d731-4564-fcc5-c710d8643293"
      },
      "source": [
        "import pandas as pd \n",
        "yt_df = pd.read_csv('CAvideos.csv',  encoding='utf-8')\n",
        "yt_df.head(10)\n",
        "yt_df.shape()"
      ],
      "execution_count": null,
      "outputs": [
        {
          "output_type": "error",
          "ename": "TypeError",
          "evalue": "ignored",
          "traceback": [
            "\u001b[0;31m---------------------------------------------------------------------------\u001b[0m",
            "\u001b[0;31mTypeError\u001b[0m                                 Traceback (most recent call last)",
            "\u001b[0;32m<ipython-input-3-311cd8356a78>\u001b[0m in \u001b[0;36m<module>\u001b[0;34m()\u001b[0m\n\u001b[1;32m      2\u001b[0m \u001b[0myt_df\u001b[0m \u001b[0;34m=\u001b[0m \u001b[0mpd\u001b[0m\u001b[0;34m.\u001b[0m\u001b[0mread_csv\u001b[0m\u001b[0;34m(\u001b[0m\u001b[0;34m'CAvideos.csv'\u001b[0m\u001b[0;34m,\u001b[0m  \u001b[0mencoding\u001b[0m\u001b[0;34m=\u001b[0m\u001b[0;34m'utf-8'\u001b[0m\u001b[0;34m)\u001b[0m\u001b[0;34m\u001b[0m\u001b[0;34m\u001b[0m\u001b[0m\n\u001b[1;32m      3\u001b[0m \u001b[0myt_df\u001b[0m\u001b[0;34m.\u001b[0m\u001b[0mhead\u001b[0m\u001b[0;34m(\u001b[0m\u001b[0;36m10\u001b[0m\u001b[0;34m)\u001b[0m\u001b[0;34m\u001b[0m\u001b[0;34m\u001b[0m\u001b[0m\n\u001b[0;32m----> 4\u001b[0;31m \u001b[0myt_df\u001b[0m\u001b[0;34m.\u001b[0m\u001b[0mshape\u001b[0m\u001b[0;34m(\u001b[0m\u001b[0;34m)\u001b[0m\u001b[0;34m\u001b[0m\u001b[0;34m\u001b[0m\u001b[0m\n\u001b[0m",
            "\u001b[0;31mTypeError\u001b[0m: 'tuple' object is not callable"
          ]
        }
      ]
    },
    {
      "cell_type": "code",
      "metadata": {
        "id": "ehG1Mpf-NiRX"
      },
      "source": [
        "# Transforming Trending date column to datetime format\n",
        "yt_df['trending_date'] = pd.to_datetime(yt_df['trending_date'], format='%y.%d.%m').dt.date\n",
        "\n",
        "# Transforming Trending date column to datetime format and splitting into two separate ones\n",
        "publish_time = pd.to_datetime(yt_df['publish_time'], format='%Y-%m-%dT%H:%M:%S.%fZ')\n",
        "yt_df['publish_date'] = publish_time.dt.date\n",
        "yt_df['publish_time'] = publish_time.dt.time\n",
        "yt_df['publish_hour'] = publish_time.dt.hour"
      ],
      "execution_count": null,
      "outputs": []
    },
    {
      "cell_type": "code",
      "metadata": {
        "id": "UIwNh4ZkNkpl",
        "colab": {
          "base_uri": "https://localhost:8080/",
          "height": 1000
        },
        "outputId": "b80bac06-4982-43d5-f3c5-c9a0a28cd9c7"
      },
      "source": [
        "yt_df.head(10)"
      ],
      "execution_count": null,
      "outputs": [
        {
          "output_type": "execute_result",
          "data": {
            "text/html": [
              "<div>\n",
              "<style scoped>\n",
              "    .dataframe tbody tr th:only-of-type {\n",
              "        vertical-align: middle;\n",
              "    }\n",
              "\n",
              "    .dataframe tbody tr th {\n",
              "        vertical-align: top;\n",
              "    }\n",
              "\n",
              "    .dataframe thead th {\n",
              "        text-align: right;\n",
              "    }\n",
              "</style>\n",
              "<table border=\"1\" class=\"dataframe\">\n",
              "  <thead>\n",
              "    <tr style=\"text-align: right;\">\n",
              "      <th></th>\n",
              "      <th>video_id</th>\n",
              "      <th>trending_date</th>\n",
              "      <th>title</th>\n",
              "      <th>channel_title</th>\n",
              "      <th>category_id</th>\n",
              "      <th>publish_time</th>\n",
              "      <th>tags</th>\n",
              "      <th>views</th>\n",
              "      <th>likes</th>\n",
              "      <th>dislikes</th>\n",
              "      <th>comment_count</th>\n",
              "      <th>thumbnail_link</th>\n",
              "      <th>comments_disabled</th>\n",
              "      <th>ratings_disabled</th>\n",
              "      <th>video_error_or_removed</th>\n",
              "      <th>description</th>\n",
              "      <th>publish_date</th>\n",
              "      <th>publish_hour</th>\n",
              "    </tr>\n",
              "  </thead>\n",
              "  <tbody>\n",
              "    <tr>\n",
              "      <th>0</th>\n",
              "      <td>n1WpP7iowLc</td>\n",
              "      <td>2017-11-14</td>\n",
              "      <td>Eminem - Walk On Water (Audio) ft. Beyoncé</td>\n",
              "      <td>EminemVEVO</td>\n",
              "      <td>10</td>\n",
              "      <td>17:00:03</td>\n",
              "      <td>Eminem|\"Walk\"|\"On\"|\"Water\"|\"Aftermath/Shady/In...</td>\n",
              "      <td>17158579</td>\n",
              "      <td>787425</td>\n",
              "      <td>43420</td>\n",
              "      <td>125882</td>\n",
              "      <td>https://i.ytimg.com/vi/n1WpP7iowLc/default.jpg</td>\n",
              "      <td>False</td>\n",
              "      <td>False</td>\n",
              "      <td>False</td>\n",
              "      <td>Eminem's new track Walk on Water ft. Beyoncé i...</td>\n",
              "      <td>2017-11-10</td>\n",
              "      <td>17</td>\n",
              "    </tr>\n",
              "    <tr>\n",
              "      <th>1</th>\n",
              "      <td>0dBIkQ4Mz1M</td>\n",
              "      <td>2017-11-14</td>\n",
              "      <td>PLUSH - Bad Unboxing Fan Mail</td>\n",
              "      <td>iDubbbzTV</td>\n",
              "      <td>23</td>\n",
              "      <td>17:00:00</td>\n",
              "      <td>plush|\"bad unboxing\"|\"unboxing\"|\"fan mail\"|\"id...</td>\n",
              "      <td>1014651</td>\n",
              "      <td>127794</td>\n",
              "      <td>1688</td>\n",
              "      <td>13030</td>\n",
              "      <td>https://i.ytimg.com/vi/0dBIkQ4Mz1M/default.jpg</td>\n",
              "      <td>False</td>\n",
              "      <td>False</td>\n",
              "      <td>False</td>\n",
              "      <td>STill got a lot of packages. Probably will las...</td>\n",
              "      <td>2017-11-13</td>\n",
              "      <td>17</td>\n",
              "    </tr>\n",
              "    <tr>\n",
              "      <th>2</th>\n",
              "      <td>5qpjK5DgCt4</td>\n",
              "      <td>2017-11-14</td>\n",
              "      <td>Racist Superman | Rudy Mancuso, King Bach &amp; Le...</td>\n",
              "      <td>Rudy Mancuso</td>\n",
              "      <td>23</td>\n",
              "      <td>19:05:24</td>\n",
              "      <td>racist superman|\"rudy\"|\"mancuso\"|\"king\"|\"bach\"...</td>\n",
              "      <td>3191434</td>\n",
              "      <td>146035</td>\n",
              "      <td>5339</td>\n",
              "      <td>8181</td>\n",
              "      <td>https://i.ytimg.com/vi/5qpjK5DgCt4/default.jpg</td>\n",
              "      <td>False</td>\n",
              "      <td>False</td>\n",
              "      <td>False</td>\n",
              "      <td>WATCH MY PREVIOUS VIDEO ▶ \\n\\nSUBSCRIBE ► http...</td>\n",
              "      <td>2017-11-12</td>\n",
              "      <td>19</td>\n",
              "    </tr>\n",
              "    <tr>\n",
              "      <th>3</th>\n",
              "      <td>d380meD0W0M</td>\n",
              "      <td>2017-11-14</td>\n",
              "      <td>I Dare You: GOING BALD!?</td>\n",
              "      <td>nigahiga</td>\n",
              "      <td>24</td>\n",
              "      <td>18:01:41</td>\n",
              "      <td>ryan|\"higa\"|\"higatv\"|\"nigahiga\"|\"i dare you\"|\"...</td>\n",
              "      <td>2095828</td>\n",
              "      <td>132239</td>\n",
              "      <td>1989</td>\n",
              "      <td>17518</td>\n",
              "      <td>https://i.ytimg.com/vi/d380meD0W0M/default.jpg</td>\n",
              "      <td>False</td>\n",
              "      <td>False</td>\n",
              "      <td>False</td>\n",
              "      <td>I know it's been a while since we did this sho...</td>\n",
              "      <td>2017-11-12</td>\n",
              "      <td>18</td>\n",
              "    </tr>\n",
              "    <tr>\n",
              "      <th>4</th>\n",
              "      <td>2Vv-BfVoq4g</td>\n",
              "      <td>2017-11-14</td>\n",
              "      <td>Ed Sheeran - Perfect (Official Music Video)</td>\n",
              "      <td>Ed Sheeran</td>\n",
              "      <td>10</td>\n",
              "      <td>11:04:14</td>\n",
              "      <td>edsheeran|\"ed sheeran\"|\"acoustic\"|\"live\"|\"cove...</td>\n",
              "      <td>33523622</td>\n",
              "      <td>1634130</td>\n",
              "      <td>21082</td>\n",
              "      <td>85067</td>\n",
              "      <td>https://i.ytimg.com/vi/2Vv-BfVoq4g/default.jpg</td>\n",
              "      <td>False</td>\n",
              "      <td>False</td>\n",
              "      <td>False</td>\n",
              "      <td>🎧: https://ad.gt/yt-perfect\\n💰: https://atlant...</td>\n",
              "      <td>2017-11-09</td>\n",
              "      <td>11</td>\n",
              "    </tr>\n",
              "    <tr>\n",
              "      <th>5</th>\n",
              "      <td>0yIWz1XEeyc</td>\n",
              "      <td>2017-11-14</td>\n",
              "      <td>Jake Paul Says Alissa Violet CHEATED with LOGA...</td>\n",
              "      <td>DramaAlert</td>\n",
              "      <td>25</td>\n",
              "      <td>07:37:51</td>\n",
              "      <td>#DramaAlert|\"Drama\"|\"Alert\"|\"DramaAlert\"|\"keem...</td>\n",
              "      <td>1309699</td>\n",
              "      <td>103755</td>\n",
              "      <td>4613</td>\n",
              "      <td>12143</td>\n",
              "      <td>https://i.ytimg.com/vi/0yIWz1XEeyc/default.jpg</td>\n",
              "      <td>False</td>\n",
              "      <td>False</td>\n",
              "      <td>False</td>\n",
              "      <td>► Follow for News! - https://twitter.com/KEEMS...</td>\n",
              "      <td>2017-11-13</td>\n",
              "      <td>7</td>\n",
              "    </tr>\n",
              "    <tr>\n",
              "      <th>6</th>\n",
              "      <td>_uM5kFfkhB8</td>\n",
              "      <td>2017-11-14</td>\n",
              "      <td>Vanoss Superhero School - New Students</td>\n",
              "      <td>VanossGaming</td>\n",
              "      <td>23</td>\n",
              "      <td>23:52:13</td>\n",
              "      <td>Funny Moments|\"Montage video games\"|\"gaming\"|\"...</td>\n",
              "      <td>2987945</td>\n",
              "      <td>187464</td>\n",
              "      <td>9850</td>\n",
              "      <td>26629</td>\n",
              "      <td>https://i.ytimg.com/vi/_uM5kFfkhB8/default.jpg</td>\n",
              "      <td>False</td>\n",
              "      <td>False</td>\n",
              "      <td>False</td>\n",
              "      <td>Vanoss Merch Shop: https://vanoss.3blackdot.co...</td>\n",
              "      <td>2017-11-12</td>\n",
              "      <td>23</td>\n",
              "    </tr>\n",
              "    <tr>\n",
              "      <th>7</th>\n",
              "      <td>2kyS6SvSYSE</td>\n",
              "      <td>2017-11-14</td>\n",
              "      <td>WE WANT TO TALK ABOUT OUR MARRIAGE</td>\n",
              "      <td>CaseyNeistat</td>\n",
              "      <td>22</td>\n",
              "      <td>17:13:01</td>\n",
              "      <td>SHANtell martin</td>\n",
              "      <td>748374</td>\n",
              "      <td>57534</td>\n",
              "      <td>2967</td>\n",
              "      <td>15959</td>\n",
              "      <td>https://i.ytimg.com/vi/2kyS6SvSYSE/default.jpg</td>\n",
              "      <td>False</td>\n",
              "      <td>False</td>\n",
              "      <td>False</td>\n",
              "      <td>SHANTELL'S CHANNEL - https://www.youtube.com/s...</td>\n",
              "      <td>2017-11-13</td>\n",
              "      <td>17</td>\n",
              "    </tr>\n",
              "    <tr>\n",
              "      <th>8</th>\n",
              "      <td>JzCsM1vtn78</td>\n",
              "      <td>2017-11-14</td>\n",
              "      <td>THE LOGANG MADE HISTORY. LOL. AGAIN.</td>\n",
              "      <td>Logan Paul Vlogs</td>\n",
              "      <td>24</td>\n",
              "      <td>20:19:24</td>\n",
              "      <td>logan paul vlog|\"logan paul\"|\"logan\"|\"paul\"|\"o...</td>\n",
              "      <td>4477587</td>\n",
              "      <td>292837</td>\n",
              "      <td>4123</td>\n",
              "      <td>36391</td>\n",
              "      <td>https://i.ytimg.com/vi/JzCsM1vtn78/default.jpg</td>\n",
              "      <td>False</td>\n",
              "      <td>False</td>\n",
              "      <td>False</td>\n",
              "      <td>Join the movement. Be a Maverick ► https://Sho...</td>\n",
              "      <td>2017-11-12</td>\n",
              "      <td>20</td>\n",
              "    </tr>\n",
              "    <tr>\n",
              "      <th>9</th>\n",
              "      <td>43sm-QwLcx4</td>\n",
              "      <td>2017-11-14</td>\n",
              "      <td>Finally Sheldon is winning an argument about t...</td>\n",
              "      <td>Sheikh Musa</td>\n",
              "      <td>22</td>\n",
              "      <td>14:10:46</td>\n",
              "      <td>God|\"Sheldon Cooper\"|\"Young Sheldon\"</td>\n",
              "      <td>505161</td>\n",
              "      <td>4135</td>\n",
              "      <td>976</td>\n",
              "      <td>1484</td>\n",
              "      <td>https://i.ytimg.com/vi/43sm-QwLcx4/default.jpg</td>\n",
              "      <td>False</td>\n",
              "      <td>False</td>\n",
              "      <td>False</td>\n",
              "      <td>Sheldon is roasting pastor of the church\\nyoun...</td>\n",
              "      <td>2017-11-10</td>\n",
              "      <td>14</td>\n",
              "    </tr>\n",
              "  </tbody>\n",
              "</table>\n",
              "</div>"
            ],
            "text/plain": [
              "      video_id trending_date  ... publish_date publish_hour\n",
              "0  n1WpP7iowLc    2017-11-14  ...   2017-11-10           17\n",
              "1  0dBIkQ4Mz1M    2017-11-14  ...   2017-11-13           17\n",
              "2  5qpjK5DgCt4    2017-11-14  ...   2017-11-12           19\n",
              "3  d380meD0W0M    2017-11-14  ...   2017-11-12           18\n",
              "4  2Vv-BfVoq4g    2017-11-14  ...   2017-11-09           11\n",
              "5  0yIWz1XEeyc    2017-11-14  ...   2017-11-13            7\n",
              "6  _uM5kFfkhB8    2017-11-14  ...   2017-11-12           23\n",
              "7  2kyS6SvSYSE    2017-11-14  ...   2017-11-13           17\n",
              "8  JzCsM1vtn78    2017-11-14  ...   2017-11-12           20\n",
              "9  43sm-QwLcx4    2017-11-14  ...   2017-11-10           14\n",
              "\n",
              "[10 rows x 18 columns]"
            ]
          },
          "metadata": {
            "tags": []
          },
          "execution_count": 11
        }
      ]
    },
    {
      "cell_type": "code",
      "metadata": {
        "id": "QQEB56YMNn1O",
        "colab": {
          "base_uri": "https://localhost:8080/",
          "height": 136
        },
        "outputId": "3bbc8ee4-496e-4353-fff6-20941c5ca6e1"
      },
      "source": [
        "from sklearn.preprocessing import StandardScaler\n",
        "features = ['views', 'likes', 'dislikes', 'comment_count']\n",
        "x = yt_df.loc[:, features].values\n",
        "print(x[:3])\n",
        "y = yt_df.loc[:,['channel_title']].values\n",
        "x = StandardScaler().fit_transform(x)\n",
        "print(x[:3])\n",
        "x.shape"
      ],
      "execution_count": null,
      "outputs": [
        {
          "output_type": "stream",
          "text": [
            "[[17158579   787425    43420   125882]\n",
            " [ 1014651   127794     1688    13030]\n",
            " [ 3191434   146035     5339     8181]]\n",
            "[[ 4.72195507  5.63609996  2.17858299  5.59990674]\n",
            " [-0.03904156  0.66480294 -0.01689779  0.37013371]\n",
            " [ 0.60291228  0.80227591  0.17517785  0.14542197]]\n"
          ],
          "name": "stdout"
        },
        {
          "output_type": "execute_result",
          "data": {
            "text/plain": [
              "(40881, 4)"
            ]
          },
          "metadata": {
            "tags": []
          },
          "execution_count": 12
        }
      ]
    },
    {
      "cell_type": "code",
      "metadata": {
        "id": "vugPFbC5Npo1",
        "colab": {
          "base_uri": "https://localhost:8080/",
          "height": 142
        },
        "outputId": "d585d569-ef59-4448-e328-ad660b3b7d2c"
      },
      "source": [
        "from sklearn.decomposition import PCA\n",
        "pca = PCA(n_components=2)\n",
        "principalComponents = pca.fit_transform(x)\n",
        "principalDf = pd.DataFrame(data = principalComponents, columns = ['principal component 1', 'principal component 2'])\n",
        "principalDf.head(3)"
      ],
      "execution_count": null,
      "outputs": [
        {
          "output_type": "execute_result",
          "data": {
            "text/html": [
              "<div>\n",
              "<style scoped>\n",
              "    .dataframe tbody tr th:only-of-type {\n",
              "        vertical-align: middle;\n",
              "    }\n",
              "\n",
              "    .dataframe tbody tr th {\n",
              "        vertical-align: top;\n",
              "    }\n",
              "\n",
              "    .dataframe thead th {\n",
              "        text-align: right;\n",
              "    }\n",
              "</style>\n",
              "<table border=\"1\" class=\"dataframe\">\n",
              "  <thead>\n",
              "    <tr style=\"text-align: right;\">\n",
              "      <th></th>\n",
              "      <th>principal component 1</th>\n",
              "      <th>principal component 2</th>\n",
              "    </tr>\n",
              "  </thead>\n",
              "  <tbody>\n",
              "    <tr>\n",
              "      <th>0</th>\n",
              "      <td>9.266912</td>\n",
              "      <td>-1.874680</td>\n",
              "    </tr>\n",
              "    <tr>\n",
              "      <th>1</th>\n",
              "      <td>0.516975</td>\n",
              "      <td>-0.305365</td>\n",
              "    </tr>\n",
              "    <tr>\n",
              "      <th>2</th>\n",
              "      <td>0.881902</td>\n",
              "      <td>-0.362305</td>\n",
              "    </tr>\n",
              "  </tbody>\n",
              "</table>\n",
              "</div>"
            ],
            "text/plain": [
              "   principal component 1  principal component 2\n",
              "0               9.266912              -1.874680\n",
              "1               0.516975              -0.305365\n",
              "2               0.881902              -0.362305"
            ]
          },
          "metadata": {
            "tags": []
          },
          "execution_count": 13
        }
      ]
    },
    {
      "cell_type": "code",
      "metadata": {
        "id": "2ercKyYqNrZ9",
        "colab": {
          "base_uri": "https://localhost:8080/",
          "height": 204
        },
        "outputId": "1bf16503-1940-46d0-9b64-117b97a809c3"
      },
      "source": [
        "finalDf = pd.concat([principalDf, yt_df[['channel_title']]], axis = 1)\n",
        "finalDf.head(5)"
      ],
      "execution_count": null,
      "outputs": [
        {
          "output_type": "execute_result",
          "data": {
            "text/html": [
              "<div>\n",
              "<style scoped>\n",
              "    .dataframe tbody tr th:only-of-type {\n",
              "        vertical-align: middle;\n",
              "    }\n",
              "\n",
              "    .dataframe tbody tr th {\n",
              "        vertical-align: top;\n",
              "    }\n",
              "\n",
              "    .dataframe thead th {\n",
              "        text-align: right;\n",
              "    }\n",
              "</style>\n",
              "<table border=\"1\" class=\"dataframe\">\n",
              "  <thead>\n",
              "    <tr style=\"text-align: right;\">\n",
              "      <th></th>\n",
              "      <th>principal component 1</th>\n",
              "      <th>principal component 2</th>\n",
              "      <th>channel_title</th>\n",
              "    </tr>\n",
              "  </thead>\n",
              "  <tbody>\n",
              "    <tr>\n",
              "      <th>0</th>\n",
              "      <td>9.266912</td>\n",
              "      <td>-1.874680</td>\n",
              "      <td>EminemVEVO</td>\n",
              "    </tr>\n",
              "    <tr>\n",
              "      <th>1</th>\n",
              "      <td>0.516975</td>\n",
              "      <td>-0.305365</td>\n",
              "      <td>iDubbbzTV</td>\n",
              "    </tr>\n",
              "    <tr>\n",
              "      <th>2</th>\n",
              "      <td>0.881902</td>\n",
              "      <td>-0.362305</td>\n",
              "      <td>Rudy Mancuso</td>\n",
              "    </tr>\n",
              "    <tr>\n",
              "      <th>3</th>\n",
              "      <td>0.814614</td>\n",
              "      <td>-0.387630</td>\n",
              "      <td>nigahiga</td>\n",
              "    </tr>\n",
              "    <tr>\n",
              "      <th>4</th>\n",
              "      <td>13.589445</td>\n",
              "      <td>-6.952569</td>\n",
              "      <td>Ed Sheeran</td>\n",
              "    </tr>\n",
              "  </tbody>\n",
              "</table>\n",
              "</div>"
            ],
            "text/plain": [
              "   principal component 1  principal component 2 channel_title\n",
              "0               9.266912              -1.874680    EminemVEVO\n",
              "1               0.516975              -0.305365     iDubbbzTV\n",
              "2               0.881902              -0.362305  Rudy Mancuso\n",
              "3               0.814614              -0.387630      nigahiga\n",
              "4              13.589445              -6.952569    Ed Sheeran"
            ]
          },
          "metadata": {
            "tags": []
          },
          "execution_count": 14
        }
      ]
    },
    {
      "cell_type": "code",
      "metadata": {
        "id": "l6e9Zm_JNvPM",
        "colab": {
          "base_uri": "https://localhost:8080/",
          "height": 523
        },
        "outputId": "e8ea1622-7cc0-4c80-9f15-28270f1de805"
      },
      "source": [
        "import matplotlib.pyplot as plt\n",
        "fig = plt.figure(figsize = (8,8))\n",
        "ax = fig.add_subplot(1,1,1) \n",
        "ax.set_xlabel('Principal Component 1', fontsize = 15)\n",
        "ax.set_ylabel('Principal Component 2', fontsize = 15)\n",
        "ax.set_title('2 component PCA', fontsize = 20)\n",
        "targets = ['EminemVEVO', 'iDubbbzTV', 'Rudy Mancuso']\n",
        "colors = ['r', 'g', 'b',]\n",
        "for target, color in zip(targets,colors):\n",
        "    indicesToKeep = finalDf['channel_title'] == target\n",
        "    ax.scatter(finalDf.loc[indicesToKeep, 'principal component 1']\n",
        "               , finalDf.loc[indicesToKeep, 'principal component 2']\n",
        "               , c = color\n",
        "               , s = 50)\n",
        "ax.legend(targets)\n",
        "ax.grid()"
      ],
      "execution_count": null,
      "outputs": [
        {
          "output_type": "display_data",
          "data": {
            "image/png": "[encoded data removed]",
            "text/plain": [
              "<Figure size 576x576 with 1 Axes>"
            ]
          },
          "metadata": {
            "tags": [],
            "needs_background": "light"
          }
        }
      ]
    },
    {
      "cell_type": "code",
      "metadata": {
        "id": "ZUX21ZKRNw-M"
      },
      "source": [
        ""
      ],
      "execution_count": null,
      "outputs": []
    }
  ]
}