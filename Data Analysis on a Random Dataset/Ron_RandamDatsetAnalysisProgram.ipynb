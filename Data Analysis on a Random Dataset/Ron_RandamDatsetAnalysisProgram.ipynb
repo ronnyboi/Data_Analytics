{
  "nbformat": 4,
  "nbformat_minor": 0,
  "metadata": {
    "colab": {
      "name": "RON VARGHESE JOSE 1840114 - csc541acia2.ipynb",
      "provenance": [],
      "collapsed_sections": [],
      "authorship_tag": "ABX9TyMMDINUnzzGvwbxVTZsoOuI",
      "include_colab_link": true
    },
    "kernelspec": {
      "name": "python3",
      "display_name": "Python 3"
    }
  },
  "cells": [
    {
      "cell_type": "markdown",
      "metadata": {
        "id": "view-in-github",
        "colab_type": "text"
      },
      "source": [
        "<a href=\"https://colab.research.google.com/github/ronnyboi/Data_Analytics/blob/main/Data%20Analysis%20on%20a%20Random%20Dataset/Ron_RandamDatsetAnalysisProgram.ipynb\" target=\"_parent\"><img src=\"https://colab.research.google.com/assets/colab-badge.svg\" alt=\"Open In Colab\"/></a>"
      ]
    },
    {
      "cell_type": "markdown",
      "metadata": {
        "id": "57EPe6MOoHlt"
      },
      "source": [
        "# Data Analysis on a Random Dataset"
      ]
    },
    {
      "cell_type": "code",
      "metadata": {
        "id": "eYdy9k7qhgOF"
      },
      "source": [
        "import pandas as pd\n",
        "import numpy as np\n",
        "\n",
        "from matplotlib import pyplot as plt\n",
        "import seaborn as sns\n",
        "%matplotlib inline\n",
        "import plotly.express as px\n",
        "from sklearn.model_selection import train_test_split \n",
        "from sklearn.linear_model import LinearRegression\n",
        "from sklearn import metrics"
      ],
      "execution_count": null,
      "outputs": []
    },
    {
      "cell_type": "code",
      "metadata": {
        "id": "8AkjalFIiSFO"
      },
      "source": [
        "df=pd.read_csv('randomDataset.csv',index_col=0)"
      ],
      "execution_count": null,
      "outputs": []
    },
    {
      "cell_type": "code",
      "metadata": {
        "id": "36JOk0Irimit",
        "colab": {
          "base_uri": "https://localhost:8080/",
          "height": 235
        },
        "outputId": "eb3feffc-1b6d-4f0b-99e5-f9667f3754e5"
      },
      "source": [
        "df.head()"
      ],
      "execution_count": null,
      "outputs": [
        {
          "output_type": "execute_result",
          "data": {
            "text/html": [
              "<div>\n",
              "<style scoped>\n",
              "    .dataframe tbody tr th:only-of-type {\n",
              "        vertical-align: middle;\n",
              "    }\n",
              "\n",
              "    .dataframe tbody tr th {\n",
              "        vertical-align: top;\n",
              "    }\n",
              "\n",
              "    .dataframe thead th {\n",
              "        text-align: right;\n",
              "    }\n",
              "</style>\n",
              "<table border=\"1\" class=\"dataframe\">\n",
              "  <thead>\n",
              "    <tr style=\"text-align: right;\">\n",
              "      <th></th>\n",
              "      <th>ID2</th>\n",
              "      <th>ID3</th>\n",
              "      <th>ID4</th>\n",
              "      <th>ID5</th>\n",
              "      <th>ID6</th>\n",
              "      <th>ID7</th>\n",
              "      <th>ID8</th>\n",
              "      <th>Target</th>\n",
              "    </tr>\n",
              "    <tr>\n",
              "      <th>ID1</th>\n",
              "      <th></th>\n",
              "      <th></th>\n",
              "      <th></th>\n",
              "      <th></th>\n",
              "      <th></th>\n",
              "      <th></th>\n",
              "      <th></th>\n",
              "      <th></th>\n",
              "    </tr>\n",
              "  </thead>\n",
              "  <tbody>\n",
              "    <tr>\n",
              "      <th>1</th>\n",
              "      <td>Rogers Park</td>\n",
              "      <td>7.7</td>\n",
              "      <td>23.6</td>\n",
              "      <td>8.7</td>\n",
              "      <td>18.2</td>\n",
              "      <td>27.5</td>\n",
              "      <td>23939</td>\n",
              "      <td>39</td>\n",
              "    </tr>\n",
              "    <tr>\n",
              "      <th>2</th>\n",
              "      <td>West Ridge</td>\n",
              "      <td>7.8</td>\n",
              "      <td>17.2</td>\n",
              "      <td>8.8</td>\n",
              "      <td>20.8</td>\n",
              "      <td>38.5</td>\n",
              "      <td>23040</td>\n",
              "      <td>46</td>\n",
              "    </tr>\n",
              "    <tr>\n",
              "      <th>3</th>\n",
              "      <td>Uptown</td>\n",
              "      <td>3.8</td>\n",
              "      <td>-24.0</td>\n",
              "      <td>8.9</td>\n",
              "      <td>11.8</td>\n",
              "      <td>22.2</td>\n",
              "      <td>35787</td>\n",
              "      <td>20</td>\n",
              "    </tr>\n",
              "    <tr>\n",
              "      <th>4</th>\n",
              "      <td>Lincoln Square</td>\n",
              "      <td>3.4</td>\n",
              "      <td>10.9</td>\n",
              "      <td>8.2</td>\n",
              "      <td>13.4</td>\n",
              "      <td>25.5</td>\n",
              "      <td>37524</td>\n",
              "      <td>17</td>\n",
              "    </tr>\n",
              "    <tr>\n",
              "      <th>5</th>\n",
              "      <td>North Center</td>\n",
              "      <td>0.3</td>\n",
              "      <td>7.5</td>\n",
              "      <td>5.2</td>\n",
              "      <td>4.5</td>\n",
              "      <td>26.2</td>\n",
              "      <td>57123</td>\n",
              "      <td>6</td>\n",
              "    </tr>\n",
              "  </tbody>\n",
              "</table>\n",
              "</div>"
            ],
            "text/plain": [
              "                ID2  ID3   ID4  ID5   ID6   ID7    ID8  Target\n",
              "ID1                                                           \n",
              "1       Rogers Park  7.7  23.6  8.7  18.2  27.5  23939      39\n",
              "2        West Ridge  7.8  17.2  8.8  20.8  38.5  23040      46\n",
              "3            Uptown  3.8 -24.0  8.9  11.8  22.2  35787      20\n",
              "4    Lincoln Square  3.4  10.9  8.2  13.4  25.5  37524      17\n",
              "5      North Center  0.3   7.5  5.2   4.5  26.2  57123       6"
            ]
          },
          "metadata": {
            "tags": []
          },
          "execution_count": 3
        }
      ]
    },
    {
      "cell_type": "markdown",
      "metadata": {
        "id": "xYtTTQUBmHuc"
      },
      "source": [
        "# 1 Describe the data (statistics of data set) "
      ]
    },
    {
      "cell_type": "code",
      "metadata": {
        "id": "N1thfZ1IpeHT",
        "colab": {
          "base_uri": "https://localhost:8080/",
          "height": 170
        },
        "outputId": "33e21e37-30cb-42dc-f3a7-f70bec91eb63"
      },
      "source": [
        "df['Target'].describe()"
      ],
      "execution_count": null,
      "outputs": [
        {
          "output_type": "execute_result",
          "data": {
            "text/plain": [
              "count    77.000000\n",
              "mean     49.506494\n",
              "std      28.690556\n",
              "min       1.000000\n",
              "25%      25.000000\n",
              "50%      50.000000\n",
              "75%      74.000000\n",
              "max      98.000000\n",
              "Name: Target, dtype: float64"
            ]
          },
          "metadata": {
            "tags": []
          },
          "execution_count": 10
        }
      ]
    },
    {
      "cell_type": "code",
      "metadata": {
        "id": "2BGyoxHzizjL",
        "colab": {
          "base_uri": "https://localhost:8080/",
          "height": 297
        },
        "outputId": "25e7c663-02f2-4e19-dbc9-93ccb4baaa44"
      },
      "source": [
        "df.describe()"
      ],
      "execution_count": null,
      "outputs": [
        {
          "output_type": "execute_result",
          "data": {
            "text/html": [
              "<div>\n",
              "<style scoped>\n",
              "    .dataframe tbody tr th:only-of-type {\n",
              "        vertical-align: middle;\n",
              "    }\n",
              "\n",
              "    .dataframe tbody tr th {\n",
              "        vertical-align: top;\n",
              "    }\n",
              "\n",
              "    .dataframe thead th {\n",
              "        text-align: right;\n",
              "    }\n",
              "</style>\n",
              "<table border=\"1\" class=\"dataframe\">\n",
              "  <thead>\n",
              "    <tr style=\"text-align: right;\">\n",
              "      <th></th>\n",
              "      <th>ID3</th>\n",
              "      <th>ID4</th>\n",
              "      <th>ID5</th>\n",
              "      <th>ID6</th>\n",
              "      <th>ID7</th>\n",
              "      <th>ID8</th>\n",
              "      <th>Target</th>\n",
              "    </tr>\n",
              "  </thead>\n",
              "  <tbody>\n",
              "    <tr>\n",
              "      <th>count</th>\n",
              "      <td>77.000000</td>\n",
              "      <td>77.000000</td>\n",
              "      <td>77.000000</td>\n",
              "      <td>77.000000</td>\n",
              "      <td>77.000000</td>\n",
              "      <td>77.000000</td>\n",
              "      <td>77.000000</td>\n",
              "    </tr>\n",
              "    <tr>\n",
              "      <th>mean</th>\n",
              "      <td>4.611688</td>\n",
              "      <td>19.532468</td>\n",
              "      <td>14.022078</td>\n",
              "      <td>19.094805</td>\n",
              "      <td>33.798701</td>\n",
              "      <td>25350.155844</td>\n",
              "      <td>49.506494</td>\n",
              "    </tr>\n",
              "    <tr>\n",
              "      <th>std</th>\n",
              "      <td>4.071207</td>\n",
              "      <td>15.046773</td>\n",
              "      <td>9.855330</td>\n",
              "      <td>13.769578</td>\n",
              "      <td>13.818690</td>\n",
              "      <td>15648.218867</td>\n",
              "      <td>28.690556</td>\n",
              "    </tr>\n",
              "    <tr>\n",
              "      <th>min</th>\n",
              "      <td>-6.000000</td>\n",
              "      <td>-33.000000</td>\n",
              "      <td>-23.000000</td>\n",
              "      <td>-37.000000</td>\n",
              "      <td>-44.000000</td>\n",
              "      <td>-8201.000000</td>\n",
              "      <td>1.000000</td>\n",
              "    </tr>\n",
              "    <tr>\n",
              "      <th>25%</th>\n",
              "      <td>1.900000</td>\n",
              "      <td>12.900000</td>\n",
              "      <td>8.800000</td>\n",
              "      <td>11.500000</td>\n",
              "      <td>31.600000</td>\n",
              "      <td>15754.000000</td>\n",
              "      <td>25.000000</td>\n",
              "    </tr>\n",
              "    <tr>\n",
              "      <th>50%</th>\n",
              "      <td>3.800000</td>\n",
              "      <td>18.400000</td>\n",
              "      <td>13.700000</td>\n",
              "      <td>18.400000</td>\n",
              "      <td>38.000000</td>\n",
              "      <td>21323.000000</td>\n",
              "      <td>50.000000</td>\n",
              "    </tr>\n",
              "    <tr>\n",
              "      <th>75%</th>\n",
              "      <td>6.800000</td>\n",
              "      <td>28.600000</td>\n",
              "      <td>19.700000</td>\n",
              "      <td>26.600000</td>\n",
              "      <td>40.500000</td>\n",
              "      <td>28887.000000</td>\n",
              "      <td>74.000000</td>\n",
              "    </tr>\n",
              "    <tr>\n",
              "      <th>max</th>\n",
              "      <td>15.800000</td>\n",
              "      <td>56.500000</td>\n",
              "      <td>35.900000</td>\n",
              "      <td>54.800000</td>\n",
              "      <td>51.500000</td>\n",
              "      <td>88669.000000</td>\n",
              "      <td>98.000000</td>\n",
              "    </tr>\n",
              "  </tbody>\n",
              "</table>\n",
              "</div>"
            ],
            "text/plain": [
              "             ID3        ID4        ID5  ...        ID7           ID8     Target\n",
              "count  77.000000  77.000000  77.000000  ...  77.000000     77.000000  77.000000\n",
              "mean    4.611688  19.532468  14.022078  ...  33.798701  25350.155844  49.506494\n",
              "std     4.071207  15.046773   9.855330  ...  13.818690  15648.218867  28.690556\n",
              "min    -6.000000 -33.000000 -23.000000  ... -44.000000  -8201.000000   1.000000\n",
              "25%     1.900000  12.900000   8.800000  ...  31.600000  15754.000000  25.000000\n",
              "50%     3.800000  18.400000  13.700000  ...  38.000000  21323.000000  50.000000\n",
              "75%     6.800000  28.600000  19.700000  ...  40.500000  28887.000000  74.000000\n",
              "max    15.800000  56.500000  35.900000  ...  51.500000  88669.000000  98.000000\n",
              "\n",
              "[8 rows x 7 columns]"
            ]
          },
          "metadata": {
            "tags": []
          },
          "execution_count": 11
        }
      ]
    },
    {
      "cell_type": "code",
      "metadata": {
        "id": "XblbfZ_ejHa7",
        "colab": {
          "base_uri": "https://localhost:8080/",
          "height": 272
        },
        "outputId": "82a5d214-864f-43b8-b283-5888c98e253c"
      },
      "source": [
        "df.info()"
      ],
      "execution_count": null,
      "outputs": [
        {
          "output_type": "stream",
          "text": [
            "<class 'pandas.core.frame.DataFrame'>\n",
            "Int64Index: 77 entries, 1 to 77\n",
            "Data columns (total 8 columns):\n",
            " #   Column  Non-Null Count  Dtype  \n",
            "---  ------  --------------  -----  \n",
            " 0   ID2     77 non-null     object \n",
            " 1   ID3     77 non-null     float64\n",
            " 2   ID4     77 non-null     float64\n",
            " 3   ID5     77 non-null     float64\n",
            " 4   ID6     77 non-null     float64\n",
            " 5   ID7     77 non-null     float64\n",
            " 6   ID8     77 non-null     int64  \n",
            " 7   Target  77 non-null     int64  \n",
            "dtypes: float64(5), int64(2), object(1)\n",
            "memory usage: 5.4+ KB\n"
          ],
          "name": "stdout"
        }
      ]
    },
    {
      "cell_type": "code",
      "metadata": {
        "id": "eHIvHY-ijLsT",
        "colab": {
          "base_uri": "https://localhost:8080/",
          "height": 34
        },
        "outputId": "8f7649cc-7987-4d3f-94fb-573355648c3b"
      },
      "source": [
        "df.shape"
      ],
      "execution_count": null,
      "outputs": [
        {
          "output_type": "execute_result",
          "data": {
            "text/plain": [
              "(77, 8)"
            ]
          },
          "metadata": {
            "tags": []
          },
          "execution_count": 7
        }
      ]
    },
    {
      "cell_type": "markdown",
      "metadata": {
        "id": "QSeeUwq0rbJr"
      },
      "source": [
        "# **2 Data Visualization**"
      ]
    },
    {
      "cell_type": "code",
      "metadata": {
        "id": "dGi_mFt2k1dz",
        "colab": {
          "base_uri": "https://localhost:8080/",
          "height": 424
        },
        "outputId": "7e4aa3b4-2b7f-4bd1-f8e1-628005990fc6"
      },
      "source": [
        "features = df.select_dtypes(exclude='object').copy()\n",
        "f = plt.figure(figsize=(20,25))\n",
        "\n",
        "for i in range(len(features.columns)):\n",
        "    f.add_subplot(9, 4, i+1)\n",
        "    sns.scatterplot(features.iloc[:,i],df['Target'])\n",
        "    plt.xlabel(features.columns[i])\n",
        "    \n",
        "plt.tight_layout()\n",
        "plt.show()"
      ],
      "execution_count": null,
      "outputs": [
        {
          "output_type": "display_data",
          "data": {
            "image/png": "[encoded data removed]",
            "text/plain": [
              "<Figure size 1440x1800 with 7 Axes>"
            ]
          },
          "metadata": {
            "tags": [],
            "needs_background": "light"
          }
        }
      ]
    },
    {
      "cell_type": "markdown",
      "metadata": {
        "id": "gH2ClsmcsW8J"
      },
      "source": [
        "## To visualize the outliers"
      ]
    },
    {
      "cell_type": "code",
      "metadata": {
        "id": "Mcl8AhiFppqe",
        "colab": {
          "base_uri": "https://localhost:8080/",
          "height": 420
        },
        "outputId": "3b145933-45da-4e5a-8062-14068a57fc10"
      },
      "source": [
        "fig = plt.figure(figsize=(20, 25))\n",
        "\n",
        "for i in range(len(features.columns)):\n",
        "    fig.add_subplot(9, 4, i+1)\n",
        "    sns.boxplot(y=features.iloc[:,i])\n",
        "\n",
        "plt.tight_layout()\n",
        "plt.show()"
      ],
      "execution_count": null,
      "outputs": [
        {
          "output_type": "display_data",
          "data": {
            "image/png": "[encoded data removed]",
            "text/plain": [
              "<Figure size 1440x1800 with 7 Axes>"
            ]
          },
          "metadata": {
            "tags": [],
            "needs_background": "light"
          }
        }
      ]
    },
    {
      "cell_type": "markdown",
      "metadata": {
        "id": "czXvNLqJwTIE"
      },
      "source": [
        "### To Visualize Correlation"
      ]
    },
    {
      "cell_type": "code",
      "metadata": {
        "id": "bkcDUd0ewBex",
        "colab": {
          "base_uri": "https://localhost:8080/",
          "height": 718
        },
        "outputId": "9d7c50bd-88c1-43a4-a265-380ae8ac2000"
      },
      "source": [
        "correlation = df.corr()\n",
        "\n",
        "f, ax = plt.subplots(figsize=(14,12))\n",
        "plt.title('Correlation of the features', size=16)\n",
        "sns.heatmap(correlation)\n",
        "plt.show()"
      ],
      "execution_count": null,
      "outputs": [
        {
          "output_type": "display_data",
          "data": {
            "image/png": "[encoded data removed]",
            "text/plain": [
              "<Figure size 1008x864 with 2 Axes>"
            ]
          },
          "metadata": {
            "tags": [],
            "needs_background": "light"
          }
        }
      ]
    },
    {
      "cell_type": "markdown",
      "metadata": {
        "id": "WGJMQFHpvEo5"
      },
      "source": [
        "# 3 Data Preprocessing"
      ]
    },
    {
      "cell_type": "code",
      "metadata": {
        "id": "26__-elFxQ2Z",
        "colab": {
          "base_uri": "https://localhost:8080/",
          "height": 34
        },
        "outputId": "4425f58c-3d25-4b87-80a2-5439dcd0c92a"
      },
      "source": [
        "df.select_dtypes(exclude=['object']).columns"
      ],
      "execution_count": null,
      "outputs": [
        {
          "output_type": "execute_result",
          "data": {
            "text/plain": [
              "Index(['ID3', 'ID4', 'ID5', 'ID6', 'ID7', 'ID8', 'Target'], dtype='object')"
            ]
          },
          "metadata": {
            "tags": []
          },
          "execution_count": 46
        }
      ]
    },
    {
      "cell_type": "code",
      "metadata": {
        "id": "kXu3Z0kezGlU",
        "colab": {
          "base_uri": "https://localhost:8080/",
          "height": 450
        },
        "outputId": "52ca598d-c4e0-4404-d07f-a23c812c7ea5"
      },
      "source": [
        "df.select_dtypes(exclude=['object'])"
      ],
      "execution_count": null,
      "outputs": [
        {
          "output_type": "execute_result",
          "data": {
            "text/html": [
              "<div>\n",
              "<style scoped>\n",
              "    .dataframe tbody tr th:only-of-type {\n",
              "        vertical-align: middle;\n",
              "    }\n",
              "\n",
              "    .dataframe tbody tr th {\n",
              "        vertical-align: top;\n",
              "    }\n",
              "\n",
              "    .dataframe thead th {\n",
              "        text-align: right;\n",
              "    }\n",
              "</style>\n",
              "<table border=\"1\" class=\"dataframe\">\n",
              "  <thead>\n",
              "    <tr style=\"text-align: right;\">\n",
              "      <th></th>\n",
              "      <th>ID3</th>\n",
              "      <th>ID4</th>\n",
              "      <th>ID5</th>\n",
              "      <th>ID6</th>\n",
              "      <th>ID7</th>\n",
              "      <th>ID8</th>\n",
              "      <th>Target</th>\n",
              "    </tr>\n",
              "    <tr>\n",
              "      <th>ID1</th>\n",
              "      <th></th>\n",
              "      <th></th>\n",
              "      <th></th>\n",
              "      <th></th>\n",
              "      <th></th>\n",
              "      <th></th>\n",
              "      <th></th>\n",
              "    </tr>\n",
              "  </thead>\n",
              "  <tbody>\n",
              "    <tr>\n",
              "      <th>1</th>\n",
              "      <td>7.7</td>\n",
              "      <td>23.6</td>\n",
              "      <td>8.7</td>\n",
              "      <td>18.2</td>\n",
              "      <td>27.5</td>\n",
              "      <td>23939</td>\n",
              "      <td>39</td>\n",
              "    </tr>\n",
              "    <tr>\n",
              "      <th>2</th>\n",
              "      <td>7.8</td>\n",
              "      <td>17.2</td>\n",
              "      <td>8.8</td>\n",
              "      <td>20.8</td>\n",
              "      <td>38.5</td>\n",
              "      <td>23040</td>\n",
              "      <td>46</td>\n",
              "    </tr>\n",
              "    <tr>\n",
              "      <th>3</th>\n",
              "      <td>3.8</td>\n",
              "      <td>-24.0</td>\n",
              "      <td>8.9</td>\n",
              "      <td>11.8</td>\n",
              "      <td>22.2</td>\n",
              "      <td>35787</td>\n",
              "      <td>20</td>\n",
              "    </tr>\n",
              "    <tr>\n",
              "      <th>4</th>\n",
              "      <td>3.4</td>\n",
              "      <td>10.9</td>\n",
              "      <td>8.2</td>\n",
              "      <td>13.4</td>\n",
              "      <td>25.5</td>\n",
              "      <td>37524</td>\n",
              "      <td>17</td>\n",
              "    </tr>\n",
              "    <tr>\n",
              "      <th>5</th>\n",
              "      <td>0.3</td>\n",
              "      <td>7.5</td>\n",
              "      <td>5.2</td>\n",
              "      <td>4.5</td>\n",
              "      <td>26.2</td>\n",
              "      <td>57123</td>\n",
              "      <td>6</td>\n",
              "    </tr>\n",
              "    <tr>\n",
              "      <th>...</th>\n",
              "      <td>...</td>\n",
              "      <td>...</td>\n",
              "      <td>...</td>\n",
              "      <td>...</td>\n",
              "      <td>...</td>\n",
              "      <td>...</td>\n",
              "      <td>...</td>\n",
              "    </tr>\n",
              "    <tr>\n",
              "      <th>73</th>\n",
              "      <td>1.1</td>\n",
              "      <td>16.9</td>\n",
              "      <td>20.8</td>\n",
              "      <td>13.7</td>\n",
              "      <td>42.6</td>\n",
              "      <td>19713</td>\n",
              "      <td>48</td>\n",
              "    </tr>\n",
              "    <tr>\n",
              "      <th>74</th>\n",
              "      <td>1.0</td>\n",
              "      <td>3.4</td>\n",
              "      <td>8.7</td>\n",
              "      <td>4.3</td>\n",
              "      <td>36.8</td>\n",
              "      <td>34381</td>\n",
              "      <td>16</td>\n",
              "    </tr>\n",
              "    <tr>\n",
              "      <th>75</th>\n",
              "      <td>0.8</td>\n",
              "      <td>13.2</td>\n",
              "      <td>15.0</td>\n",
              "      <td>10.8</td>\n",
              "      <td>40.3</td>\n",
              "      <td>27149</td>\n",
              "      <td>30</td>\n",
              "    </tr>\n",
              "    <tr>\n",
              "      <th>76</th>\n",
              "      <td>3.6</td>\n",
              "      <td>15.4</td>\n",
              "      <td>7.1</td>\n",
              "      <td>10.9</td>\n",
              "      <td>30.3</td>\n",
              "      <td>25828</td>\n",
              "      <td>24</td>\n",
              "    </tr>\n",
              "    <tr>\n",
              "      <th>77</th>\n",
              "      <td>4.1</td>\n",
              "      <td>18.2</td>\n",
              "      <td>9.2</td>\n",
              "      <td>9.7</td>\n",
              "      <td>23.8</td>\n",
              "      <td>33385</td>\n",
              "      <td>19</td>\n",
              "    </tr>\n",
              "  </tbody>\n",
              "</table>\n",
              "<p>77 rows × 7 columns</p>\n",
              "</div>"
            ],
            "text/plain": [
              "     ID3   ID4   ID5   ID6   ID7    ID8  Target\n",
              "ID1                                            \n",
              "1    7.7  23.6   8.7  18.2  27.5  23939      39\n",
              "2    7.8  17.2   8.8  20.8  38.5  23040      46\n",
              "3    3.8 -24.0   8.9  11.8  22.2  35787      20\n",
              "4    3.4  10.9   8.2  13.4  25.5  37524      17\n",
              "5    0.3   7.5   5.2   4.5  26.2  57123       6\n",
              "..   ...   ...   ...   ...   ...    ...     ...\n",
              "73   1.1  16.9  20.8  13.7  42.6  19713      48\n",
              "74   1.0   3.4   8.7   4.3  36.8  34381      16\n",
              "75   0.8  13.2  15.0  10.8  40.3  27149      30\n",
              "76   3.6  15.4   7.1  10.9  30.3  25828      24\n",
              "77   4.1  18.2   9.2   9.7  23.8  33385      19\n",
              "\n",
              "[77 rows x 7 columns]"
            ]
          },
          "metadata": {
            "tags": []
          },
          "execution_count": 47
        }
      ]
    },
    {
      "cell_type": "code",
      "metadata": {
        "id": "BwXlvonNzTun",
        "colab": {
          "base_uri": "https://localhost:8080/",
          "height": 34
        },
        "outputId": "c9f8d226-8fc2-416d-b7b4-4f370e28f826"
      },
      "source": [
        "t_list = list(df['Target'])\n",
        "filtered_t_list=[None]*len(t_list)\n",
        "len(filtered_t_list)"
      ],
      "execution_count": null,
      "outputs": [
        {
          "output_type": "execute_result",
          "data": {
            "text/plain": [
              "77"
            ]
          },
          "metadata": {
            "tags": []
          },
          "execution_count": 50
        }
      ]
    },
    {
      "cell_type": "code",
      "metadata": {
        "id": "3i1sqhmkzfNA",
        "colab": {
          "base_uri": "https://localhost:8080/",
          "height": 34
        },
        "outputId": "558db9f5-b6df-4321-b97d-4809f2130e5f"
      },
      "source": [
        "q=3\n",
        "for i in range(q-1):\n",
        " filtered_t_list[i]=t_list[i]\n",
        "filtered_t_list[1:3]"
      ],
      "execution_count": null,
      "outputs": [
        {
          "output_type": "execute_result",
          "data": {
            "text/plain": [
              "[46, None]"
            ]
          },
          "metadata": {
            "tags": []
          },
          "execution_count": 51
        }
      ]
    },
    {
      "cell_type": "code",
      "metadata": {
        "id": "yGOVAPgUzryM",
        "colab": {
          "base_uri": "https://localhost:8080/",
          "height": 187
        },
        "outputId": "f399ffee-3bb8-4624-bcd6-bf01f79d586b"
      },
      "source": [
        "q=3\n",
        "for i in range(q-1):\n",
        " filtered_t_list[i] = t_list[i]\n",
        "for i in range(q-1, len(t_list)):\n",
        " start_i = (i+1)-q\n",
        " end_i = i+1\n",
        " filtered_t_list[i] = sum(t_list[ start_i:end_i ])/3.0\n",
        "\n",
        "filtered_t_list[:10]"
      ],
      "execution_count": null,
      "outputs": [
        {
          "output_type": "execute_result",
          "data": {
            "text/plain": [
              "[39,\n",
              " 46,\n",
              " 35.0,\n",
              " 27.666666666666668,\n",
              " 14.333333333333334,\n",
              " 9.333333333333334,\n",
              " 4.333333333333333,\n",
              " 2.6666666666666665,\n",
              " 3.6666666666666665,\n",
              " 10.0]"
            ]
          },
          "metadata": {
            "tags": []
          },
          "execution_count": 52
        }
      ]
    },
    {
      "cell_type": "markdown",
      "metadata": {
        "id": "Fy23YySp_RZ1"
      },
      "source": [
        "# 4 Implement Regression and split data into training and test data"
      ]
    },
    {
      "cell_type": "code",
      "metadata": {
        "id": "KpTH7kKYzvgn"
      },
      "source": [
        "x = df[['ID3', 'ID4', 'ID5' ,'ID6', 'ID7', 'ID8']].values.reshape(-1,6)\n",
        "y = df['Target'].values.reshape(-1,1)"
      ],
      "execution_count": null,
      "outputs": []
    },
    {
      "cell_type": "code",
      "metadata": {
        "id": "kUYpIhJIzyyw",
        "colab": {
          "base_uri": "https://localhost:8080/",
          "height": 34
        },
        "outputId": "fdef0f9d-a7b7-4582-c7e5-b1c62b86018a"
      },
      "source": [
        "regressor = LinearRegression()\n",
        "regressor.fit(x,y)"
      ],
      "execution_count": null,
      "outputs": [
        {
          "output_type": "execute_result",
          "data": {
            "text/plain": [
              "LinearRegression(copy_X=True, fit_intercept=True, n_jobs=None, normalize=False)"
            ]
          },
          "metadata": {
            "tags": []
          },
          "execution_count": 61
        }
      ]
    },
    {
      "cell_type": "code",
      "metadata": {
        "id": "fRIZ1RDi0N6Q",
        "colab": {
          "base_uri": "https://localhost:8080/",
          "height": 34
        },
        "outputId": "84fa2854-6de4-4dfa-eede-f5472c80d1dd"
      },
      "source": [
        "r_sq = regressor.score(x, y)\n",
        "print('coefficient of determination:', r_sq)"
      ],
      "execution_count": null,
      "outputs": [
        {
          "output_type": "stream",
          "text": [
            "coefficient of determination: 0.8510704204987025\n"
          ],
          "name": "stdout"
        }
      ]
    },
    {
      "cell_type": "code",
      "metadata": {
        "id": "thZ5Op-i09HQ",
        "colab": {
          "base_uri": "https://localhost:8080/",
          "height": 68
        },
        "outputId": "ad0e1fc1-0a0e-456e-d6d2-d5e4ed56bea4"
      },
      "source": [
        "print(regressor.intercept_)\n",
        "print(regressor.coef_)"
      ],
      "execution_count": null,
      "outputs": [
        {
          "output_type": "stream",
          "text": [
            "[48.37313917]\n",
            "[[ 1.61817919e+00  2.97083386e-01  4.20211960e-01  3.20479998e-01\n",
            "   1.50243368e-02 -9.72440031e-04]]\n"
          ],
          "name": "stdout"
        }
      ]
    },
    {
      "cell_type": "code",
      "metadata": {
        "id": "OErU2WjW1AWm",
        "colab": {
          "base_uri": "https://localhost:8080/",
          "height": 419
        },
        "outputId": "d0ef13bc-f8d0-4fda-f46b-57d6bfc50223"
      },
      "source": [
        "y_pred = regressor.predict(x)\n",
        "de = pd.DataFrame({'Actual': y.flatten(), 'Predicted': y_pred.flatten()})\n",
        "de"
      ],
      "execution_count": null,
      "outputs": [
        {
          "output_type": "execute_result",
          "data": {
            "text/html": [
              "<div>\n",
              "<style scoped>\n",
              "    .dataframe tbody tr th:only-of-type {\n",
              "        vertical-align: middle;\n",
              "    }\n",
              "\n",
              "    .dataframe tbody tr th {\n",
              "        vertical-align: top;\n",
              "    }\n",
              "\n",
              "    .dataframe thead th {\n",
              "        text-align: right;\n",
              "    }\n",
              "</style>\n",
              "<table border=\"1\" class=\"dataframe\">\n",
              "  <thead>\n",
              "    <tr style=\"text-align: right;\">\n",
              "      <th></th>\n",
              "      <th>Actual</th>\n",
              "      <th>Predicted</th>\n",
              "    </tr>\n",
              "  </thead>\n",
              "  <tbody>\n",
              "    <tr>\n",
              "      <th>0</th>\n",
              "      <td>39</td>\n",
              "      <td>54.466794</td>\n",
              "    </tr>\n",
              "    <tr>\n",
              "      <th>1</th>\n",
              "      <td>46</td>\n",
              "      <td>54.642039</td>\n",
              "    </tr>\n",
              "    <tr>\n",
              "      <th>2</th>\n",
              "      <td>20</td>\n",
              "      <td>20.446598</td>\n",
              "    </tr>\n",
              "    <tr>\n",
              "      <th>3</th>\n",
              "      <td>17</td>\n",
              "      <td>28.746608</td>\n",
              "    </tr>\n",
              "    <tr>\n",
              "      <th>4</th>\n",
              "      <td>6</td>\n",
              "      <td>-0.441074</td>\n",
              "    </tr>\n",
              "    <tr>\n",
              "      <th>...</th>\n",
              "      <td>...</td>\n",
              "      <td>...</td>\n",
              "    </tr>\n",
              "    <tr>\n",
              "      <th>72</th>\n",
              "      <td>48</td>\n",
              "      <td>49.775157</td>\n",
              "    </tr>\n",
              "    <tr>\n",
              "      <th>73</th>\n",
              "      <td>16</td>\n",
              "      <td>23.154745</td>\n",
              "    </tr>\n",
              "    <tr>\n",
              "      <th>74</th>\n",
              "      <td>30</td>\n",
              "      <td>37.558253</td>\n",
              "    </tr>\n",
              "    <tr>\n",
              "      <th>75</th>\n",
              "      <td>24</td>\n",
              "      <td>40.589462</td>\n",
              "    </tr>\n",
              "    <tr>\n",
              "      <th>76</th>\n",
              "      <td>19</td>\n",
              "      <td>35.281866</td>\n",
              "    </tr>\n",
              "  </tbody>\n",
              "</table>\n",
              "<p>77 rows × 2 columns</p>\n",
              "</div>"
            ],
            "text/plain": [
              "    Actual  Predicted\n",
              "0       39  54.466794\n",
              "1       46  54.642039\n",
              "2       20  20.446598\n",
              "3       17  28.746608\n",
              "4        6  -0.441074\n",
              "..     ...        ...\n",
              "72      48  49.775157\n",
              "73      16  23.154745\n",
              "74      30  37.558253\n",
              "75      24  40.589462\n",
              "76      19  35.281866\n",
              "\n",
              "[77 rows x 2 columns]"
            ]
          },
          "metadata": {
            "tags": []
          },
          "execution_count": 65
        }
      ]
    },
    {
      "cell_type": "code",
      "metadata": {
        "id": "s1dDd_S-2K8P",
        "colab": {
          "base_uri": "https://localhost:8080/",
          "height": 542
        },
        "outputId": "16a12b9d-827f-47bf-8644-ea137848bc54"
      },
      "source": [
        "fig = px.scatter(de, x=\"Actual\", y=\"Predicted\", color='Predicted', marginal_y=\"box\",\n",
        "marginal_x=\"box\", trendline=\"ols\", template=\"simple_white\")\n",
        "fig.show()"
      ],
      "execution_count": null,
      "outputs": [
        {
          "output_type": "display_data",
          "data": {
            "text/html": [
              "<html>\n",
              "<head><meta charset=\"utf-8\" /></head>\n",
              "<body>\n",
              "    <div>\n",
              "            <script src=\"https://cdnjs.cloudflare.com/ajax/libs/mathjax/2.7.5/MathJax.js?config=TeX-AMS-MML_SVG\"></script><script type=\"text/javascript\">if (window.MathJax) {MathJax.Hub.Config({SVG: {font: \"STIX-Web\"}});}</script>\n",
              "                <script type=\"text/javascript\">window.PlotlyConfig = {MathJaxConfig: 'local'};</script>\n",
              "        <script src=\"https://cdn.plot.ly/plotly-latest.min.js\"></script>    \n",
              "            <div id=\"f55e70d5-39d1-484a-b307-fe56c1156315\" class=\"plotly-graph-div\" style=\"height:525px; width:100%;\"></div>\n",
              "            <script type=\"text/javascript\">\n",
              "                \n",
              "                    window.PLOTLYENV=window.PLOTLYENV || {};\n",
              "                    \n",
              "                if (document.getElementById(\"f55e70d5-39d1-484a-b307-fe56c1156315\")) {\n",
              "                    Plotly.newPlot(\n",
              "                        'f55e70d5-39d1-484a-b307-fe56c1156315',\n",
              "                        [{\"hoverlabel\": {\"namelength\": 0}, \"hovertemplate\": \"Actual=%{x}<br>Predicted=%{marker.color}\", \"legendgroup\": \"\", \"marker\": {\"color\": [54.46679419466189, 54.6420389290667, 20.446598124400552, 28.74660820664831, -0.44107379601506835, -1.7992586059244857, -12.637416300386924, -26.862996120408788, 16.936629011827268, 15.269138669764153, 38.349381013407466, 14.470699075875913, 42.1229319299943, 66.85391653682575, 46.77930261787141, 47.81708259331779, 44.27779921789176, 58.528615952994144, 75.01944470339902, 70.33926779114256, 35.038765560979215, 36.09617659262601, 88.17770551343466, 21.688231608736103, 69.43295191778417, 84.68803103066978, 77.34617854885079, 25.09118149530082, 79.84489642777854, 96.68407702192172, 75.75428512192192, -4.96104706914781, 1.8858042259829162, 72.45637443890075, 49.6361779124931, 62.11346545116872, 82.06203361393594, 55.49280516918549, 34.53279798987959, 77.33836294571276, 23.588606456798946, 59.692176873072555, 39.89879205529819, 58.94893615996672, 44.822392502962785, 66.13002676417722, 52.04566453748221, 31.314787617206562, 55.41192947739138, 51.55587377054108, 50.46797160127506, 64.39906262594886, 60.65554249666165, 106.64505755314474, 47.57302861619165, 41.074113041297565, 69.65487381631841, 86.84287041832576, 65.80223893472325, 52.54308898049291, 50.82034788048405, 51.375806061824704, 93.79207580170143, 41.547331242844024, 61.14120378139671, 73.88816193563211, 79.48068771951137, 78.34408789249355, 61.75241937267273, 46.244060239517154, 66.39570669921895, 18.066835652967924, 49.77515663532982, 23.15474478259491, 37.55825294192523, 40.589461554647286, 35.28186624149127], \"coloraxis\": \"coloraxis\", \"symbol\": \"circle\"}, \"mode\": \"markers\", \"name\": \"\", \"showlegend\": false, \"type\": \"scatter\", \"x\": [39, 46, 20, 17, 6, 5, 2, 1, 8, 21, 25, 11, 33, 53, 35, 34, 28, 50, 70, 71, 42, 23, 85, 10, 73, 92, 83, 15, 87, 96, 76, 3, 7, 82, 47, 78, 97, 57, 26, 88, 14, 58, 55, 60, 41, 75, 79, 38, 52, 51, 65, 64, 62, 98, 44, 32, 67, 84, 61, 43, 91, 69, 93, 29, 56, 80, 89, 94, 66, 37, 74, 12, 48, 16, 30, 24, 19], \"xaxis\": \"x\", \"y\": [54.46679419466189, 54.6420389290667, 20.446598124400552, 28.74660820664831, -0.44107379601506835, -1.7992586059244857, -12.637416300386924, -26.862996120408788, 16.936629011827268, 15.269138669764153, 38.349381013407466, 14.470699075875913, 42.1229319299943, 66.85391653682575, 46.77930261787141, 47.81708259331779, 44.27779921789176, 58.528615952994144, 75.01944470339902, 70.33926779114256, 35.038765560979215, 36.09617659262601, 88.17770551343466, 21.688231608736103, 69.43295191778417, 84.68803103066978, 77.34617854885079, 25.09118149530082, 79.84489642777854, 96.68407702192172, 75.75428512192192, -4.96104706914781, 1.8858042259829162, 72.45637443890075, 49.6361779124931, 62.11346545116872, 82.06203361393594, 55.49280516918549, 34.53279798987959, 77.33836294571276, 23.588606456798946, 59.692176873072555, 39.89879205529819, 58.94893615996672, 44.822392502962785, 66.13002676417722, 52.04566453748221, 31.314787617206562, 55.41192947739138, 51.55587377054108, 50.46797160127506, 64.39906262594886, 60.65554249666165, 106.64505755314474, 47.57302861619165, 41.074113041297565, 69.65487381631841, 86.84287041832576, 65.80223893472325, 52.54308898049291, 50.82034788048405, 51.375806061824704, 93.79207580170143, 41.547331242844024, 61.14120378139671, 73.88816193563211, 79.48068771951137, 78.34408789249355, 61.75241937267273, 46.244060239517154, 66.39570669921895, 18.066835652967924, 49.77515663532982, 23.15474478259491, 37.55825294192523, 40.589461554647286, 35.28186624149127], \"yaxis\": \"y\"}, {\"alignmentgroup\": \"True\", \"hoverlabel\": {\"namelength\": 0}, \"hovertemplate\": \"Actual=%{x}\", \"legendgroup\": \"\", \"marker\": {\"color\": \"#440154\", \"symbol\": \"circle\"}, \"name\": \"\", \"notched\": true, \"offsetgroup\": \"\", \"showlegend\": false, \"type\": \"box\", \"x\": [39, 46, 20, 17, 6, 5, 2, 1, 8, 21, 25, 11, 33, 53, 35, 34, 28, 50, 70, 71, 42, 23, 85, 10, 73, 92, 83, 15, 87, 96, 76, 3, 7, 82, 47, 78, 97, 57, 26, 88, 14, 58, 55, 60, 41, 75, 79, 38, 52, 51, 65, 64, 62, 98, 44, 32, 67, 84, 61, 43, 91, 69, 93, 29, 56, 80, 89, 94, 66, 37, 74, 12, 48, 16, 30, 24, 19], \"xaxis\": \"x3\", \"yaxis\": \"y3\"}, {\"alignmentgroup\": \"True\", \"hoverlabel\": {\"namelength\": 0}, \"hovertemplate\": \"Predicted=%{y}\", \"legendgroup\": \"\", \"marker\": {\"color\": \"#440154\", \"symbol\": \"circle\"}, \"name\": \"\", \"notched\": true, \"offsetgroup\": \"\", \"showlegend\": false, \"type\": \"box\", \"xaxis\": \"x2\", \"y\": [54.46679419466189, 54.6420389290667, 20.446598124400552, 28.74660820664831, -0.44107379601506835, -1.7992586059244857, -12.637416300386924, -26.862996120408788, 16.936629011827268, 15.269138669764153, 38.349381013407466, 14.470699075875913, 42.1229319299943, 66.85391653682575, 46.77930261787141, 47.81708259331779, 44.27779921789176, 58.528615952994144, 75.01944470339902, 70.33926779114256, 35.038765560979215, 36.09617659262601, 88.17770551343466, 21.688231608736103, 69.43295191778417, 84.68803103066978, 77.34617854885079, 25.09118149530082, 79.84489642777854, 96.68407702192172, 75.75428512192192, -4.96104706914781, 1.8858042259829162, 72.45637443890075, 49.6361779124931, 62.11346545116872, 82.06203361393594, 55.49280516918549, 34.53279798987959, 77.33836294571276, 23.588606456798946, 59.692176873072555, 39.89879205529819, 58.94893615996672, 44.822392502962785, 66.13002676417722, 52.04566453748221, 31.314787617206562, 55.41192947739138, 51.55587377054108, 50.46797160127506, 64.39906262594886, 60.65554249666165, 106.64505755314474, 47.57302861619165, 41.074113041297565, 69.65487381631841, 86.84287041832576, 65.80223893472325, 52.54308898049291, 50.82034788048405, 51.375806061824704, 93.79207580170143, 41.547331242844024, 61.14120378139671, 73.88816193563211, 79.48068771951137, 78.34408789249355, 61.75241937267273, 46.244060239517154, 66.39570669921895, 18.066835652967924, 49.77515663532982, 23.15474478259491, 37.55825294192523, 40.589461554647286, 35.28186624149127], \"yaxis\": \"y2\"}, {\"hoverlabel\": {\"namelength\": 0}, \"hovertemplate\": \"<b>OLS trendline</b><br>Predicted = 0.851070 * Actual + 7.372981<br>R<sup>2</sup>=0.851070<br><br>Actual=%{x}<br>Predicted=%{y} <b>(trend)</b>\", \"legendgroup\": \"\", \"marker\": {\"symbol\": \"circle\"}, \"mode\": \"lines\", \"name\": \"\", \"showlegend\": false, \"type\": \"scatter\", \"x\": [1, 2, 3, 5, 6, 7, 8, 10, 11, 12, 14, 15, 16, 17, 19, 20, 21, 23, 24, 25, 26, 28, 29, 30, 32, 33, 34, 35, 37, 38, 39, 41, 42, 43, 44, 46, 47, 48, 50, 51, 52, 53, 55, 56, 57, 58, 60, 61, 62, 64, 65, 66, 67, 69, 70, 71, 73, 74, 75, 76, 78, 79, 80, 82, 83, 84, 85, 87, 88, 89, 91, 92, 93, 94, 96, 97, 98], \"xaxis\": \"x\", \"y\": [8.224051681006282, 9.075122101504949, 9.926192522003614, 11.628333363000946, 12.479403783499613, 13.330474203998278, 14.181544624496944, 15.883685465494278, 16.734755885992943, 17.585826306491608, 19.287967147488942, 20.139037567987607, 20.990107988486272, 21.841178408984938, 23.54331924998227, 24.394389670480937, 25.245460090979602, 26.947600931976936, 27.7986713524756, 28.649741772974266, 29.50081219347293, 31.202953034470266, 32.054023454968934, 32.9050938754676, 34.60723471646493, 35.458305136963595, 36.30937555746226, 37.16044597796093, 38.86258681895826, 39.71365723945693, 40.564727659955594, 42.266868500952924, 43.11793892145159, 43.969009341950255, 44.82007976244893, 46.52222060344626, 47.37329102394492, 48.22436144444359, 49.92650228544092, 50.77757270593958, 51.62864312643825, 52.47971354693692, 54.18185438793425, 55.03292480843292, 55.88399522893158, 56.73506564943025, 58.437206490427585, 59.28827691092625, 60.139347331424915, 61.841488172422245, 62.69255859292091, 63.543629013419576, 64.39469943391825, 66.09684027491558, 66.94791069541425, 67.79898111591291, 69.50112195691024, 70.35219237740891, 71.20326279790757, 72.05433321840624, 73.75647405940357, 74.60754447990223, 75.4586149004009, 77.16075574139823, 78.0118261618969, 78.86289658239556, 79.71396700289424, 81.41610784389157, 82.26717826439024, 83.1182486848889, 84.82038952588623, 85.6714599463849, 86.52253036688356, 87.37360078738223, 89.07574162837956, 89.92681204887823, 90.77788246937689], \"yaxis\": \"y\"}],\n",
              "                        {\"coloraxis\": {\"colorbar\": {\"title\": {\"text\": \"Predicted\"}}, \"colorscale\": [[0.0, \"#440154\"], [0.1111111111111111, \"#482878\"], [0.2222222222222222, \"#3e4989\"], [0.3333333333333333, \"#31688e\"], [0.4444444444444444, \"#26828e\"], [0.5555555555555556, \"#1f9e89\"], [0.6666666666666666, \"#35b779\"], [0.7777777777777778, \"#6ece58\"], [0.8888888888888888, \"#b5de2b\"], [1.0, \"#fde725\"]]}, \"legend\": {\"tracegroupgap\": 0}, \"margin\": {\"t\": 60}, \"template\": {\"data\": {\"bar\": [{\"error_x\": {\"color\": \"rgb(36,36,36)\"}, \"error_y\": {\"color\": \"rgb(36,36,36)\"}, \"marker\": {\"line\": {\"color\": \"white\", \"width\": 0.5}}, \"type\": \"bar\"}], \"barpolar\": [{\"marker\": {\"line\": {\"color\": \"white\", \"width\": 0.5}}, \"type\": \"barpolar\"}], \"carpet\": [{\"aaxis\": {\"endlinecolor\": \"rgb(36,36,36)\", \"gridcolor\": \"white\", \"linecolor\": \"white\", \"minorgridcolor\": \"white\", \"startlinecolor\": \"rgb(36,36,36)\"}, \"baxis\": {\"endlinecolor\": \"rgb(36,36,36)\", \"gridcolor\": \"white\", \"linecolor\": \"white\", \"minorgridcolor\": \"white\", \"startlinecolor\": \"rgb(36,36,36)\"}, \"type\": \"carpet\"}], \"choropleth\": [{\"colorbar\": {\"outlinewidth\": 10, \"tickcolor\": \"rgb(36,36,36)\", \"ticklen\": 8, \"ticks\": \"outside\", \"tickwidth\": 2}, \"type\": \"choropleth\"}], \"contour\": [{\"colorbar\": {\"outlinewidth\": 10, \"tickcolor\": \"rgb(36,36,36)\", \"ticklen\": 8, \"ticks\": \"outside\", \"tickwidth\": 2}, \"colorscale\": [[0.0, \"#440154\"], [0.1111111111111111, \"#482878\"], [0.2222222222222222, \"#3e4989\"], [0.3333333333333333, \"#31688e\"], [0.4444444444444444, \"#26828e\"], [0.5555555555555556, \"#1f9e89\"], [0.6666666666666666, \"#35b779\"], [0.7777777777777778, \"#6ece58\"], [0.8888888888888888, \"#b5de2b\"], [1.0, \"#fde725\"]], \"type\": \"contour\"}], \"contourcarpet\": [{\"colorbar\": {\"outlinewidth\": 10, \"tickcolor\": \"rgb(36,36,36)\", \"ticklen\": 8, \"ticks\": \"outside\", \"tickwidth\": 2}, \"type\": \"contourcarpet\"}], \"heatmap\": [{\"colorbar\": {\"outlinewidth\": 10, \"tickcolor\": \"rgb(36,36,36)\", \"ticklen\": 8, \"ticks\": \"outside\", \"tickwidth\": 2}, \"colorscale\": [[0.0, \"#440154\"], [0.1111111111111111, \"#482878\"], [0.2222222222222222, \"#3e4989\"], [0.3333333333333333, \"#31688e\"], [0.4444444444444444, \"#26828e\"], [0.5555555555555556, \"#1f9e89\"], [0.6666666666666666, \"#35b779\"], [0.7777777777777778, \"#6ece58\"], [0.8888888888888888, \"#b5de2b\"], [1.0, \"#fde725\"]], \"type\": \"heatmap\"}], \"heatmapgl\": [{\"colorbar\": {\"outlinewidth\": 10, \"tickcolor\": \"rgb(36,36,36)\", \"ticklen\": 8, \"ticks\": \"outside\", \"tickwidth\": 2}, \"colorscale\": [[0.0, \"#440154\"], [0.1111111111111111, \"#482878\"], [0.2222222222222222, \"#3e4989\"], [0.3333333333333333, \"#31688e\"], [0.4444444444444444, \"#26828e\"], [0.5555555555555556, \"#1f9e89\"], [0.6666666666666666, \"#35b779\"], [0.7777777777777778, \"#6ece58\"], [0.8888888888888888, \"#b5de2b\"], [1.0, \"#fde725\"]], \"type\": \"heatmapgl\"}], \"histogram\": [{\"marker\": {\"line\": {\"color\": \"white\", \"width\": 0.6}}, \"type\": \"histogram\"}], \"histogram2d\": [{\"colorbar\": {\"outlinewidth\": 10, \"tickcolor\": \"rgb(36,36,36)\", \"ticklen\": 8, \"ticks\": \"outside\", \"tickwidth\": 2}, \"colorscale\": [[0.0, \"#440154\"], [0.1111111111111111, \"#482878\"], [0.2222222222222222, \"#3e4989\"], [0.3333333333333333, \"#31688e\"], [0.4444444444444444, \"#26828e\"], [0.5555555555555556, \"#1f9e89\"], [0.6666666666666666, \"#35b779\"], [0.7777777777777778, \"#6ece58\"], [0.8888888888888888, \"#b5de2b\"], [1.0, \"#fde725\"]], \"type\": \"histogram2d\"}], \"histogram2dcontour\": [{\"colorbar\": {\"outlinewidth\": 10, \"tickcolor\": \"rgb(36,36,36)\", \"ticklen\": 8, \"ticks\": \"outside\", \"tickwidth\": 2}, \"colorscale\": [[0.0, \"#440154\"], [0.1111111111111111, \"#482878\"], [0.2222222222222222, \"#3e4989\"], [0.3333333333333333, \"#31688e\"], [0.4444444444444444, \"#26828e\"], [0.5555555555555556, \"#1f9e89\"], [0.6666666666666666, \"#35b779\"], [0.7777777777777778, \"#6ece58\"], [0.8888888888888888, \"#b5de2b\"], [1.0, \"#fde725\"]], \"type\": \"histogram2dcontour\"}], \"mesh3d\": [{\"colorbar\": {\"outlinewidth\": 10, \"tickcolor\": \"rgb(36,36,36)\", \"ticklen\": 8, \"ticks\": \"outside\", \"tickwidth\": 2}, \"type\": \"mesh3d\"}], \"parcoords\": [{\"line\": {\"colorbar\": {\"outlinewidth\": 10, \"tickcolor\": \"rgb(36,36,36)\", \"ticklen\": 8, \"ticks\": \"outside\", \"tickwidth\": 2}}, \"type\": \"parcoords\"}], \"pie\": [{\"automargin\": true, \"type\": \"pie\"}], \"scatter\": [{\"marker\": {\"colorbar\": {\"outlinewidth\": 10, \"tickcolor\": \"rgb(36,36,36)\", \"ticklen\": 8, \"ticks\": \"outside\", \"tickwidth\": 2}}, \"type\": \"scatter\"}], \"scatter3d\": [{\"line\": {\"colorbar\": {\"outlinewidth\": 10, \"tickcolor\": \"rgb(36,36,36)\", \"ticklen\": 8, \"ticks\": \"outside\", \"tickwidth\": 2}}, \"marker\": {\"colorbar\": {\"outlinewidth\": 10, \"tickcolor\": \"rgb(36,36,36)\", \"ticklen\": 8, \"ticks\": \"outside\", \"tickwidth\": 2}}, \"type\": \"scatter3d\"}], \"scattercarpet\": [{\"marker\": {\"colorbar\": {\"outlinewidth\": 10, \"tickcolor\": \"rgb(36,36,36)\", \"ticklen\": 8, \"ticks\": \"outside\", \"tickwidth\": 2}}, \"type\": \"scattercarpet\"}], \"scattergeo\": [{\"marker\": {\"colorbar\": {\"outlinewidth\": 10, \"tickcolor\": \"rgb(36,36,36)\", \"ticklen\": 8, \"ticks\": \"outside\", \"tickwidth\": 2}}, \"type\": \"scattergeo\"}], \"scattergl\": [{\"marker\": {\"colorbar\": {\"outlinewidth\": 10, \"tickcolor\": \"rgb(36,36,36)\", \"ticklen\": 8, \"ticks\": \"outside\", \"tickwidth\": 2}}, \"type\": \"scattergl\"}], \"scattermapbox\": [{\"marker\": {\"colorbar\": {\"outlinewidth\": 10, \"tickcolor\": \"rgb(36,36,36)\", \"ticklen\": 8, \"ticks\": \"outside\", \"tickwidth\": 2}}, \"type\": \"scattermapbox\"}], \"scatterpolar\": [{\"marker\": {\"colorbar\": {\"outlinewidth\": 10, \"tickcolor\": \"rgb(36,36,36)\", \"ticklen\": 8, \"ticks\": \"outside\", \"tickwidth\": 2}}, \"type\": \"scatterpolar\"}], \"scatterpolargl\": [{\"marker\": {\"colorbar\": {\"outlinewidth\": 10, \"tickcolor\": \"rgb(36,36,36)\", \"ticklen\": 8, \"ticks\": \"outside\", \"tickwidth\": 2}}, \"type\": \"scatterpolargl\"}], \"scatterternary\": [{\"marker\": {\"colorbar\": {\"outlinewidth\": 10, \"tickcolor\": \"rgb(36,36,36)\", \"ticklen\": 8, \"ticks\": \"outside\", \"tickwidth\": 2}}, \"type\": \"scatterternary\"}], \"surface\": [{\"colorbar\": {\"outlinewidth\": 10, \"tickcolor\": \"rgb(36,36,36)\", \"ticklen\": 8, \"ticks\": \"outside\", \"tickwidth\": 2}, \"colorscale\": [[0.0, \"#440154\"], [0.1111111111111111, \"#482878\"], [0.2222222222222222, \"#3e4989\"], [0.3333333333333333, \"#31688e\"], [0.4444444444444444, \"#26828e\"], [0.5555555555555556, \"#1f9e89\"], [0.6666666666666666, \"#35b779\"], [0.7777777777777778, \"#6ece58\"], [0.8888888888888888, \"#b5de2b\"], [1.0, \"#fde725\"]], \"type\": \"surface\"}], \"table\": [{\"cells\": {\"fill\": {\"color\": \"rgb(237,237,237)\"}, \"line\": {\"color\": \"white\"}}, \"header\": {\"fill\": {\"color\": \"rgb(217,217,217)\"}, \"line\": {\"color\": \"white\"}}, \"type\": \"table\"}]}, \"layout\": {\"annotationdefaults\": {\"arrowhead\": 0, \"arrowwidth\": 1}, \"coloraxis\": {\"colorbar\": {\"outlinewidth\": 10, \"tickcolor\": \"rgb(36,36,36)\", \"ticklen\": 8, \"ticks\": \"outside\", \"tickwidth\": 2}}, \"colorscale\": {\"diverging\": [[0.0, \"rgb(103,0,31)\"], [0.1, \"rgb(178,24,43)\"], [0.2, \"rgb(214,96,77)\"], [0.3, \"rgb(244,165,130)\"], [0.4, \"rgb(253,219,199)\"], [0.5, \"rgb(247,247,247)\"], [0.6, \"rgb(209,229,240)\"], [0.7, \"rgb(146,197,222)\"], [0.8, \"rgb(67,147,195)\"], [0.9, \"rgb(33,102,172)\"], [1.0, \"rgb(5,48,97)\"]], \"sequential\": [[0.0, \"#440154\"], [0.1111111111111111, \"#482878\"], [0.2222222222222222, \"#3e4989\"], [0.3333333333333333, \"#31688e\"], [0.4444444444444444, \"#26828e\"], [0.5555555555555556, \"#1f9e89\"], [0.6666666666666666, \"#35b779\"], [0.7777777777777778, \"#6ece58\"], [0.8888888888888888, \"#b5de2b\"], [1.0, \"#fde725\"]], \"sequentialminus\": [[0.0, \"#440154\"], [0.1111111111111111, \"#482878\"], [0.2222222222222222, \"#3e4989\"], [0.3333333333333333, \"#31688e\"], [0.4444444444444444, \"#26828e\"], [0.5555555555555556, \"#1f9e89\"], [0.6666666666666666, \"#35b779\"], [0.7777777777777778, \"#6ece58\"], [0.8888888888888888, \"#b5de2b\"], [1.0, \"#fde725\"]]}, \"colorway\": [\"#1F77B4\", \"#FF7F0E\", \"#2CA02C\", \"#D62728\", \"#9467BD\", \"#8C564B\", \"#E377C2\", \"#7F7F7F\", \"#BCBD22\", \"#17BECF\"], \"font\": {\"color\": \"rgb(36,36,36)\"}, \"geo\": {\"bgcolor\": \"white\", \"lakecolor\": \"white\", \"landcolor\": \"white\", \"showlakes\": true, \"showland\": true, \"subunitcolor\": \"white\"}, \"hoverlabel\": {\"align\": \"left\"}, \"hovermode\": \"closest\", \"mapbox\": {\"style\": \"light\"}, \"paper_bgcolor\": \"white\", \"plot_bgcolor\": \"white\", \"polar\": {\"angularaxis\": {\"gridcolor\": \"rgb(232,232,232)\", \"linecolor\": \"rgb(36,36,36)\", \"showgrid\": false, \"showline\": true, \"ticks\": \"outside\"}, \"bgcolor\": \"white\", \"radialaxis\": {\"gridcolor\": \"rgb(232,232,232)\", \"linecolor\": \"rgb(36,36,36)\", \"showgrid\": false, \"showline\": true, \"ticks\": \"outside\"}}, \"scene\": {\"xaxis\": {\"backgroundcolor\": \"white\", \"gridcolor\": \"rgb(232,232,232)\", \"gridwidth\": 2, \"linecolor\": \"rgb(36,36,36)\", \"showbackground\": true, \"showgrid\": false, \"showline\": true, \"ticks\": \"outside\", \"zeroline\": false, \"zerolinecolor\": \"rgb(36,36,36)\"}, \"yaxis\": {\"backgroundcolor\": \"white\", \"gridcolor\": \"rgb(232,232,232)\", \"gridwidth\": 2, \"linecolor\": \"rgb(36,36,36)\", \"showbackground\": true, \"showgrid\": false, \"showline\": true, \"ticks\": \"outside\", \"zeroline\": false, \"zerolinecolor\": \"rgb(36,36,36)\"}, \"zaxis\": {\"backgroundcolor\": \"white\", \"gridcolor\": \"rgb(232,232,232)\", \"gridwidth\": 2, \"linecolor\": \"rgb(36,36,36)\", \"showbackground\": true, \"showgrid\": false, \"showline\": true, \"ticks\": \"outside\", \"zeroline\": false, \"zerolinecolor\": \"rgb(36,36,36)\"}}, \"shapedefaults\": {\"fillcolor\": \"black\", \"line\": {\"width\": 0}, \"opacity\": 0.3}, \"ternary\": {\"aaxis\": {\"gridcolor\": \"rgb(232,232,232)\", \"linecolor\": \"rgb(36,36,36)\", \"showgrid\": false, \"showline\": true, \"ticks\": \"outside\"}, \"baxis\": {\"gridcolor\": \"rgb(232,232,232)\", \"linecolor\": \"rgb(36,36,36)\", \"showgrid\": false, \"showline\": true, \"ticks\": \"outside\"}, \"bgcolor\": \"white\", \"caxis\": {\"gridcolor\": \"rgb(232,232,232)\", \"linecolor\": \"rgb(36,36,36)\", \"showgrid\": false, \"showline\": true, \"ticks\": \"outside\"}}, \"title\": {\"x\": 0.05}, \"xaxis\": {\"automargin\": true, \"gridcolor\": \"rgb(232,232,232)\", \"linecolor\": \"rgb(36,36,36)\", \"showgrid\": false, \"showline\": true, \"ticks\": \"outside\", \"title\": {\"standoff\": 15}, \"zeroline\": false, \"zerolinecolor\": \"rgb(36,36,36)\"}, \"yaxis\": {\"automargin\": true, \"gridcolor\": \"rgb(232,232,232)\", \"linecolor\": \"rgb(36,36,36)\", \"showgrid\": false, \"showline\": true, \"ticks\": \"outside\", \"title\": {\"standoff\": 15}, \"zeroline\": false, \"zerolinecolor\": \"rgb(36,36,36)\"}}}, \"xaxis\": {\"anchor\": \"y\", \"domain\": [0.0, 0.7363], \"title\": {\"text\": \"Actual\"}}, \"xaxis2\": {\"anchor\": \"y2\", \"domain\": [0.7413, 1.0], \"matches\": \"x2\", \"showline\": false, \"showticklabels\": false, \"ticks\": \"\"}, \"xaxis3\": {\"anchor\": \"y3\", \"domain\": [0.0, 0.7363], \"matches\": \"x\", \"showticklabels\": false}, \"xaxis4\": {\"anchor\": \"y4\", \"domain\": [0.7413, 1.0], \"matches\": \"x2\", \"showline\": false, \"showticklabels\": false, \"ticks\": \"\"}, \"yaxis\": {\"anchor\": \"x\", \"domain\": [0.0, 0.7326], \"title\": {\"text\": \"Predicted\"}}, \"yaxis2\": {\"anchor\": \"x2\", \"domain\": [0.0, 0.7326], \"matches\": \"y\", \"showticklabels\": false}, \"yaxis3\": {\"anchor\": \"x3\", \"domain\": [0.7426, 1.0], \"matches\": \"y3\", \"showline\": false, \"showticklabels\": false, \"ticks\": \"\"}, \"yaxis4\": {\"anchor\": \"x4\", \"domain\": [0.7426, 1.0], \"matches\": \"y3\", \"showline\": false, \"showticklabels\": false, \"ticks\": \"\"}},\n",
              "                        {\"responsive\": true}\n",
              "                    ).then(function(){\n",
              "                            \n",
              "var gd = document.getElementById('f55e70d5-39d1-484a-b307-fe56c1156315');\n",
              "var x = new MutationObserver(function (mutations, observer) {{\n",
              "        var display = window.getComputedStyle(gd).display;\n",
              "        if (!display || display === 'none') {{\n",
              "            console.log([gd, 'removed!']);\n",
              "            Plotly.purge(gd);\n",
              "            observer.disconnect();\n",
              "        }}\n",
              "}});\n",
              "\n",
              "// Listen for the removal of the full notebook cells\n",
              "var notebookContainer = gd.closest('#notebook-container');\n",
              "if (notebookContainer) {{\n",
              "    x.observe(notebookContainer, {childList: true});\n",
              "}}\n",
              "\n",
              "// Listen for the clearing of the current output cell\n",
              "var outputEl = gd.closest('.output');\n",
              "if (outputEl) {{\n",
              "    x.observe(outputEl, {childList: true});\n",
              "}}\n",
              "\n",
              "                        })\n",
              "                };\n",
              "                \n",
              "            </script>\n",
              "        </div>\n",
              "</body>\n",
              "</html>"
            ]
          },
          "metadata": {
            "tags": []
          }
        }
      ]
    },
    {
      "cell_type": "code",
      "metadata": {
        "id": "FSpzHUrJ1hZf"
      },
      "source": [
        "X_train, X_test, y_train, y_test = train_test_split(x, y, test_size=0.2, random_state=100)"
      ],
      "execution_count": null,
      "outputs": []
    },
    {
      "cell_type": "code",
      "metadata": {
        "id": "dw7tW7-62Efu",
        "colab": {
          "base_uri": "https://localhost:8080/",
          "height": 51
        },
        "outputId": "2bacc55c-6cff-4e2c-8e55-91c0c67c1960"
      },
      "source": [
        "print('train data:',X_train.shape)\n",
        "print('test data:', X_test.shape)"
      ],
      "execution_count": null,
      "outputs": [
        {
          "output_type": "stream",
          "text": [
            "train data: (61, 6)\n",
            "test data: (16, 6)\n"
          ],
          "name": "stdout"
        }
      ]
    },
    {
      "cell_type": "markdown",
      "metadata": {
        "id": "KP74c5rl_gEt"
      },
      "source": [
        "# 5 Mean Squared error"
      ]
    },
    {
      "cell_type": "code",
      "metadata": {
        "id": "Knf4A7T720B3",
        "colab": {
          "base_uri": "https://localhost:8080/",
          "height": 34
        },
        "outputId": "f91ec1b4-8ba2-44f9-ed1e-2f7e4d4f0851"
      },
      "source": [
        "print('MSE:', metrics.mean_squared_error(y, y_pred))"
      ],
      "execution_count": null,
      "outputs": [
        {
          "output_type": "stream",
          "text": [
            "MSE: 120.99899107635001\n"
          ],
          "name": "stdout"
        }
      ]
    },
    {
      "cell_type": "code",
      "metadata": {
        "id": "vg86l8R67qX2"
      },
      "source": [
        ""
      ],
      "execution_count": null,
      "outputs": []
    }
  ]
}