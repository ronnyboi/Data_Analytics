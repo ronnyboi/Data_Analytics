{
  "nbformat": 4,
  "nbformat_minor": 0,
  "metadata": {
    "colab": {
      "name": "1840114_P5_Corelation.ipynb",
      "provenance": [],
      "collapsed_sections": [],
      "include_colab_link": true
    },
    "kernelspec": {
      "name": "python3",
      "display_name": "Python 3"
    }
  },
  "cells": [
    {
      "cell_type": "markdown",
      "metadata": {
        "id": "view-in-github",
        "colab_type": "text"
      },
      "source": [
        "<a href=\"https://colab.research.google.com/github/ronnyboi/Data_Analytics/blob/main/Program%205%20-%20Correlation%3A%20Linear%20and%20Chi%20square%20test/Ron_Program5.ipynb\" target=\"_parent\"><img src=\"https://colab.research.google.com/assets/colab-badge.svg\" alt=\"Open In Colab\"/></a>"
      ]
    },
    {
      "cell_type": "markdown",
      "metadata": {
        "id": "Y46zqReK_kBl"
      },
      "source": [
        "## **Correlation: Linear and Chi square test**\n"
      ]
    },
    {
      "cell_type": "markdown",
      "metadata": {
        "id": "Piq88SuBX2gu"
      },
      "source": [
        "1.   Linear: Find covariance and Pearson's correlation between all pairs of numerical attributes of any dataset of your choice\n",
        "2.   Find the important features: correlation between target column and other columns \n",
        "3. Chi square test: Take an example of your choice, define H0 and Ha. Implement Chi square test and interpret the test result with alpha = 5%\n"
      ]
    },
    {
      "cell_type": "markdown",
      "metadata": {
        "id": "FpXWtTzhYHoG"
      },
      "source": [
        "The dataset is taken from https://www.kaggle.com/nyjoey/youtube-stats?select=CAvideos.csv"
      ]
    },
    {
      "cell_type": "markdown",
      "metadata": {
        "id": "woy9My56_vmg"
      },
      "source": [
        "## **Trending Youtube Video Statistics**"
      ]
    },
    {
      "cell_type": "code",
      "metadata": {
        "id": "8LOM1pc23CaD",
        "colab": {
          "base_uri": "https://localhost:8080/",
          "height": 1000
        },
        "outputId": "b730d628-d098-4b57-e619-402cea003b25"
      },
      "source": [
        "import pandas as pd\n",
        "import numpy as np\n",
        "import matplotlib.pyplot as plt\n",
        "import seaborn as sb\n",
        "import scipy.stats as stats\n",
        "yt_df = pd.read_csv('CAvideos.csv',  encoding='utf-8')\n",
        "yt_df.head(10)"
      ],
      "execution_count": null,
      "outputs": [
        {
          "output_type": "execute_result",
          "data": {
            "text/html": [
              "<div>\n",
              "<style scoped>\n",
              "    .dataframe tbody tr th:only-of-type {\n",
              "        vertical-align: middle;\n",
              "    }\n",
              "\n",
              "    .dataframe tbody tr th {\n",
              "        vertical-align: top;\n",
              "    }\n",
              "\n",
              "    .dataframe thead th {\n",
              "        text-align: right;\n",
              "    }\n",
              "</style>\n",
              "<table border=\"1\" class=\"dataframe\">\n",
              "  <thead>\n",
              "    <tr style=\"text-align: right;\">\n",
              "      <th></th>\n",
              "      <th>video_id</th>\n",
              "      <th>trending_date</th>\n",
              "      <th>title</th>\n",
              "      <th>channel_title</th>\n",
              "      <th>category_id</th>\n",
              "      <th>publish_time</th>\n",
              "      <th>tags</th>\n",
              "      <th>views</th>\n",
              "      <th>likes</th>\n",
              "      <th>dislikes</th>\n",
              "      <th>comment_count</th>\n",
              "      <th>thumbnail_link</th>\n",
              "      <th>comments_disabled</th>\n",
              "      <th>ratings_disabled</th>\n",
              "      <th>video_error_or_removed</th>\n",
              "      <th>description</th>\n",
              "    </tr>\n",
              "  </thead>\n",
              "  <tbody>\n",
              "    <tr>\n",
              "      <th>0</th>\n",
              "      <td>n1WpP7iowLc</td>\n",
              "      <td>17.14.11</td>\n",
              "      <td>Eminem - Walk On Water (Audio) ft. Beyoncé</td>\n",
              "      <td>EminemVEVO</td>\n",
              "      <td>10</td>\n",
              "      <td>2017-11-10T17:00:03.000Z</td>\n",
              "      <td>Eminem|\"Walk\"|\"On\"|\"Water\"|\"Aftermath/Shady/In...</td>\n",
              "      <td>17158579</td>\n",
              "      <td>787425</td>\n",
              "      <td>43420</td>\n",
              "      <td>125882</td>\n",
              "      <td>https://i.ytimg.com/vi/n1WpP7iowLc/default.jpg</td>\n",
              "      <td>False</td>\n",
              "      <td>False</td>\n",
              "      <td>False</td>\n",
              "      <td>Eminem's new track Walk on Water ft. Beyoncé i...</td>\n",
              "    </tr>\n",
              "    <tr>\n",
              "      <th>1</th>\n",
              "      <td>0dBIkQ4Mz1M</td>\n",
              "      <td>17.14.11</td>\n",
              "      <td>PLUSH - Bad Unboxing Fan Mail</td>\n",
              "      <td>iDubbbzTV</td>\n",
              "      <td>23</td>\n",
              "      <td>2017-11-13T17:00:00.000Z</td>\n",
              "      <td>plush|\"bad unboxing\"|\"unboxing\"|\"fan mail\"|\"id...</td>\n",
              "      <td>1014651</td>\n",
              "      <td>127794</td>\n",
              "      <td>1688</td>\n",
              "      <td>13030</td>\n",
              "      <td>https://i.ytimg.com/vi/0dBIkQ4Mz1M/default.jpg</td>\n",
              "      <td>False</td>\n",
              "      <td>False</td>\n",
              "      <td>False</td>\n",
              "      <td>STill got a lot of packages. Probably will las...</td>\n",
              "    </tr>\n",
              "    <tr>\n",
              "      <th>2</th>\n",
              "      <td>5qpjK5DgCt4</td>\n",
              "      <td>17.14.11</td>\n",
              "      <td>Racist Superman | Rudy Mancuso, King Bach &amp; Le...</td>\n",
              "      <td>Rudy Mancuso</td>\n",
              "      <td>23</td>\n",
              "      <td>2017-11-12T19:05:24.000Z</td>\n",
              "      <td>racist superman|\"rudy\"|\"mancuso\"|\"king\"|\"bach\"...</td>\n",
              "      <td>3191434</td>\n",
              "      <td>146035</td>\n",
              "      <td>5339</td>\n",
              "      <td>8181</td>\n",
              "      <td>https://i.ytimg.com/vi/5qpjK5DgCt4/default.jpg</td>\n",
              "      <td>False</td>\n",
              "      <td>False</td>\n",
              "      <td>False</td>\n",
              "      <td>WATCH MY PREVIOUS VIDEO ▶ \\n\\nSUBSCRIBE ► http...</td>\n",
              "    </tr>\n",
              "    <tr>\n",
              "      <th>3</th>\n",
              "      <td>d380meD0W0M</td>\n",
              "      <td>17.14.11</td>\n",
              "      <td>I Dare You: GOING BALD!?</td>\n",
              "      <td>nigahiga</td>\n",
              "      <td>24</td>\n",
              "      <td>2017-11-12T18:01:41.000Z</td>\n",
              "      <td>ryan|\"higa\"|\"higatv\"|\"nigahiga\"|\"i dare you\"|\"...</td>\n",
              "      <td>2095828</td>\n",
              "      <td>132239</td>\n",
              "      <td>1989</td>\n",
              "      <td>17518</td>\n",
              "      <td>https://i.ytimg.com/vi/d380meD0W0M/default.jpg</td>\n",
              "      <td>False</td>\n",
              "      <td>False</td>\n",
              "      <td>False</td>\n",
              "      <td>I know it's been a while since we did this sho...</td>\n",
              "    </tr>\n",
              "    <tr>\n",
              "      <th>4</th>\n",
              "      <td>2Vv-BfVoq4g</td>\n",
              "      <td>17.14.11</td>\n",
              "      <td>Ed Sheeran - Perfect (Official Music Video)</td>\n",
              "      <td>Ed Sheeran</td>\n",
              "      <td>10</td>\n",
              "      <td>2017-11-09T11:04:14.000Z</td>\n",
              "      <td>edsheeran|\"ed sheeran\"|\"acoustic\"|\"live\"|\"cove...</td>\n",
              "      <td>33523622</td>\n",
              "      <td>1634130</td>\n",
              "      <td>21082</td>\n",
              "      <td>85067</td>\n",
              "      <td>https://i.ytimg.com/vi/2Vv-BfVoq4g/default.jpg</td>\n",
              "      <td>False</td>\n",
              "      <td>False</td>\n",
              "      <td>False</td>\n",
              "      <td>🎧: https://ad.gt/yt-perfect\\n💰: https://atlant...</td>\n",
              "    </tr>\n",
              "    <tr>\n",
              "      <th>5</th>\n",
              "      <td>0yIWz1XEeyc</td>\n",
              "      <td>17.14.11</td>\n",
              "      <td>Jake Paul Says Alissa Violet CHEATED with LOGA...</td>\n",
              "      <td>DramaAlert</td>\n",
              "      <td>25</td>\n",
              "      <td>2017-11-13T07:37:51.000Z</td>\n",
              "      <td>#DramaAlert|\"Drama\"|\"Alert\"|\"DramaAlert\"|\"keem...</td>\n",
              "      <td>1309699</td>\n",
              "      <td>103755</td>\n",
              "      <td>4613</td>\n",
              "      <td>12143</td>\n",
              "      <td>https://i.ytimg.com/vi/0yIWz1XEeyc/default.jpg</td>\n",
              "      <td>False</td>\n",
              "      <td>False</td>\n",
              "      <td>False</td>\n",
              "      <td>► Follow for News! - https://twitter.com/KEEMS...</td>\n",
              "    </tr>\n",
              "    <tr>\n",
              "      <th>6</th>\n",
              "      <td>_uM5kFfkhB8</td>\n",
              "      <td>17.14.11</td>\n",
              "      <td>Vanoss Superhero School - New Students</td>\n",
              "      <td>VanossGaming</td>\n",
              "      <td>23</td>\n",
              "      <td>2017-11-12T23:52:13.000Z</td>\n",
              "      <td>Funny Moments|\"Montage video games\"|\"gaming\"|\"...</td>\n",
              "      <td>2987945</td>\n",
              "      <td>187464</td>\n",
              "      <td>9850</td>\n",
              "      <td>26629</td>\n",
              "      <td>https://i.ytimg.com/vi/_uM5kFfkhB8/default.jpg</td>\n",
              "      <td>False</td>\n",
              "      <td>False</td>\n",
              "      <td>False</td>\n",
              "      <td>Vanoss Merch Shop: https://vanoss.3blackdot.co...</td>\n",
              "    </tr>\n",
              "    <tr>\n",
              "      <th>7</th>\n",
              "      <td>2kyS6SvSYSE</td>\n",
              "      <td>17.14.11</td>\n",
              "      <td>WE WANT TO TALK ABOUT OUR MARRIAGE</td>\n",
              "      <td>CaseyNeistat</td>\n",
              "      <td>22</td>\n",
              "      <td>2017-11-13T17:13:01.000Z</td>\n",
              "      <td>SHANtell martin</td>\n",
              "      <td>748374</td>\n",
              "      <td>57534</td>\n",
              "      <td>2967</td>\n",
              "      <td>15959</td>\n",
              "      <td>https://i.ytimg.com/vi/2kyS6SvSYSE/default.jpg</td>\n",
              "      <td>False</td>\n",
              "      <td>False</td>\n",
              "      <td>False</td>\n",
              "      <td>SHANTELL'S CHANNEL - https://www.youtube.com/s...</td>\n",
              "    </tr>\n",
              "    <tr>\n",
              "      <th>8</th>\n",
              "      <td>JzCsM1vtn78</td>\n",
              "      <td>17.14.11</td>\n",
              "      <td>THE LOGANG MADE HISTORY. LOL. AGAIN.</td>\n",
              "      <td>Logan Paul Vlogs</td>\n",
              "      <td>24</td>\n",
              "      <td>2017-11-12T20:19:24.000Z</td>\n",
              "      <td>logan paul vlog|\"logan paul\"|\"logan\"|\"paul\"|\"o...</td>\n",
              "      <td>4477587</td>\n",
              "      <td>292837</td>\n",
              "      <td>4123</td>\n",
              "      <td>36391</td>\n",
              "      <td>https://i.ytimg.com/vi/JzCsM1vtn78/default.jpg</td>\n",
              "      <td>False</td>\n",
              "      <td>False</td>\n",
              "      <td>False</td>\n",
              "      <td>Join the movement. Be a Maverick ► https://Sho...</td>\n",
              "    </tr>\n",
              "    <tr>\n",
              "      <th>9</th>\n",
              "      <td>43sm-QwLcx4</td>\n",
              "      <td>17.14.11</td>\n",
              "      <td>Finally Sheldon is winning an argument about t...</td>\n",
              "      <td>Sheikh Musa</td>\n",
              "      <td>22</td>\n",
              "      <td>2017-11-10T14:10:46.000Z</td>\n",
              "      <td>God|\"Sheldon Cooper\"|\"Young Sheldon\"</td>\n",
              "      <td>505161</td>\n",
              "      <td>4135</td>\n",
              "      <td>976</td>\n",
              "      <td>1484</td>\n",
              "      <td>https://i.ytimg.com/vi/43sm-QwLcx4/default.jpg</td>\n",
              "      <td>False</td>\n",
              "      <td>False</td>\n",
              "      <td>False</td>\n",
              "      <td>Sheldon is roasting pastor of the church\\nyoun...</td>\n",
              "    </tr>\n",
              "  </tbody>\n",
              "</table>\n",
              "</div>"
            ],
            "text/plain": [
              "      video_id  ...                                        description\n",
              "0  n1WpP7iowLc  ...  Eminem's new track Walk on Water ft. Beyoncé i...\n",
              "1  0dBIkQ4Mz1M  ...  STill got a lot of packages. Probably will las...\n",
              "2  5qpjK5DgCt4  ...  WATCH MY PREVIOUS VIDEO ▶ \\n\\nSUBSCRIBE ► http...\n",
              "3  d380meD0W0M  ...  I know it's been a while since we did this sho...\n",
              "4  2Vv-BfVoq4g  ...  🎧: https://ad.gt/yt-perfect\\n💰: https://atlant...\n",
              "5  0yIWz1XEeyc  ...  ► Follow for News! - https://twitter.com/KEEMS...\n",
              "6  _uM5kFfkhB8  ...  Vanoss Merch Shop: https://vanoss.3blackdot.co...\n",
              "7  2kyS6SvSYSE  ...  SHANTELL'S CHANNEL - https://www.youtube.com/s...\n",
              "8  JzCsM1vtn78  ...  Join the movement. Be a Maverick ► https://Sho...\n",
              "9  43sm-QwLcx4  ...  Sheldon is roasting pastor of the church\\nyoun...\n",
              "\n",
              "[10 rows x 16 columns]"
            ]
          },
          "metadata": {
            "tags": []
          },
          "execution_count": 22
        }
      ]
    },
    {
      "cell_type": "code",
      "metadata": {
        "id": "3GSqMjjS_9nA",
        "colab": {
          "base_uri": "https://localhost:8080/",
          "height": 297
        },
        "outputId": "d6f10bad-5f4c-489f-9df0-96dcee2ac39b"
      },
      "source": [
        "yt_df.describe() "
      ],
      "execution_count": null,
      "outputs": [
        {
          "output_type": "execute_result",
          "data": {
            "text/html": [
              "<div>\n",
              "<style scoped>\n",
              "    .dataframe tbody tr th:only-of-type {\n",
              "        vertical-align: middle;\n",
              "    }\n",
              "\n",
              "    .dataframe tbody tr th {\n",
              "        vertical-align: top;\n",
              "    }\n",
              "\n",
              "    .dataframe thead th {\n",
              "        text-align: right;\n",
              "    }\n",
              "</style>\n",
              "<table border=\"1\" class=\"dataframe\">\n",
              "  <thead>\n",
              "    <tr style=\"text-align: right;\">\n",
              "      <th></th>\n",
              "      <th>category_id</th>\n",
              "      <th>views</th>\n",
              "      <th>likes</th>\n",
              "      <th>dislikes</th>\n",
              "      <th>comment_count</th>\n",
              "    </tr>\n",
              "  </thead>\n",
              "  <tbody>\n",
              "    <tr>\n",
              "      <th>count</th>\n",
              "      <td>40881.000000</td>\n",
              "      <td>4.088100e+04</td>\n",
              "      <td>4.088100e+04</td>\n",
              "      <td>4.088100e+04</td>\n",
              "      <td>4.088100e+04</td>\n",
              "    </tr>\n",
              "    <tr>\n",
              "      <th>mean</th>\n",
              "      <td>20.795553</td>\n",
              "      <td>1.147036e+06</td>\n",
              "      <td>3.958269e+04</td>\n",
              "      <td>2.009195e+03</td>\n",
              "      <td>5.042975e+03</td>\n",
              "    </tr>\n",
              "    <tr>\n",
              "      <th>std</th>\n",
              "      <td>6.775054</td>\n",
              "      <td>3.390913e+06</td>\n",
              "      <td>1.326895e+05</td>\n",
              "      <td>1.900837e+04</td>\n",
              "      <td>2.157902e+04</td>\n",
              "    </tr>\n",
              "    <tr>\n",
              "      <th>min</th>\n",
              "      <td>1.000000</td>\n",
              "      <td>7.330000e+02</td>\n",
              "      <td>0.000000e+00</td>\n",
              "      <td>0.000000e+00</td>\n",
              "      <td>0.000000e+00</td>\n",
              "    </tr>\n",
              "    <tr>\n",
              "      <th>25%</th>\n",
              "      <td>20.000000</td>\n",
              "      <td>1.439020e+05</td>\n",
              "      <td>2.191000e+03</td>\n",
              "      <td>9.900000e+01</td>\n",
              "      <td>4.170000e+02</td>\n",
              "    </tr>\n",
              "    <tr>\n",
              "      <th>50%</th>\n",
              "      <td>24.000000</td>\n",
              "      <td>3.712040e+05</td>\n",
              "      <td>8.780000e+03</td>\n",
              "      <td>3.030000e+02</td>\n",
              "      <td>1.301000e+03</td>\n",
              "    </tr>\n",
              "    <tr>\n",
              "      <th>75%</th>\n",
              "      <td>24.000000</td>\n",
              "      <td>9.633020e+05</td>\n",
              "      <td>2.871700e+04</td>\n",
              "      <td>9.500000e+02</td>\n",
              "      <td>3.713000e+03</td>\n",
              "    </tr>\n",
              "    <tr>\n",
              "      <th>max</th>\n",
              "      <td>43.000000</td>\n",
              "      <td>1.378431e+08</td>\n",
              "      <td>5.053338e+06</td>\n",
              "      <td>1.602383e+06</td>\n",
              "      <td>1.114800e+06</td>\n",
              "    </tr>\n",
              "  </tbody>\n",
              "</table>\n",
              "</div>"
            ],
            "text/plain": [
              "        category_id         views         likes      dislikes  comment_count\n",
              "count  40881.000000  4.088100e+04  4.088100e+04  4.088100e+04   4.088100e+04\n",
              "mean      20.795553  1.147036e+06  3.958269e+04  2.009195e+03   5.042975e+03\n",
              "std        6.775054  3.390913e+06  1.326895e+05  1.900837e+04   2.157902e+04\n",
              "min        1.000000  7.330000e+02  0.000000e+00  0.000000e+00   0.000000e+00\n",
              "25%       20.000000  1.439020e+05  2.191000e+03  9.900000e+01   4.170000e+02\n",
              "50%       24.000000  3.712040e+05  8.780000e+03  3.030000e+02   1.301000e+03\n",
              "75%       24.000000  9.633020e+05  2.871700e+04  9.500000e+02   3.713000e+03\n",
              "max       43.000000  1.378431e+08  5.053338e+06  1.602383e+06   1.114800e+06"
            ]
          },
          "metadata": {
            "tags": []
          },
          "execution_count": 6
        }
      ]
    },
    {
      "cell_type": "markdown",
      "metadata": {
        "id": "OFerFhNoHRnB"
      },
      "source": [
        "To find the covariance"
      ]
    },
    {
      "cell_type": "code",
      "metadata": {
        "id": "SGght6yWDONH",
        "colab": {
          "base_uri": "https://localhost:8080/",
          "height": 359
        },
        "outputId": "bc2d4944-d3b4-407f-f229-862aa282ee21"
      },
      "source": [
        "features = yt_df[['views', 'likes', 'dislikes', 'comment_count']]\n",
        "da=features.head(10)\n",
        "da"
      ],
      "execution_count": null,
      "outputs": [
        {
          "output_type": "execute_result",
          "data": {
            "text/html": [
              "<div>\n",
              "<style scoped>\n",
              "    .dataframe tbody tr th:only-of-type {\n",
              "        vertical-align: middle;\n",
              "    }\n",
              "\n",
              "    .dataframe tbody tr th {\n",
              "        vertical-align: top;\n",
              "    }\n",
              "\n",
              "    .dataframe thead th {\n",
              "        text-align: right;\n",
              "    }\n",
              "</style>\n",
              "<table border=\"1\" class=\"dataframe\">\n",
              "  <thead>\n",
              "    <tr style=\"text-align: right;\">\n",
              "      <th></th>\n",
              "      <th>views</th>\n",
              "      <th>likes</th>\n",
              "      <th>dislikes</th>\n",
              "      <th>comment_count</th>\n",
              "    </tr>\n",
              "  </thead>\n",
              "  <tbody>\n",
              "    <tr>\n",
              "      <th>0</th>\n",
              "      <td>17158579</td>\n",
              "      <td>787425</td>\n",
              "      <td>43420</td>\n",
              "      <td>125882</td>\n",
              "    </tr>\n",
              "    <tr>\n",
              "      <th>1</th>\n",
              "      <td>1014651</td>\n",
              "      <td>127794</td>\n",
              "      <td>1688</td>\n",
              "      <td>13030</td>\n",
              "    </tr>\n",
              "    <tr>\n",
              "      <th>2</th>\n",
              "      <td>3191434</td>\n",
              "      <td>146035</td>\n",
              "      <td>5339</td>\n",
              "      <td>8181</td>\n",
              "    </tr>\n",
              "    <tr>\n",
              "      <th>3</th>\n",
              "      <td>2095828</td>\n",
              "      <td>132239</td>\n",
              "      <td>1989</td>\n",
              "      <td>17518</td>\n",
              "    </tr>\n",
              "    <tr>\n",
              "      <th>4</th>\n",
              "      <td>33523622</td>\n",
              "      <td>1634130</td>\n",
              "      <td>21082</td>\n",
              "      <td>85067</td>\n",
              "    </tr>\n",
              "    <tr>\n",
              "      <th>5</th>\n",
              "      <td>1309699</td>\n",
              "      <td>103755</td>\n",
              "      <td>4613</td>\n",
              "      <td>12143</td>\n",
              "    </tr>\n",
              "    <tr>\n",
              "      <th>6</th>\n",
              "      <td>2987945</td>\n",
              "      <td>187464</td>\n",
              "      <td>9850</td>\n",
              "      <td>26629</td>\n",
              "    </tr>\n",
              "    <tr>\n",
              "      <th>7</th>\n",
              "      <td>748374</td>\n",
              "      <td>57534</td>\n",
              "      <td>2967</td>\n",
              "      <td>15959</td>\n",
              "    </tr>\n",
              "    <tr>\n",
              "      <th>8</th>\n",
              "      <td>4477587</td>\n",
              "      <td>292837</td>\n",
              "      <td>4123</td>\n",
              "      <td>36391</td>\n",
              "    </tr>\n",
              "    <tr>\n",
              "      <th>9</th>\n",
              "      <td>505161</td>\n",
              "      <td>4135</td>\n",
              "      <td>976</td>\n",
              "      <td>1484</td>\n",
              "    </tr>\n",
              "  </tbody>\n",
              "</table>\n",
              "</div>"
            ],
            "text/plain": [
              "      views    likes  dislikes  comment_count\n",
              "0  17158579   787425     43420         125882\n",
              "1   1014651   127794      1688          13030\n",
              "2   3191434   146035      5339           8181\n",
              "3   2095828   132239      1989          17518\n",
              "4  33523622  1634130     21082          85067\n",
              "5   1309699   103755      4613          12143\n",
              "6   2987945   187464      9850          26629\n",
              "7    748374    57534      2967          15959\n",
              "8   4477587   292837      4123          36391\n",
              "9    505161     4135       976           1484"
            ]
          },
          "metadata": {
            "tags": []
          },
          "execution_count": 17
        }
      ]
    },
    {
      "cell_type": "code",
      "metadata": {
        "id": "6-0tvDYmHPSr",
        "colab": {
          "base_uri": "https://localhost:8080/",
          "height": 173
        },
        "outputId": "424443ea-bcf2-4ace-f7d1-130dcb1efc65"
      },
      "source": [
        "covariance = da.cov(min_periods=None)\n",
        "covariance"
      ],
      "execution_count": null,
      "outputs": [
        {
          "output_type": "execute_result",
          "data": {
            "text/html": [
              "<div>\n",
              "<style scoped>\n",
              "    .dataframe tbody tr th:only-of-type {\n",
              "        vertical-align: middle;\n",
              "    }\n",
              "\n",
              "    .dataframe tbody tr th {\n",
              "        vertical-align: top;\n",
              "    }\n",
              "\n",
              "    .dataframe thead th {\n",
              "        text-align: right;\n",
              "    }\n",
              "</style>\n",
              "<table border=\"1\" class=\"dataframe\">\n",
              "  <thead>\n",
              "    <tr style=\"text-align: right;\">\n",
              "      <th></th>\n",
              "      <th>views</th>\n",
              "      <th>likes</th>\n",
              "      <th>dislikes</th>\n",
              "      <th>comment_count</th>\n",
              "    </tr>\n",
              "  </thead>\n",
              "  <tbody>\n",
              "    <tr>\n",
              "      <th>views</th>\n",
              "      <td>1.129213e+14</td>\n",
              "      <td>5.326932e+12</td>\n",
              "      <td>9.863330e+10</td>\n",
              "      <td>3.405686e+11</td>\n",
              "    </tr>\n",
              "    <tr>\n",
              "      <th>likes</th>\n",
              "      <td>5.326932e+12</td>\n",
              "      <td>2.526820e+11</td>\n",
              "      <td>4.471769e+09</td>\n",
              "      <td>1.580614e+10</td>\n",
              "    </tr>\n",
              "    <tr>\n",
              "      <th>dislikes</th>\n",
              "      <td>9.863330e+10</td>\n",
              "      <td>4.471769e+09</td>\n",
              "      <td>1.764013e+08</td>\n",
              "      <td>5.099234e+08</td>\n",
              "    </tr>\n",
              "    <tr>\n",
              "      <th>comment_count</th>\n",
              "      <td>3.405686e+11</td>\n",
              "      <td>1.580614e+10</td>\n",
              "      <td>5.099234e+08</td>\n",
              "      <td>1.594242e+09</td>\n",
              "    </tr>\n",
              "  </tbody>\n",
              "</table>\n",
              "</div>"
            ],
            "text/plain": [
              "                      views         likes      dislikes  comment_count\n",
              "views          1.129213e+14  5.326932e+12  9.863330e+10   3.405686e+11\n",
              "likes          5.326932e+12  2.526820e+11  4.471769e+09   1.580614e+10\n",
              "dislikes       9.863330e+10  4.471769e+09  1.764013e+08   5.099234e+08\n",
              "comment_count  3.405686e+11  1.580614e+10  5.099234e+08   1.594242e+09"
            ]
          },
          "metadata": {
            "tags": []
          },
          "execution_count": 18
        }
      ]
    },
    {
      "cell_type": "markdown",
      "metadata": {
        "id": "arvK9QVQANbo"
      },
      "source": [
        "To Find the Pearson's Corelation"
      ]
    },
    {
      "cell_type": "code",
      "metadata": {
        "id": "5T8I2XQW_eEn",
        "colab": {
          "base_uri": "https://localhost:8080/",
          "height": 297
        },
        "outputId": "83f2e296-10d7-4519-b652-80e40570473a"
      },
      "source": [
        "pearsoncorr = yt_df.corr(method='pearson')\n",
        "pearsoncorr"
      ],
      "execution_count": null,
      "outputs": [
        {
          "output_type": "execute_result",
          "data": {
            "text/html": [
              "<div>\n",
              "<style scoped>\n",
              "    .dataframe tbody tr th:only-of-type {\n",
              "        vertical-align: middle;\n",
              "    }\n",
              "\n",
              "    .dataframe tbody tr th {\n",
              "        vertical-align: top;\n",
              "    }\n",
              "\n",
              "    .dataframe thead th {\n",
              "        text-align: right;\n",
              "    }\n",
              "</style>\n",
              "<table border=\"1\" class=\"dataframe\">\n",
              "  <thead>\n",
              "    <tr style=\"text-align: right;\">\n",
              "      <th></th>\n",
              "      <th>category_id</th>\n",
              "      <th>views</th>\n",
              "      <th>likes</th>\n",
              "      <th>dislikes</th>\n",
              "      <th>comment_count</th>\n",
              "      <th>comments_disabled</th>\n",
              "      <th>ratings_disabled</th>\n",
              "      <th>video_error_or_removed</th>\n",
              "    </tr>\n",
              "  </thead>\n",
              "  <tbody>\n",
              "    <tr>\n",
              "      <th>category_id</th>\n",
              "      <td>1.000000</td>\n",
              "      <td>-0.139610</td>\n",
              "      <td>-0.144363</td>\n",
              "      <td>-0.028731</td>\n",
              "      <td>-0.068848</td>\n",
              "      <td>0.038741</td>\n",
              "      <td>0.018377</td>\n",
              "      <td>-0.030002</td>\n",
              "    </tr>\n",
              "    <tr>\n",
              "      <th>views</th>\n",
              "      <td>-0.139610</td>\n",
              "      <td>1.000000</td>\n",
              "      <td>0.828964</td>\n",
              "      <td>0.557621</td>\n",
              "      <td>0.693107</td>\n",
              "      <td>0.004424</td>\n",
              "      <td>0.005745</td>\n",
              "      <td>0.001928</td>\n",
              "    </tr>\n",
              "    <tr>\n",
              "      <th>likes</th>\n",
              "      <td>-0.144363</td>\n",
              "      <td>0.828964</td>\n",
              "      <td>1.000000</td>\n",
              "      <td>0.460427</td>\n",
              "      <td>0.836585</td>\n",
              "      <td>-0.023057</td>\n",
              "      <td>-0.024729</td>\n",
              "      <td>0.001953</td>\n",
              "    </tr>\n",
              "    <tr>\n",
              "      <th>dislikes</th>\n",
              "      <td>-0.028731</td>\n",
              "      <td>0.557621</td>\n",
              "      <td>0.460427</td>\n",
              "      <td>1.000000</td>\n",
              "      <td>0.643494</td>\n",
              "      <td>-0.005282</td>\n",
              "      <td>-0.008762</td>\n",
              "      <td>0.000636</td>\n",
              "    </tr>\n",
              "    <tr>\n",
              "      <th>comment_count</th>\n",
              "      <td>-0.068848</td>\n",
              "      <td>0.693107</td>\n",
              "      <td>0.836585</td>\n",
              "      <td>0.643494</td>\n",
              "      <td>1.000000</td>\n",
              "      <td>-0.028109</td>\n",
              "      <td>-0.016602</td>\n",
              "      <td>0.003117</td>\n",
              "    </tr>\n",
              "    <tr>\n",
              "      <th>comments_disabled</th>\n",
              "      <td>0.038741</td>\n",
              "      <td>0.004424</td>\n",
              "      <td>-0.023057</td>\n",
              "      <td>-0.005282</td>\n",
              "      <td>-0.028109</td>\n",
              "      <td>1.000000</td>\n",
              "      <td>0.147903</td>\n",
              "      <td>-0.003092</td>\n",
              "    </tr>\n",
              "    <tr>\n",
              "      <th>ratings_disabled</th>\n",
              "      <td>0.018377</td>\n",
              "      <td>0.005745</td>\n",
              "      <td>-0.024729</td>\n",
              "      <td>-0.008762</td>\n",
              "      <td>-0.016602</td>\n",
              "      <td>0.147903</td>\n",
              "      <td>1.000000</td>\n",
              "      <td>-0.002131</td>\n",
              "    </tr>\n",
              "    <tr>\n",
              "      <th>video_error_or_removed</th>\n",
              "      <td>-0.030002</td>\n",
              "      <td>0.001928</td>\n",
              "      <td>0.001953</td>\n",
              "      <td>0.000636</td>\n",
              "      <td>0.003117</td>\n",
              "      <td>-0.003092</td>\n",
              "      <td>-0.002131</td>\n",
              "      <td>1.000000</td>\n",
              "    </tr>\n",
              "  </tbody>\n",
              "</table>\n",
              "</div>"
            ],
            "text/plain": [
              "                        category_id  ...  video_error_or_removed\n",
              "category_id                1.000000  ...               -0.030002\n",
              "views                     -0.139610  ...                0.001928\n",
              "likes                     -0.144363  ...                0.001953\n",
              "dislikes                  -0.028731  ...                0.000636\n",
              "comment_count             -0.068848  ...                0.003117\n",
              "comments_disabled          0.038741  ...               -0.003092\n",
              "ratings_disabled           0.018377  ...               -0.002131\n",
              "video_error_or_removed    -0.030002  ...                1.000000\n",
              "\n",
              "[8 rows x 8 columns]"
            ]
          },
          "metadata": {
            "tags": []
          },
          "execution_count": 3
        }
      ]
    },
    {
      "cell_type": "code",
      "metadata": {
        "id": "0RAMtUou_6jE",
        "colab": {
          "base_uri": "https://localhost:8080/",
          "height": 397
        },
        "outputId": "ec07d476-a009-40e4-ca10-a3abee8367e8"
      },
      "source": [
        "sb.heatmap(pearsoncorr, \n",
        "            xticklabels=pearsoncorr.columns,\n",
        "            yticklabels=pearsoncorr.columns,\n",
        "            cmap='RdBu_r',\n",
        "            annot=True,\n",
        "            linewidth=0.5)"
      ],
      "execution_count": null,
      "outputs": [
        {
          "output_type": "execute_result",
          "data": {
            "text/plain": [
              "<matplotlib.axes._subplots.AxesSubplot at 0x7fca9abe6fd0>"
            ]
          },
          "metadata": {
            "tags": []
          },
          "execution_count": 4
        },
        {
          "output_type": "display_data",
          "data": {
            "image/png": "[encoded data removed]",
            "text/plain": [
              "<Figure size 432x288 with 2 Axes>"
            ]
          },
          "metadata": {
            "tags": [],
            "needs_background": "light"
          }
        }
      ]
    },
    {
      "cell_type": "markdown",
      "metadata": {
        "id": "3FQQHxg7CP1D"
      },
      "source": [
        "Correlation Matrix"
      ]
    },
    {
      "cell_type": "code",
      "metadata": {
        "id": "4vrqC-s4AHwL",
        "colab": {
          "base_uri": "https://localhost:8080/",
          "height": 614
        },
        "outputId": "781f8e23-fd2d-4ee9-859f-b06dc0eeff9b"
      },
      "source": [
        "corrmat = yt_df.corr() \n",
        "\n",
        "f, ax = plt.subplots(figsize =(9, 8)) \n",
        "sb.heatmap(corrmat, ax = ax, cmap =\"YlGnBu\", linewidths = 0.1) "
      ],
      "execution_count": null,
      "outputs": [
        {
          "output_type": "execute_result",
          "data": {
            "text/plain": [
              "<matplotlib.axes._subplots.AxesSubplot at 0x7fca9b5ba8d0>"
            ]
          },
          "metadata": {
            "tags": []
          },
          "execution_count": 9
        },
        {
          "output_type": "display_data",
          "data": {
            "image/png": "[encoded data removed]",
            "text/plain": [
              "<Figure size 648x576 with 2 Axes>"
            ]
          },
          "metadata": {
            "tags": [],
            "needs_background": "light"
          }
        }
      ]
    },
    {
      "cell_type": "code",
      "metadata": {
        "id": "y6E2MGtNAsak"
      },
      "source": [
        "viewsList = da['views']\n",
        "likesList  = da['likes']\n",
        "dislikesList  = da['dislikes']\n",
        "commentList = da['comment_count']"
      ],
      "execution_count": null,
      "outputs": []
    },
    {
      "cell_type": "code",
      "metadata": {
        "id": "voje4Uw6H80o",
        "colab": {
          "base_uri": "https://localhost:8080/",
          "height": 51
        },
        "outputId": "dd042ab4-85bf-467c-f254-f1cdc3d08dd2"
      },
      "source": [
        "corr = stats.pearsonr(viewsList,likesList)\n",
        "print('Correlation between number of views and number of likes:\\n',corr)"
      ],
      "execution_count": null,
      "outputs": [
        {
          "output_type": "stream",
          "text": [
            "Correlation between number of views and number of likes:\n",
            " (0.9972455166850847, 2.510165797532818e-10)\n"
          ],
          "name": "stdout"
        }
      ]
    },
    {
      "cell_type": "code",
      "metadata": {
        "id": "yZq8B9FUISp5",
        "colab": {
          "base_uri": "https://localhost:8080/",
          "height": 51
        },
        "outputId": "0fd4b782-a04a-4817-e6e1-a042615b246f"
      },
      "source": [
        "corr = stats.pearsonr(viewsList,dislikesList)\n",
        "print('Correlation between number of views and number of dislikes:\\n',corr)"
      ],
      "execution_count": null,
      "outputs": [
        {
          "output_type": "stream",
          "text": [
            "Correlation between number of views and number of dislikes:\n",
            " (0.6988511529369122, 0.02454128882251851)\n"
          ],
          "name": "stdout"
        }
      ]
    },
    {
      "cell_type": "code",
      "metadata": {
        "id": "Q_IpWEgtIjZZ",
        "colab": {
          "base_uri": "https://localhost:8080/",
          "height": 51
        },
        "outputId": "0def8999-6516-4d1c-f0f5-f4932f1cc48d"
      },
      "source": [
        "corr = stats.pearsonr(likesList,commentList)\n",
        "print('Correlation between number of likes and number of comments:\\n',corr)"
      ],
      "execution_count": null,
      "outputs": [
        {
          "output_type": "stream",
          "text": [
            "Correlation between number of likes and number of comments:\n",
            " (0.7875200209902489, 0.006839054052024207)\n"
          ],
          "name": "stdout"
        }
      ]
    },
    {
      "cell_type": "code",
      "metadata": {
        "id": "8_LXgtXJIqFx",
        "colab": {
          "base_uri": "https://localhost:8080/",
          "height": 51
        },
        "outputId": "253ed428-adc3-4a58-b5af-4ba74c044fa0"
      },
      "source": [
        "chi_square_test = stats.chisquare(viewsList, likesList, axis=0)\n",
        "print('chi-square test of given dataset is:\\n ',chi_square_test)"
      ],
      "execution_count": null,
      "outputs": [
        {
          "output_type": "stream",
          "text": [
            "chi-square test of given dataset is:\n",
            "  Power_divergenceResult(statistic=1246158237.9444573, pvalue=0.0)\n"
          ],
          "name": "stdout"
        }
      ]
    },
    {
      "cell_type": "markdown",
      "metadata": {
        "id": "TnRkt4zQL00J"
      },
      "source": [
        "To find the observed values"
      ]
    },
    {
      "cell_type": "code",
      "metadata": {
        "id": "hEGNE5TEJEpJ",
        "colab": {
          "base_uri": "https://localhost:8080/",
          "height": 204
        },
        "outputId": "14035536-7539-49f3-956a-4bd98d332cc7"
      },
      "source": [
        "obv=da.values\n",
        "print('Observed values are: \\n', obv)"
      ],
      "execution_count": null,
      "outputs": [
        {
          "output_type": "stream",
          "text": [
            "Observed values are: \n",
            " [[17158579   787425    43420   125882]\n",
            " [ 1014651   127794     1688    13030]\n",
            " [ 3191434   146035     5339     8181]\n",
            " [ 2095828   132239     1989    17518]\n",
            " [33523622  1634130    21082    85067]\n",
            " [ 1309699   103755     4613    12143]\n",
            " [ 2987945   187464     9850    26629]\n",
            " [  748374    57534     2967    15959]\n",
            " [ 4477587   292837     4123    36391]\n",
            " [  505161     4135      976     1484]]\n"
          ],
          "name": "stdout"
        }
      ]
    },
    {
      "cell_type": "markdown",
      "metadata": {
        "id": "s4Xn4JU7L5MI"
      },
      "source": [
        "To find the degree of freedom"
      ]
    },
    {
      "cell_type": "code",
      "metadata": {
        "id": "LdxvWTDmJHFx",
        "colab": {
          "base_uri": "https://localhost:8080/",
          "height": 34
        },
        "outputId": "7c1c7b43-136a-45a3-f5c1-9bc8a3fcb5d2"
      },
      "source": [
        "no_of_rows=len(da.iloc[9]) \n",
        "no_of_columns=len(da.iloc[3]) \n",
        "ddof=(no_of_rows-1)*(no_of_columns-1) \n",
        "print(\"Degree of Freedom: -\",ddof)\n",
        "alpha = 0.05 # 5%"
      ],
      "execution_count": null,
      "outputs": [
        {
          "output_type": "stream",
          "text": [
            "Degree of Freedom: - 9\n"
          ],
          "name": "stdout"
        }
      ]
    },
    {
      "cell_type": "markdown",
      "metadata": {
        "id": "cJOOpP1dL9sY"
      },
      "source": [
        "To find the expected value"
      ]
    },
    {
      "cell_type": "code",
      "metadata": {
        "id": "-Oq6bGWwJXN4",
        "colab": {
          "base_uri": "https://localhost:8080/",
          "height": 255
        },
        "outputId": "ccfafe0f-3cd8-40c2-d79c-61301a218143"
      },
      "source": [
        "exv = stats.chi2_contingency(da)\n",
        "print('Expected values are:')\n",
        "exv"
      ],
      "execution_count": null,
      "outputs": [
        {
          "output_type": "stream",
          "text": [
            "Expected values are:\n"
          ],
          "name": "stdout"
        },
        {
          "output_type": "execute_result",
          "data": {
            "text/plain": [
              "(363414.1941129145,\n",
              " 0.0,\n",
              " 27,\n",
              " array([[1.71161985e+07, 8.87150555e+05, 2.45319931e+04, 8.74249976e+04],\n",
              "        [1.09334237e+06, 5.66690840e+04, 1.56704583e+03, 5.58450255e+03],\n",
              "        [3.16617300e+06, 1.64106074e+05, 4.53795477e+03, 1.61719711e+04],\n",
              "        [2.12361429e+06, 1.10069160e+05, 3.04369520e+03, 1.08468580e+04],\n",
              "        [3.33190026e+07, 1.72695892e+06, 4.77548531e+04, 1.70184620e+05],\n",
              "        [1.35133010e+06, 7.00408591e+04, 1.93680979e+03, 6.90223537e+03],\n",
              "        [3.03474379e+06, 1.57293960e+05, 4.34958230e+03, 1.55006656e+04],\n",
              "        [7.79342200e+05, 4.03941253e+04, 1.11700139e+03, 3.98067305e+03],\n",
              "        [4.54560191e+06, 2.35603324e+05, 6.51503751e+03, 2.32177278e+04],\n",
              "        [4.83531289e+05, 2.50619349e+04, 6.93026918e+02, 2.46974945e+03]]))"
            ]
          },
          "metadata": {
            "tags": []
          },
          "execution_count": 48
        }
      ]
    },
    {
      "cell_type": "markdown",
      "metadata": {
        "id": "R4h7XHakMBLo"
      },
      "source": [
        "To perform the chi square test"
      ]
    },
    {
      "cell_type": "code",
      "metadata": {
        "id": "TR0DHnJUJavR",
        "colab": {
          "base_uri": "https://localhost:8080/",
          "height": 51
        },
        "outputId": "50105747-bebf-4c80-8bb4-b20c34f36c41"
      },
      "source": [
        "from scipy.stats import chi2\n",
        "chi_square=sum([(o-e)**2./e for o,e in zip(obv, exv)]) \n",
        "chi_square_statistic=chi_square[0]+chi_square[1]\n"
      ],
      "execution_count": null,
      "outputs": [
        {
          "output_type": "stream",
          "text": [
            "/usr/local/lib/python3.6/dist-packages/ipykernel_launcher.py:2: RuntimeWarning: divide by zero encountered in true_divide\n",
            "  \n"
          ],
          "name": "stderr"
        }
      ]
    },
    {
      "cell_type": "code",
      "metadata": {
        "id": "jszIL-0fJdwh",
        "colab": {
          "base_uri": "https://localhost:8080/",
          "height": 34
        },
        "outputId": "4b2e03ce-91c4-4374-8920-3350142932e1"
      },
      "source": [
        "print(chi_square_statistic)"
      ],
      "execution_count": null,
      "outputs": [
        {
          "output_type": "stream",
          "text": [
            "[inf inf inf inf]\n"
          ],
          "name": "stdout"
        }
      ]
    },
    {
      "cell_type": "markdown",
      "metadata": {
        "id": "odrRCu4zMHnp"
      },
      "source": [
        "To find the critical value"
      ]
    },
    {
      "cell_type": "code",
      "metadata": {
        "id": "tAkeec0hJl-J",
        "colab": {
          "base_uri": "https://localhost:8080/",
          "height": 34
        },
        "outputId": "145238b5-181f-4323-a303-e4b08ec50a31"
      },
      "source": [
        "critical_value=chi2.ppf(q=1-alpha,df=ddof)\n",
        "print(critical_value)"
      ],
      "execution_count": null,
      "outputs": [
        {
          "output_type": "stream",
          "text": [
            "16.918977604620448\n"
          ],
          "name": "stdout"
        }
      ]
    },
    {
      "cell_type": "code",
      "metadata": {
        "id": "UnCwNSu-KA9K",
        "colab": {
          "base_uri": "https://localhost:8080/",
          "height": 68
        },
        "outputId": "926065de-9302-455d-e4bf-d892f4634de1"
      },
      "source": [
        "p_value=1-chi2.cdf(x=chi_square_statistic,df=ddof)\n",
        "print('p-value', p_value) # p-value of all 4 columns\n",
        "print('significance level: ',alpha)\n",
        "print('Degree of freedom: ',ddof) "
      ],
      "execution_count": null,
      "outputs": [
        {
          "output_type": "stream",
          "text": [
            "p-value [0. 0. 0. 0.]\n",
            "significance level:  0.05\n",
            "Degree of freedom:  9\n"
          ],
          "name": "stdout"
        }
      ]
    },
    {
      "cell_type": "code",
      "metadata": {
        "id": "T_FgHjwaKDPJ"
      },
      "source": [
        ""
      ],
      "execution_count": null,
      "outputs": []
    }
  ]
}